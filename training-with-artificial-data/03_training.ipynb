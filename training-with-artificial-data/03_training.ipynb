{
 "cells": [
  {
   "cell_type": "markdown",
   "id": "unusual-blade",
   "metadata": {},
   "source": [
    "# Training with scikit-learn"
   ]
  },
  {
   "cell_type": "code",
   "execution_count": 34,
   "id": "impressive-poison",
   "metadata": {},
   "outputs": [],
   "source": [
    "import os\n",
    "import pickle\n",
    "\n",
    "from imblearn.combine import SMOTETomek\n",
    "from imblearn.over_sampling import SMOTE\n",
    "from matplotlib import pyplot\n",
    "import numpy as np\n",
    "import pandas as pd\n",
    "from sklearn.ensemble import GradientBoostingClassifier\n",
    "from sklearn.metrics import classification_report, auc, precision_recall_curve, f1_score\n",
    "from sklearn.model_selection import train_test_split"
   ]
  },
  {
   "cell_type": "code",
   "execution_count": 2,
   "id": "determined-radius",
   "metadata": {},
   "outputs": [],
   "source": [
    "data_dir = 'data_0419_0'\n",
    "train_file_path = os.path.join(data_dir, 'train.csv')"
   ]
  },
  {
   "cell_type": "code",
   "execution_count": 3,
   "id": "technical-mapping",
   "metadata": {},
   "outputs": [
    {
     "name": "stdout",
     "output_type": "stream",
     "text": [
      "<class 'pandas.core.frame.DataFrame'>\n",
      "RangeIndex: 2821568 entries, 0 to 2821567\n",
      "Data columns (total 25 columns):\n",
      " #   Column                       Dtype  \n",
      "---  ------                       -----  \n",
      " 0   coupon_used                  int64  \n",
      " 1   cust_mean_buy_price          float64\n",
      " 2   cust_total_coupons           float64\n",
      " 3   cust_mean_discount           float64\n",
      " 4   cust_unique_products         float64\n",
      " 5   cust_unique_products_coupon  float64\n",
      " 6   cust_total_products          float64\n",
      " 7   coupon_discount              int64  \n",
      " 8   coupon_how_many              int64  \n",
      " 9   coupon_mean_prod_price       float64\n",
      " 10  coupon_prods_avail           int64  \n",
      " 11  cust_gender_F                int64  \n",
      " 12  cust_gender_M                int64  \n",
      " 13  cust_age_mid                 int64  \n",
      " 14  cust_age_old                 int64  \n",
      " 15  cust_age_young               int64  \n",
      " 16  coupon_type_buy_all          int64  \n",
      " 17  coupon_type_buy_more         int64  \n",
      " 18  coupon_type_department       int64  \n",
      " 19  coupon_type_just_discount    int64  \n",
      " 20  coupon_dpt_Boys              int64  \n",
      " 21  coupon_dpt_Girls             int64  \n",
      " 22  coupon_dpt_Men               int64  \n",
      " 23  coupon_dpt_Sport             int64  \n",
      " 24  coupon_dpt_Women             int64  \n",
      "dtypes: float64(7), int64(18)\n",
      "memory usage: 538.2 MB\n"
     ]
    }
   ],
   "source": [
    "train = pd.read_csv(train_file_path)\n",
    "train.info()"
   ]
  },
  {
   "cell_type": "code",
   "execution_count": 4,
   "id": "federal-character",
   "metadata": {},
   "outputs": [
    {
     "data": {
      "text/html": [
       "<div>\n",
       "<style scoped>\n",
       "    .dataframe tbody tr th:only-of-type {\n",
       "        vertical-align: middle;\n",
       "    }\n",
       "\n",
       "    .dataframe tbody tr th {\n",
       "        vertical-align: top;\n",
       "    }\n",
       "\n",
       "    .dataframe thead th {\n",
       "        text-align: right;\n",
       "    }\n",
       "</style>\n",
       "<table border=\"1\" class=\"dataframe\">\n",
       "  <thead>\n",
       "    <tr style=\"text-align: right;\">\n",
       "      <th></th>\n",
       "      <th>coupon_used</th>\n",
       "      <th>cust_mean_buy_price</th>\n",
       "      <th>cust_total_coupons</th>\n",
       "      <th>cust_mean_discount</th>\n",
       "      <th>cust_unique_products</th>\n",
       "      <th>cust_unique_products_coupon</th>\n",
       "      <th>cust_total_products</th>\n",
       "      <th>coupon_discount</th>\n",
       "      <th>coupon_how_many</th>\n",
       "      <th>coupon_mean_prod_price</th>\n",
       "      <th>...</th>\n",
       "      <th>cust_age_young</th>\n",
       "      <th>coupon_type_buy_all</th>\n",
       "      <th>coupon_type_buy_more</th>\n",
       "      <th>coupon_type_department</th>\n",
       "      <th>coupon_type_just_discount</th>\n",
       "      <th>coupon_dpt_Boys</th>\n",
       "      <th>coupon_dpt_Girls</th>\n",
       "      <th>coupon_dpt_Men</th>\n",
       "      <th>coupon_dpt_Sport</th>\n",
       "      <th>coupon_dpt_Women</th>\n",
       "    </tr>\n",
       "  </thead>\n",
       "  <tbody>\n",
       "    <tr>\n",
       "      <th>2144394</th>\n",
       "      <td>0</td>\n",
       "      <td>12.14</td>\n",
       "      <td>801.0</td>\n",
       "      <td>9.40</td>\n",
       "      <td>1580.0</td>\n",
       "      <td>541.0</td>\n",
       "      <td>2862.0</td>\n",
       "      <td>69</td>\n",
       "      <td>3</td>\n",
       "      <td>6.14</td>\n",
       "      <td>...</td>\n",
       "      <td>0</td>\n",
       "      <td>1</td>\n",
       "      <td>0</td>\n",
       "      <td>0</td>\n",
       "      <td>0</td>\n",
       "      <td>0</td>\n",
       "      <td>0</td>\n",
       "      <td>0</td>\n",
       "      <td>1</td>\n",
       "      <td>0</td>\n",
       "    </tr>\n",
       "    <tr>\n",
       "      <th>1628137</th>\n",
       "      <td>0</td>\n",
       "      <td>14.02</td>\n",
       "      <td>2753.0</td>\n",
       "      <td>11.99</td>\n",
       "      <td>2338.0</td>\n",
       "      <td>1081.0</td>\n",
       "      <td>8048.0</td>\n",
       "      <td>16</td>\n",
       "      <td>3</td>\n",
       "      <td>3.09</td>\n",
       "      <td>...</td>\n",
       "      <td>0</td>\n",
       "      <td>0</td>\n",
       "      <td>1</td>\n",
       "      <td>0</td>\n",
       "      <td>0</td>\n",
       "      <td>0</td>\n",
       "      <td>0</td>\n",
       "      <td>0</td>\n",
       "      <td>0</td>\n",
       "      <td>1</td>\n",
       "    </tr>\n",
       "    <tr>\n",
       "      <th>2402222</th>\n",
       "      <td>0</td>\n",
       "      <td>12.90</td>\n",
       "      <td>1972.0</td>\n",
       "      <td>10.04</td>\n",
       "      <td>2082.0</td>\n",
       "      <td>916.0</td>\n",
       "      <td>6640.0</td>\n",
       "      <td>42</td>\n",
       "      <td>5</td>\n",
       "      <td>8.81</td>\n",
       "      <td>...</td>\n",
       "      <td>0</td>\n",
       "      <td>1</td>\n",
       "      <td>0</td>\n",
       "      <td>0</td>\n",
       "      <td>0</td>\n",
       "      <td>0</td>\n",
       "      <td>0</td>\n",
       "      <td>1</td>\n",
       "      <td>0</td>\n",
       "      <td>0</td>\n",
       "    </tr>\n",
       "    <tr>\n",
       "      <th>6187</th>\n",
       "      <td>0</td>\n",
       "      <td>11.31</td>\n",
       "      <td>52.0</td>\n",
       "      <td>9.82</td>\n",
       "      <td>156.0</td>\n",
       "      <td>51.0</td>\n",
       "      <td>171.0</td>\n",
       "      <td>61</td>\n",
       "      <td>3</td>\n",
       "      <td>8.43</td>\n",
       "      <td>...</td>\n",
       "      <td>0</td>\n",
       "      <td>1</td>\n",
       "      <td>0</td>\n",
       "      <td>0</td>\n",
       "      <td>0</td>\n",
       "      <td>0</td>\n",
       "      <td>0</td>\n",
       "      <td>0</td>\n",
       "      <td>0</td>\n",
       "      <td>1</td>\n",
       "    </tr>\n",
       "    <tr>\n",
       "      <th>967636</th>\n",
       "      <td>0</td>\n",
       "      <td>13.63</td>\n",
       "      <td>2185.0</td>\n",
       "      <td>10.57</td>\n",
       "      <td>2113.0</td>\n",
       "      <td>1001.0</td>\n",
       "      <td>6950.0</td>\n",
       "      <td>18</td>\n",
       "      <td>5</td>\n",
       "      <td>5.23</td>\n",
       "      <td>...</td>\n",
       "      <td>0</td>\n",
       "      <td>0</td>\n",
       "      <td>1</td>\n",
       "      <td>0</td>\n",
       "      <td>0</td>\n",
       "      <td>0</td>\n",
       "      <td>0</td>\n",
       "      <td>1</td>\n",
       "      <td>0</td>\n",
       "      <td>0</td>\n",
       "    </tr>\n",
       "    <tr>\n",
       "      <th>2640588</th>\n",
       "      <td>0</td>\n",
       "      <td>12.63</td>\n",
       "      <td>1097.0</td>\n",
       "      <td>10.21</td>\n",
       "      <td>1766.0</td>\n",
       "      <td>657.0</td>\n",
       "      <td>4000.0</td>\n",
       "      <td>18</td>\n",
       "      <td>1</td>\n",
       "      <td>6.91</td>\n",
       "      <td>...</td>\n",
       "      <td>1</td>\n",
       "      <td>0</td>\n",
       "      <td>0</td>\n",
       "      <td>0</td>\n",
       "      <td>1</td>\n",
       "      <td>0</td>\n",
       "      <td>0</td>\n",
       "      <td>1</td>\n",
       "      <td>0</td>\n",
       "      <td>0</td>\n",
       "    </tr>\n",
       "    <tr>\n",
       "      <th>2812685</th>\n",
       "      <td>0</td>\n",
       "      <td>13.24</td>\n",
       "      <td>311.0</td>\n",
       "      <td>10.82</td>\n",
       "      <td>857.0</td>\n",
       "      <td>257.0</td>\n",
       "      <td>1076.0</td>\n",
       "      <td>23</td>\n",
       "      <td>3</td>\n",
       "      <td>9.60</td>\n",
       "      <td>...</td>\n",
       "      <td>0</td>\n",
       "      <td>0</td>\n",
       "      <td>1</td>\n",
       "      <td>0</td>\n",
       "      <td>0</td>\n",
       "      <td>0</td>\n",
       "      <td>0</td>\n",
       "      <td>1</td>\n",
       "      <td>0</td>\n",
       "      <td>0</td>\n",
       "    </tr>\n",
       "    <tr>\n",
       "      <th>521062</th>\n",
       "      <td>0</td>\n",
       "      <td>13.82</td>\n",
       "      <td>1978.0</td>\n",
       "      <td>11.67</td>\n",
       "      <td>2152.0</td>\n",
       "      <td>949.0</td>\n",
       "      <td>6160.0</td>\n",
       "      <td>9</td>\n",
       "      <td>1</td>\n",
       "      <td>8.03</td>\n",
       "      <td>...</td>\n",
       "      <td>0</td>\n",
       "      <td>0</td>\n",
       "      <td>0</td>\n",
       "      <td>0</td>\n",
       "      <td>1</td>\n",
       "      <td>0</td>\n",
       "      <td>0</td>\n",
       "      <td>0</td>\n",
       "      <td>1</td>\n",
       "      <td>0</td>\n",
       "    </tr>\n",
       "    <tr>\n",
       "      <th>2207723</th>\n",
       "      <td>0</td>\n",
       "      <td>14.38</td>\n",
       "      <td>631.0</td>\n",
       "      <td>9.60</td>\n",
       "      <td>1273.0</td>\n",
       "      <td>433.0</td>\n",
       "      <td>2078.0</td>\n",
       "      <td>18</td>\n",
       "      <td>1</td>\n",
       "      <td>6.04</td>\n",
       "      <td>...</td>\n",
       "      <td>0</td>\n",
       "      <td>0</td>\n",
       "      <td>0</td>\n",
       "      <td>0</td>\n",
       "      <td>1</td>\n",
       "      <td>1</td>\n",
       "      <td>0</td>\n",
       "      <td>0</td>\n",
       "      <td>0</td>\n",
       "      <td>0</td>\n",
       "    </tr>\n",
       "    <tr>\n",
       "      <th>80030</th>\n",
       "      <td>0</td>\n",
       "      <td>14.81</td>\n",
       "      <td>258.0</td>\n",
       "      <td>8.53</td>\n",
       "      <td>675.0</td>\n",
       "      <td>228.0</td>\n",
       "      <td>885.0</td>\n",
       "      <td>43</td>\n",
       "      <td>4</td>\n",
       "      <td>9.57</td>\n",
       "      <td>...</td>\n",
       "      <td>0</td>\n",
       "      <td>0</td>\n",
       "      <td>1</td>\n",
       "      <td>0</td>\n",
       "      <td>0</td>\n",
       "      <td>0</td>\n",
       "      <td>0</td>\n",
       "      <td>1</td>\n",
       "      <td>0</td>\n",
       "      <td>0</td>\n",
       "    </tr>\n",
       "  </tbody>\n",
       "</table>\n",
       "<p>10 rows × 25 columns</p>\n",
       "</div>"
      ],
      "text/plain": [
       "         coupon_used  cust_mean_buy_price  cust_total_coupons  \\\n",
       "2144394            0                12.14               801.0   \n",
       "1628137            0                14.02              2753.0   \n",
       "2402222            0                12.90              1972.0   \n",
       "6187               0                11.31                52.0   \n",
       "967636             0                13.63              2185.0   \n",
       "2640588            0                12.63              1097.0   \n",
       "2812685            0                13.24               311.0   \n",
       "521062             0                13.82              1978.0   \n",
       "2207723            0                14.38               631.0   \n",
       "80030              0                14.81               258.0   \n",
       "\n",
       "         cust_mean_discount  cust_unique_products  \\\n",
       "2144394                9.40                1580.0   \n",
       "1628137               11.99                2338.0   \n",
       "2402222               10.04                2082.0   \n",
       "6187                   9.82                 156.0   \n",
       "967636                10.57                2113.0   \n",
       "2640588               10.21                1766.0   \n",
       "2812685               10.82                 857.0   \n",
       "521062                11.67                2152.0   \n",
       "2207723                9.60                1273.0   \n",
       "80030                  8.53                 675.0   \n",
       "\n",
       "         cust_unique_products_coupon  cust_total_products  coupon_discount  \\\n",
       "2144394                        541.0               2862.0               69   \n",
       "1628137                       1081.0               8048.0               16   \n",
       "2402222                        916.0               6640.0               42   \n",
       "6187                            51.0                171.0               61   \n",
       "967636                        1001.0               6950.0               18   \n",
       "2640588                        657.0               4000.0               18   \n",
       "2812685                        257.0               1076.0               23   \n",
       "521062                         949.0               6160.0                9   \n",
       "2207723                        433.0               2078.0               18   \n",
       "80030                          228.0                885.0               43   \n",
       "\n",
       "         coupon_how_many  coupon_mean_prod_price  ...  cust_age_young  \\\n",
       "2144394                3                    6.14  ...               0   \n",
       "1628137                3                    3.09  ...               0   \n",
       "2402222                5                    8.81  ...               0   \n",
       "6187                   3                    8.43  ...               0   \n",
       "967636                 5                    5.23  ...               0   \n",
       "2640588                1                    6.91  ...               1   \n",
       "2812685                3                    9.60  ...               0   \n",
       "521062                 1                    8.03  ...               0   \n",
       "2207723                1                    6.04  ...               0   \n",
       "80030                  4                    9.57  ...               0   \n",
       "\n",
       "         coupon_type_buy_all  coupon_type_buy_more  coupon_type_department  \\\n",
       "2144394                    1                     0                       0   \n",
       "1628137                    0                     1                       0   \n",
       "2402222                    1                     0                       0   \n",
       "6187                       1                     0                       0   \n",
       "967636                     0                     1                       0   \n",
       "2640588                    0                     0                       0   \n",
       "2812685                    0                     1                       0   \n",
       "521062                     0                     0                       0   \n",
       "2207723                    0                     0                       0   \n",
       "80030                      0                     1                       0   \n",
       "\n",
       "         coupon_type_just_discount  coupon_dpt_Boys  coupon_dpt_Girls  \\\n",
       "2144394                          0                0                 0   \n",
       "1628137                          0                0                 0   \n",
       "2402222                          0                0                 0   \n",
       "6187                             0                0                 0   \n",
       "967636                           0                0                 0   \n",
       "2640588                          1                0                 0   \n",
       "2812685                          0                0                 0   \n",
       "521062                           1                0                 0   \n",
       "2207723                          1                1                 0   \n",
       "80030                            0                0                 0   \n",
       "\n",
       "         coupon_dpt_Men  coupon_dpt_Sport  coupon_dpt_Women  \n",
       "2144394               0                 1                 0  \n",
       "1628137               0                 0                 1  \n",
       "2402222               1                 0                 0  \n",
       "6187                  0                 0                 1  \n",
       "967636                1                 0                 0  \n",
       "2640588               1                 0                 0  \n",
       "2812685               1                 0                 0  \n",
       "521062                0                 1                 0  \n",
       "2207723               0                 0                 0  \n",
       "80030                 1                 0                 0  \n",
       "\n",
       "[10 rows x 25 columns]"
      ]
     },
     "execution_count": 4,
     "metadata": {},
     "output_type": "execute_result"
    }
   ],
   "source": [
    "train.sample(10)"
   ]
  },
  {
   "cell_type": "code",
   "execution_count": 5,
   "id": "natural-argentina",
   "metadata": {},
   "outputs": [
    {
     "data": {
      "text/plain": [
       "0    0.905772\n",
       "1    0.094228\n",
       "Name: coupon_used, dtype: float64"
      ]
     },
     "execution_count": 5,
     "metadata": {},
     "output_type": "execute_result"
    }
   ],
   "source": [
    "train.coupon_used.value_counts(normalize=True)"
   ]
  },
  {
   "cell_type": "code",
   "execution_count": 6,
   "id": "congressional-hartford",
   "metadata": {},
   "outputs": [],
   "source": [
    "y_train = train['coupon_used']\n",
    "X_train = train.drop(['coupon_used'], axis=1)\n",
    "X_train, X_test, y_train, y_test = train_test_split(X_train, y_train, test_size=0.2, random_state=1)"
   ]
  },
  {
   "cell_type": "code",
   "execution_count": 7,
   "id": "published-retrieval",
   "metadata": {},
   "outputs": [],
   "source": [
    "X_all = X_train.append(X_test)\n",
    "y_all = y_train.append(y_test)"
   ]
  },
  {
   "cell_type": "code",
   "execution_count": 8,
   "id": "incredible-secretariat",
   "metadata": {},
   "outputs": [],
   "source": [
    "def plot_pr_curve(probs, preds, y, legend=''):\n",
    "    precision, recall, _ = precision_recall_curve(y, probs)\n",
    "    f1_, auc_ = f1_score(y, preds), auc(recall, precision)\n",
    "    # summarize scores\n",
    "    print(f'{legend}:\\nf1={round(f1_, 3)} auc={round(auc_, 3)}')\n",
    "    # plot the precision-recall curves\n",
    "    no_skill = len(y[y==1]) / len(y)\n",
    "    pyplot.plot([0, 1], [no_skill, no_skill], linestyle='--', label='No Skill')\n",
    "    pyplot.plot(recall, precision, marker='.', label='GBM')\n",
    "    # axis labels\n",
    "    pyplot.xlabel('Recall')\n",
    "    pyplot.ylabel('Precision')\n",
    "    # show the legend\n",
    "    pyplot.legend()\n",
    "    # show the plot\n",
    "    pyplot.show()"
   ]
  },
  {
   "cell_type": "code",
   "execution_count": 9,
   "id": "cleared-national",
   "metadata": {},
   "outputs": [],
   "source": [
    "gbm_params = {\n",
    "    'n_estimators': 65,\n",
    "    'max_depth': 10,\n",
    "    'max_leaf_nodes': 966\n",
    "}"
   ]
  },
  {
   "cell_type": "markdown",
   "id": "exclusive-enlargement",
   "metadata": {},
   "source": [
    "## 1. Training with no balancing"
   ]
  },
  {
   "cell_type": "code",
   "execution_count": 10,
   "id": "modern-fleece",
   "metadata": {},
   "outputs": [
    {
     "data": {
      "text/plain": [
       "GradientBoostingClassifier(max_depth=10, max_leaf_nodes=966, n_estimators=65)"
      ]
     },
     "execution_count": 10,
     "metadata": {},
     "output_type": "execute_result"
    }
   ],
   "source": [
    "gbm = GradientBoostingClassifier(**gbm_params)\n",
    "gbm.fit(X_train, y_train)"
   ]
  },
  {
   "cell_type": "markdown",
   "id": "documented-county",
   "metadata": {},
   "source": [
    "#### 1.1. Evaluating on the test dataset"
   ]
  },
  {
   "cell_type": "code",
   "execution_count": 11,
   "id": "oriental-backing",
   "metadata": {},
   "outputs": [],
   "source": [
    "probs = gbm.predict_proba(X_test)[:, 1]\n",
    "preds = gbm.predict(X_test)"
   ]
  },
  {
   "cell_type": "code",
   "execution_count": 12,
   "id": "alleged-modern",
   "metadata": {},
   "outputs": [
    {
     "name": "stdout",
     "output_type": "stream",
     "text": [
      "GBM trained on an unbalanced dataset, evaluated on the test dataset:\n",
      "f1=0.345 auc=0.403\n"
     ]
    },
    {
     "data": {
      "image/png": "[encoded data removed]",
      "text/plain": [
       "<Figure size 432x288 with 1 Axes>"
      ]
     },
     "metadata": {
      "needs_background": "light"
     },
     "output_type": "display_data"
    }
   ],
   "source": [
    "plot_pr_curve(probs, preds, y=y_test, legend='GBM trained on an unbalanced dataset, evaluated on the test dataset')"
   ]
  },
  {
   "cell_type": "code",
   "execution_count": 13,
   "id": "executed-seattle",
   "metadata": {},
   "outputs": [
    {
     "data": {
      "text/html": [
       "<div>\n",
       "<style scoped>\n",
       "    .dataframe tbody tr th:only-of-type {\n",
       "        vertical-align: middle;\n",
       "    }\n",
       "\n",
       "    .dataframe tbody tr th {\n",
       "        vertical-align: top;\n",
       "    }\n",
       "\n",
       "    .dataframe thead th {\n",
       "        text-align: right;\n",
       "    }\n",
       "</style>\n",
       "<table border=\"1\" class=\"dataframe\">\n",
       "  <thead>\n",
       "    <tr style=\"text-align: right;\">\n",
       "      <th>Predicted</th>\n",
       "      <th>0</th>\n",
       "      <th>1</th>\n",
       "      <th>All</th>\n",
       "    </tr>\n",
       "    <tr>\n",
       "      <th>Actual</th>\n",
       "      <th></th>\n",
       "      <th></th>\n",
       "      <th></th>\n",
       "    </tr>\n",
       "  </thead>\n",
       "  <tbody>\n",
       "    <tr>\n",
       "      <th>0</th>\n",
       "      <td>508949</td>\n",
       "      <td>2193</td>\n",
       "      <td>511142</td>\n",
       "    </tr>\n",
       "    <tr>\n",
       "      <th>1</th>\n",
       "      <td>41614</td>\n",
       "      <td>11558</td>\n",
       "      <td>53172</td>\n",
       "    </tr>\n",
       "    <tr>\n",
       "      <th>All</th>\n",
       "      <td>550563</td>\n",
       "      <td>13751</td>\n",
       "      <td>564314</td>\n",
       "    </tr>\n",
       "  </tbody>\n",
       "</table>\n",
       "</div>"
      ],
      "text/plain": [
       "Predicted       0      1     All\n",
       "Actual                          \n",
       "0          508949   2193  511142\n",
       "1           41614  11558   53172\n",
       "All        550563  13751  564314"
      ]
     },
     "execution_count": 13,
     "metadata": {},
     "output_type": "execute_result"
    }
   ],
   "source": [
    "pd.crosstab(y_test, preds, rownames=['Actual'], colnames=['Predicted'], margins=True)"
   ]
  },
  {
   "cell_type": "code",
   "execution_count": 14,
   "id": "extraordinary-fisher",
   "metadata": {},
   "outputs": [
    {
     "name": "stdout",
     "output_type": "stream",
     "text": [
      "              precision    recall  f1-score   support\n",
      "\n",
      "           0       0.92      1.00      0.96    511142\n",
      "           1       0.84      0.22      0.35     53172\n",
      "\n",
      "    accuracy                           0.92    564314\n",
      "   macro avg       0.88      0.61      0.65    564314\n",
      "weighted avg       0.92      0.92      0.90    564314\n",
      "\n"
     ]
    }
   ],
   "source": [
    "print(classification_report(y_test, preds))"
   ]
  },
  {
   "cell_type": "markdown",
   "id": "regulated-imperial",
   "metadata": {},
   "source": [
    "#### 1.2 Evaluating on the whole dataset"
   ]
  },
  {
   "cell_type": "code",
   "execution_count": 15,
   "id": "declared-tyler",
   "metadata": {},
   "outputs": [],
   "source": [
    "probs = gbm.predict_proba(X_all)[:, 1]\n",
    "preds = gbm.predict(X_all)"
   ]
  },
  {
   "cell_type": "code",
   "execution_count": 16,
   "id": "married-garlic",
   "metadata": {},
   "outputs": [
    {
     "name": "stdout",
     "output_type": "stream",
     "text": [
      "GBM trained on an unbalanced dataset, evaluated on the whole dataset:\n",
      "f1=0.351 auc=0.439\n"
     ]
    },
    {
     "data": {
      "image/png": "[encoded data removed]",
      "text/plain": [
       "<Figure size 432x288 with 1 Axes>"
      ]
     },
     "metadata": {
      "needs_background": "light"
     },
     "output_type": "display_data"
    }
   ],
   "source": [
    "plot_pr_curve(probs, preds, y=y_all, legend='GBM trained on an unbalanced dataset, evaluated on the whole dataset')"
   ]
  },
  {
   "cell_type": "code",
   "execution_count": 17,
   "id": "funky-integral",
   "metadata": {},
   "outputs": [
    {
     "data": {
      "text/html": [
       "<div>\n",
       "<style scoped>\n",
       "    .dataframe tbody tr th:only-of-type {\n",
       "        vertical-align: middle;\n",
       "    }\n",
       "\n",
       "    .dataframe tbody tr th {\n",
       "        vertical-align: top;\n",
       "    }\n",
       "\n",
       "    .dataframe thead th {\n",
       "        text-align: right;\n",
       "    }\n",
       "</style>\n",
       "<table border=\"1\" class=\"dataframe\">\n",
       "  <thead>\n",
       "    <tr style=\"text-align: right;\">\n",
       "      <th>Predicted</th>\n",
       "      <th>0</th>\n",
       "      <th>1</th>\n",
       "      <th>All</th>\n",
       "    </tr>\n",
       "    <tr>\n",
       "      <th>Actual</th>\n",
       "      <th></th>\n",
       "      <th></th>\n",
       "      <th></th>\n",
       "    </tr>\n",
       "  </thead>\n",
       "  <tbody>\n",
       "    <tr>\n",
       "      <th>0</th>\n",
       "      <td>2544917</td>\n",
       "      <td>10779</td>\n",
       "      <td>2555696</td>\n",
       "    </tr>\n",
       "    <tr>\n",
       "      <th>1</th>\n",
       "      <td>207011</td>\n",
       "      <td>58861</td>\n",
       "      <td>265872</td>\n",
       "    </tr>\n",
       "    <tr>\n",
       "      <th>All</th>\n",
       "      <td>2751928</td>\n",
       "      <td>69640</td>\n",
       "      <td>2821568</td>\n",
       "    </tr>\n",
       "  </tbody>\n",
       "</table>\n",
       "</div>"
      ],
      "text/plain": [
       "Predicted        0      1      All\n",
       "Actual                            \n",
       "0          2544917  10779  2555696\n",
       "1           207011  58861   265872\n",
       "All        2751928  69640  2821568"
      ]
     },
     "execution_count": 17,
     "metadata": {},
     "output_type": "execute_result"
    }
   ],
   "source": [
    "pd.crosstab(y_all, preds, rownames=['Actual'], colnames=['Predicted'], margins=True)"
   ]
  },
  {
   "cell_type": "code",
   "execution_count": 18,
   "id": "separated-sugar",
   "metadata": {},
   "outputs": [
    {
     "name": "stdout",
     "output_type": "stream",
     "text": [
      "              precision    recall  f1-score   support\n",
      "\n",
      "           0       0.92      1.00      0.96   2555696\n",
      "           1       0.85      0.22      0.35    265872\n",
      "\n",
      "    accuracy                           0.92   2821568\n",
      "   macro avg       0.88      0.61      0.65   2821568\n",
      "weighted avg       0.92      0.92      0.90   2821568\n",
      "\n"
     ]
    }
   ],
   "source": [
    "print(classification_report(y_all, preds))"
   ]
  },
  {
   "cell_type": "markdown",
   "id": "hollow-complex",
   "metadata": {},
   "source": [
    "#### 1.3. Pickle the model"
   ]
  },
  {
   "cell_type": "code",
   "execution_count": 19,
   "id": "sensitive-reggae",
   "metadata": {},
   "outputs": [],
   "source": [
    "with open(os.path.join(data_dir, 'pickled_model_gbm_no_balancing'), 'wb') as f:\n",
    "    pickle.dump(gbm, f)"
   ]
  },
  {
   "cell_type": "markdown",
   "id": "uniform-malaysia",
   "metadata": {},
   "source": [
    "## 2. Training with balancing (SMOTE)"
   ]
  },
  {
   "cell_type": "markdown",
   "id": "republican-foundation",
   "metadata": {},
   "source": [
    "#### 3.1. Balancing"
   ]
  },
  {
   "cell_type": "code",
   "execution_count": 20,
   "id": "congressional-suffering",
   "metadata": {},
   "outputs": [],
   "source": [
    "smote = SMOTE(sampling_strategy=0.5)\n",
    "X_train_sm, y_train_sm = smote.fit_resample(X_train, y_train)"
   ]
  },
  {
   "cell_type": "code",
   "execution_count": 21,
   "id": "framed-objective",
   "metadata": {},
   "outputs": [
    {
     "data": {
      "text/plain": [
       "0    0.666667\n",
       "1    0.333333\n",
       "Name: coupon_used, dtype: float64"
      ]
     },
     "execution_count": 21,
     "metadata": {},
     "output_type": "execute_result"
    }
   ],
   "source": [
    "y_train_sm.value_counts(normalize=True)"
   ]
  },
  {
   "cell_type": "markdown",
   "id": "voluntary-orlando",
   "metadata": {},
   "source": [
    "#### 3.2 Training"
   ]
  },
  {
   "cell_type": "code",
   "execution_count": 22,
   "id": "lightweight-controversy",
   "metadata": {},
   "outputs": [
    {
     "data": {
      "text/plain": [
       "GradientBoostingClassifier(max_depth=10, max_leaf_nodes=966, n_estimators=65)"
      ]
     },
     "execution_count": 22,
     "metadata": {},
     "output_type": "execute_result"
    }
   ],
   "source": [
    "gbm_sm = GradientBoostingClassifier(**gbm_params)\n",
    "gbm_sm.fit(X_train_sm, y_train_sm)"
   ]
  },
  {
   "cell_type": "markdown",
   "id": "equal-words",
   "metadata": {},
   "source": [
    "#### 3.3 Evaluating on the test dataset"
   ]
  },
  {
   "cell_type": "code",
   "execution_count": 23,
   "id": "miniature-contribution",
   "metadata": {},
   "outputs": [],
   "source": [
    "probs = gbm_sm.predict_proba(X_test)[:, 1]\n",
    "preds = gbm_sm.predict(X_test)"
   ]
  },
  {
   "cell_type": "code",
   "execution_count": 24,
   "id": "improved-discretion",
   "metadata": {},
   "outputs": [
    {
     "name": "stdout",
     "output_type": "stream",
     "text": [
      "GBM trained on a balanced dataset (SMOTE), evaluated on the test dataset:\n",
      "f1=0.365 auc=0.4\n"
     ]
    },
    {
     "data": {
      "image/png": "[encoded data removed]",
      "text/plain": [
       "<Figure size 432x288 with 1 Axes>"
      ]
     },
     "metadata": {
      "needs_background": "light"
     },
     "output_type": "display_data"
    }
   ],
   "source": [
    "plot_pr_curve(probs, preds, y=y_test,\n",
    "              legend='GBM trained on a balanced dataset (SMOTE), evaluated on the test dataset')"
   ]
  },
  {
   "cell_type": "code",
   "execution_count": 25,
   "id": "lesbian-charity",
   "metadata": {},
   "outputs": [
    {
     "data": {
      "text/html": [
       "<div>\n",
       "<style scoped>\n",
       "    .dataframe tbody tr th:only-of-type {\n",
       "        vertical-align: middle;\n",
       "    }\n",
       "\n",
       "    .dataframe tbody tr th {\n",
       "        vertical-align: top;\n",
       "    }\n",
       "\n",
       "    .dataframe thead th {\n",
       "        text-align: right;\n",
       "    }\n",
       "</style>\n",
       "<table border=\"1\" class=\"dataframe\">\n",
       "  <thead>\n",
       "    <tr style=\"text-align: right;\">\n",
       "      <th>Predicted</th>\n",
       "      <th>0</th>\n",
       "      <th>1</th>\n",
       "      <th>All</th>\n",
       "    </tr>\n",
       "    <tr>\n",
       "      <th>Actual</th>\n",
       "      <th></th>\n",
       "      <th></th>\n",
       "      <th></th>\n",
       "    </tr>\n",
       "  </thead>\n",
       "  <tbody>\n",
       "    <tr>\n",
       "      <th>0</th>\n",
       "      <td>505049</td>\n",
       "      <td>6093</td>\n",
       "      <td>511142</td>\n",
       "    </tr>\n",
       "    <tr>\n",
       "      <th>1</th>\n",
       "      <td>39947</td>\n",
       "      <td>13225</td>\n",
       "      <td>53172</td>\n",
       "    </tr>\n",
       "    <tr>\n",
       "      <th>All</th>\n",
       "      <td>544996</td>\n",
       "      <td>19318</td>\n",
       "      <td>564314</td>\n",
       "    </tr>\n",
       "  </tbody>\n",
       "</table>\n",
       "</div>"
      ],
      "text/plain": [
       "Predicted       0      1     All\n",
       "Actual                          \n",
       "0          505049   6093  511142\n",
       "1           39947  13225   53172\n",
       "All        544996  19318  564314"
      ]
     },
     "execution_count": 25,
     "metadata": {},
     "output_type": "execute_result"
    }
   ],
   "source": [
    "pd.crosstab(y_test, preds, rownames=['Actual'], colnames=['Predicted'], margins=True)"
   ]
  },
  {
   "cell_type": "code",
   "execution_count": 26,
   "id": "remarkable-disclaimer",
   "metadata": {},
   "outputs": [
    {
     "name": "stdout",
     "output_type": "stream",
     "text": [
      "              precision    recall  f1-score   support\n",
      "\n",
      "           0       0.93      0.99      0.96    511142\n",
      "           1       0.68      0.25      0.36     53172\n",
      "\n",
      "    accuracy                           0.92    564314\n",
      "   macro avg       0.81      0.62      0.66    564314\n",
      "weighted avg       0.90      0.92      0.90    564314\n",
      "\n"
     ]
    }
   ],
   "source": [
    "print(classification_report(y_test, preds))"
   ]
  },
  {
   "cell_type": "markdown",
   "id": "gothic-wales",
   "metadata": {},
   "source": [
    "#### 3.4 Evaluating on the entire dataset"
   ]
  },
  {
   "cell_type": "code",
   "execution_count": 27,
   "id": "ambient-carol",
   "metadata": {},
   "outputs": [],
   "source": [
    "probs = gbm_sm.predict_proba(X_all)[:, 1]\n",
    "preds = gbm_sm.predict(X_all)"
   ]
  },
  {
   "cell_type": "code",
   "execution_count": 28,
   "id": "fatal-terrace",
   "metadata": {},
   "outputs": [
    {
     "name": "stdout",
     "output_type": "stream",
     "text": [
      "GBM trained on a balanced dataset (SMOTE), evaluated on the whole dataset:\n",
      "f1=0.372 auc=0.417\n"
     ]
    },
    {
     "data": {
      "image/png": "[encoded data removed]",
      "text/plain": [
       "<Figure size 432x288 with 1 Axes>"
      ]
     },
     "metadata": {
      "needs_background": "light"
     },
     "output_type": "display_data"
    }
   ],
   "source": [
    "plot_pr_curve(probs, preds, y=y_all,\n",
    "              legend='GBM trained on a balanced dataset (SMOTE), evaluated on the whole dataset')"
   ]
  },
  {
   "cell_type": "code",
   "execution_count": 29,
   "id": "incoming-raleigh",
   "metadata": {},
   "outputs": [
    {
     "data": {
      "text/html": [
       "<div>\n",
       "<style scoped>\n",
       "    .dataframe tbody tr th:only-of-type {\n",
       "        vertical-align: middle;\n",
       "    }\n",
       "\n",
       "    .dataframe tbody tr th {\n",
       "        vertical-align: top;\n",
       "    }\n",
       "\n",
       "    .dataframe thead th {\n",
       "        text-align: right;\n",
       "    }\n",
       "</style>\n",
       "<table border=\"1\" class=\"dataframe\">\n",
       "  <thead>\n",
       "    <tr style=\"text-align: right;\">\n",
       "      <th>Predicted</th>\n",
       "      <th>0</th>\n",
       "      <th>1</th>\n",
       "      <th>All</th>\n",
       "    </tr>\n",
       "    <tr>\n",
       "      <th>Actual</th>\n",
       "      <th></th>\n",
       "      <th></th>\n",
       "      <th></th>\n",
       "    </tr>\n",
       "  </thead>\n",
       "  <tbody>\n",
       "    <tr>\n",
       "      <th>0</th>\n",
       "      <td>2525560</td>\n",
       "      <td>30136</td>\n",
       "      <td>2555696</td>\n",
       "    </tr>\n",
       "    <tr>\n",
       "      <th>1</th>\n",
       "      <td>198166</td>\n",
       "      <td>67706</td>\n",
       "      <td>265872</td>\n",
       "    </tr>\n",
       "    <tr>\n",
       "      <th>All</th>\n",
       "      <td>2723726</td>\n",
       "      <td>97842</td>\n",
       "      <td>2821568</td>\n",
       "    </tr>\n",
       "  </tbody>\n",
       "</table>\n",
       "</div>"
      ],
      "text/plain": [
       "Predicted        0      1      All\n",
       "Actual                            \n",
       "0          2525560  30136  2555696\n",
       "1           198166  67706   265872\n",
       "All        2723726  97842  2821568"
      ]
     },
     "execution_count": 29,
     "metadata": {},
     "output_type": "execute_result"
    }
   ],
   "source": [
    "pd.crosstab(y_all, preds, rownames=['Actual'], colnames=['Predicted'], margins=True)"
   ]
  },
  {
   "cell_type": "code",
   "execution_count": 30,
   "id": "executive-festival",
   "metadata": {},
   "outputs": [
    {
     "name": "stdout",
     "output_type": "stream",
     "text": [
      "              precision    recall  f1-score   support\n",
      "\n",
      "           0       0.93      0.99      0.96   2555696\n",
      "           1       0.69      0.25      0.37    265872\n",
      "\n",
      "    accuracy                           0.92   2821568\n",
      "   macro avg       0.81      0.62      0.66   2821568\n",
      "weighted avg       0.91      0.92      0.90   2821568\n",
      "\n"
     ]
    }
   ],
   "source": [
    "print(classification_report(y_all, preds))"
   ]
  },
  {
   "cell_type": "markdown",
   "id": "fd1ddc0c",
   "metadata": {},
   "source": [
    "#### 3.5 Calculate the best threshold"
   ]
  },
  {
   "cell_type": "code",
   "execution_count": 35,
   "id": "bf0c77c2",
   "metadata": {},
   "outputs": [
    {
     "name": "stdout",
     "output_type": "stream",
     "text": [
      "Best Threshold=0.3321256069930437, F-Score=0.392\n"
     ]
    }
   ],
   "source": [
    "precision, recall, thresholds = precision_recall_curve(y_all, probs)\n",
    "# convert to f score\n",
    "fscore = (2 * precision * recall) / (precision + recall)\n",
    "# locate the index of the largest f score\n",
    "ix = np.argmax(fscore)\n",
    "print(f'Best Threshold={thresholds[ix]}, F-Score={round(fscore[ix], 3)}')"
   ]
  },
  {
   "cell_type": "code",
   "execution_count": 31,
   "id": "enabling-cyprus",
   "metadata": {},
   "outputs": [],
   "source": [
    "with open(os.path.join(data_dir, 'pickled_model_gbm_smote'), 'wb') as f:\n",
    "    pickle.dump(gbm_sm, f)"
   ]
  },
  {
   "cell_type": "code",
   "execution_count": null,
   "id": "d872f6ed",
   "metadata": {},
   "outputs": [],
   "source": []
  }
 ],
 "metadata": {
  "kernelspec": {
   "display_name": "Python 3",
   "language": "python",
   "name": "python3"
  },
  "language_info": {
   "codemirror_mode": {
    "name": "ipython",
    "version": 3
   },
   "file_extension": ".py",
   "mimetype": "text/x-python",
   "name": "python",
   "nbconvert_exporter": "python",
   "pygments_lexer": "ipython3",
   "version": "3.6.9"
  }
 },
 "nbformat": 4,
 "nbformat_minor": 5
}
