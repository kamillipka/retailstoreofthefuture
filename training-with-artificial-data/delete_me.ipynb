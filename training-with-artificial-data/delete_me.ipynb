{
 "cells": [
  {
   "cell_type": "code",
   "execution_count": 2,
   "id": "legendary-transsexual",
   "metadata": {},
   "outputs": [],
   "source": [
    "import os\n",
    "import pickle\n",
    "\n",
    "import pandas as pd"
   ]
  },
  {
   "cell_type": "code",
   "execution_count": 3,
   "id": "unknown-memphis",
   "metadata": {},
   "outputs": [],
   "source": [
    "data_dir = 'data_0419_0'"
   ]
  },
  {
   "cell_type": "code",
   "execution_count": 4,
   "id": "solved-guard",
   "metadata": {},
   "outputs": [],
   "source": [
    "with open(os.path.join(data_dir, 'pickled_model_gbm_smote'), 'rb') as f:\n",
    "    model = pickle.load(f)"
   ]
  },
  {
   "cell_type": "code",
   "execution_count": 6,
   "id": "fourth-basics",
   "metadata": {},
   "outputs": [],
   "source": [
    "df = pd.DataFrame({'cust_mean_buy_price':{'0':11.61,'1':11.61,'2':11.61},'cust_total_coupons':{'0':701,'1':701,'2':701},'cust_mean_discount':{'0':9.71,'1':9.71,'2':9.71},'cust_unique_products':{'0':1309,'1':1309,'2':1309},'cust_unique_products_coupon':{'0':485,'1':485,'2':485},'cust_total_products':{'0':2328,'1':2328,'2':2328},'coupon_discount':{'0':57,'1':18,'2':15},'coupon_how_many':{'0':1,'1':4,'2':2},'coupon_mean_prod_price':{'0':18.23,'1':12.39,'2':9.22},'coupon_prods_avail':{'0':641,'1':4,'2':1},'cust_age_young':{'0':0,'1':0,'2':0},'cust_age_mid':{'0':0,'1':0,'2':0},'cust_age_old':{'0':1,'1':1,'2':1},'cust_gender_F':{'0':1,'1':1,'2':1},'cust_gender_M':{'0':0,'1':0,'2':0},'coupon_type_buy_all':{'0':0,'1':1,'2':0},'coupon_type_buy_more':{'0':0,'1':0,'2':1},'coupon_type_department':{'0':1,'1':0,'2':0},'coupon_type_just_discount':{'0':0,'1':0,'2':0},'coupon_dpt_Boys':{'0':0,'1':0,'2':0},'coupon_dpt_Girls':{'0':0,'1':0,'2':0},'coupon_dpt_Men':{'0':0,'1':0,'2':0},'coupon_dpt_Sports':{'0':0,'1':0,'2':0},'coupon_dpt_Women':{'0':0,'1':0,'2':0}})"
   ]
  },
  {
   "cell_type": "code",
   "execution_count": 7,
   "id": "attractive-imperial",
   "metadata": {},
   "outputs": [
    {
     "data": {
      "text/html": [
       "<div>\n",
       "<style scoped>\n",
       "    .dataframe tbody tr th:only-of-type {\n",
       "        vertical-align: middle;\n",
       "    }\n",
       "\n",
       "    .dataframe tbody tr th {\n",
       "        vertical-align: top;\n",
       "    }\n",
       "\n",
       "    .dataframe thead th {\n",
       "        text-align: right;\n",
       "    }\n",
       "</style>\n",
       "<table border=\"1\" class=\"dataframe\">\n",
       "  <thead>\n",
       "    <tr style=\"text-align: right;\">\n",
       "      <th></th>\n",
       "      <th>cust_mean_buy_price</th>\n",
       "      <th>cust_total_coupons</th>\n",
       "      <th>cust_mean_discount</th>\n",
       "      <th>cust_unique_products</th>\n",
       "      <th>cust_unique_products_coupon</th>\n",
       "      <th>cust_total_products</th>\n",
       "      <th>coupon_discount</th>\n",
       "      <th>coupon_how_many</th>\n",
       "      <th>coupon_mean_prod_price</th>\n",
       "      <th>coupon_prods_avail</th>\n",
       "      <th>...</th>\n",
       "      <th>cust_gender_M</th>\n",
       "      <th>coupon_type_buy_all</th>\n",
       "      <th>coupon_type_buy_more</th>\n",
       "      <th>coupon_type_department</th>\n",
       "      <th>coupon_type_just_discount</th>\n",
       "      <th>coupon_dpt_Boys</th>\n",
       "      <th>coupon_dpt_Girls</th>\n",
       "      <th>coupon_dpt_Men</th>\n",
       "      <th>coupon_dpt_Sports</th>\n",
       "      <th>coupon_dpt_Women</th>\n",
       "    </tr>\n",
       "  </thead>\n",
       "  <tbody>\n",
       "    <tr>\n",
       "      <th>0</th>\n",
       "      <td>11.61</td>\n",
       "      <td>701</td>\n",
       "      <td>9.71</td>\n",
       "      <td>1309</td>\n",
       "      <td>485</td>\n",
       "      <td>2328</td>\n",
       "      <td>57</td>\n",
       "      <td>1</td>\n",
       "      <td>18.23</td>\n",
       "      <td>641</td>\n",
       "      <td>...</td>\n",
       "      <td>0</td>\n",
       "      <td>0</td>\n",
       "      <td>0</td>\n",
       "      <td>1</td>\n",
       "      <td>0</td>\n",
       "      <td>0</td>\n",
       "      <td>0</td>\n",
       "      <td>0</td>\n",
       "      <td>0</td>\n",
       "      <td>0</td>\n",
       "    </tr>\n",
       "    <tr>\n",
       "      <th>1</th>\n",
       "      <td>11.61</td>\n",
       "      <td>701</td>\n",
       "      <td>9.71</td>\n",
       "      <td>1309</td>\n",
       "      <td>485</td>\n",
       "      <td>2328</td>\n",
       "      <td>18</td>\n",
       "      <td>4</td>\n",
       "      <td>12.39</td>\n",
       "      <td>4</td>\n",
       "      <td>...</td>\n",
       "      <td>0</td>\n",
       "      <td>1</td>\n",
       "      <td>0</td>\n",
       "      <td>0</td>\n",
       "      <td>0</td>\n",
       "      <td>0</td>\n",
       "      <td>0</td>\n",
       "      <td>0</td>\n",
       "      <td>0</td>\n",
       "      <td>0</td>\n",
       "    </tr>\n",
       "    <tr>\n",
       "      <th>2</th>\n",
       "      <td>11.61</td>\n",
       "      <td>701</td>\n",
       "      <td>9.71</td>\n",
       "      <td>1309</td>\n",
       "      <td>485</td>\n",
       "      <td>2328</td>\n",
       "      <td>15</td>\n",
       "      <td>2</td>\n",
       "      <td>9.22</td>\n",
       "      <td>1</td>\n",
       "      <td>...</td>\n",
       "      <td>0</td>\n",
       "      <td>0</td>\n",
       "      <td>1</td>\n",
       "      <td>0</td>\n",
       "      <td>0</td>\n",
       "      <td>0</td>\n",
       "      <td>0</td>\n",
       "      <td>0</td>\n",
       "      <td>0</td>\n",
       "      <td>0</td>\n",
       "    </tr>\n",
       "  </tbody>\n",
       "</table>\n",
       "<p>3 rows × 24 columns</p>\n",
       "</div>"
      ],
      "text/plain": [
       "   cust_mean_buy_price  cust_total_coupons  cust_mean_discount  \\\n",
       "0                11.61                 701                9.71   \n",
       "1                11.61                 701                9.71   \n",
       "2                11.61                 701                9.71   \n",
       "\n",
       "   cust_unique_products  cust_unique_products_coupon  cust_total_products  \\\n",
       "0                  1309                          485                 2328   \n",
       "1                  1309                          485                 2328   \n",
       "2                  1309                          485                 2328   \n",
       "\n",
       "   coupon_discount  coupon_how_many  coupon_mean_prod_price  \\\n",
       "0               57                1                   18.23   \n",
       "1               18                4                   12.39   \n",
       "2               15                2                    9.22   \n",
       "\n",
       "   coupon_prods_avail  ...  cust_gender_M  coupon_type_buy_all  \\\n",
       "0                 641  ...              0                    0   \n",
       "1                   4  ...              0                    1   \n",
       "2                   1  ...              0                    0   \n",
       "\n",
       "   coupon_type_buy_more  coupon_type_department  coupon_type_just_discount  \\\n",
       "0                     0                       1                          0   \n",
       "1                     0                       0                          0   \n",
       "2                     1                       0                          0   \n",
       "\n",
       "   coupon_dpt_Boys  coupon_dpt_Girls  coupon_dpt_Men  coupon_dpt_Sports  \\\n",
       "0                0                 0               0                  0   \n",
       "1                0                 0               0                  0   \n",
       "2                0                 0               0                  0   \n",
       "\n",
       "   coupon_dpt_Women  \n",
       "0                 0  \n",
       "1                 0  \n",
       "2                 0  \n",
       "\n",
       "[3 rows x 24 columns]"
      ]
     },
     "execution_count": 7,
     "metadata": {},
     "output_type": "execute_result"
    }
   ],
   "source": [
    "df"
   ]
  },
  {
   "cell_type": "code",
   "execution_count": 8,
   "id": "exact-ontario",
   "metadata": {},
   "outputs": [
    {
     "data": {
      "text/plain": [
       "array([[0.00664419, 0.99335581],\n",
       "       [0.00824361, 0.99175639],\n",
       "       [0.00726665, 0.99273335]])"
      ]
     },
     "execution_count": 8,
     "metadata": {},
     "output_type": "execute_result"
    }
   ],
   "source": [
    "preds = model.predict_proba(df)\n",
    "preds"
   ]
  },
  {
   "cell_type": "code",
   "execution_count": null,
   "id": "devoted-steering",
   "metadata": {},
   "outputs": [],
   "source": []
  }
 ],
 "metadata": {
  "kernelspec": {
   "display_name": "Python 3",
   "language": "python",
   "name": "python3"
  },
  "language_info": {
   "codemirror_mode": {
    "name": "ipython",
    "version": 3
   },
   "file_extension": ".py",
   "mimetype": "text/x-python",
   "name": "python",
   "nbconvert_exporter": "python",
   "pygments_lexer": "ipython3",
   "version": "3.6.9"
  }
 },
 "nbformat": 4,
 "nbformat_minor": 5
}
