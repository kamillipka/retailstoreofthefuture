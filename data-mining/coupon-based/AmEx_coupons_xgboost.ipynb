{
 "cells": [
  {
   "cell_type": "markdown",
   "id": "square-baltimore",
   "metadata": {},
   "source": [
    "Based on https://www.kaggle.com/rahul1394/amex-coupon-redeem-classification"
   ]
  },
  {
   "cell_type": "code",
   "execution_count": 78,
   "id": "advised-creation",
   "metadata": {},
   "outputs": [],
   "source": [
    "import numpy as np\n",
    "import pandas as pd\n",
    "from scipy.stats import mode\n",
    "from sklearn.metrics import confusion_matrix, classification_report\n",
    "from sklearn.model_selection import train_test_split\n",
    "from sklearn.preprocessing import LabelEncoder, RobustScaler"
   ]
  },
  {
   "cell_type": "markdown",
   "id": "veterinary-belle",
   "metadata": {},
   "source": [
    "## Data prep"
   ]
  },
  {
   "cell_type": "code",
   "execution_count": 16,
   "id": "suspected-medication",
   "metadata": {},
   "outputs": [],
   "source": [
    "campaign = pd.read_csv('original_data/campaign_data.csv')\n",
    "coupons = pd.read_csv('original_data/coupon_item_mapping.csv')\n",
    "cust_demo = pd.read_csv('original_data/customer_demographics.csv')\n",
    "cust_tran = pd.read_csv('original_data/customer_transaction_data.csv')\n",
    "items = pd.read_csv('original_data/item_data.csv')\n",
    "train = pd.read_csv('original_data/train.csv')\n",
    "test = pd.read_csv('original_data/test.csv')"
   ]
  },
  {
   "cell_type": "code",
   "execution_count": 18,
   "id": "joined-chuck",
   "metadata": {},
   "outputs": [],
   "source": [
    "campaign['start_date'] = pd.to_datetime(campaign['start_date'])\n",
    "campaign['end_date'] = pd.to_datetime(campaign['end_date'])\n",
    "campaign['campaign_duration'] = campaign['campaign_duration'].apply(lambda x: x.days)"
   ]
  },
  {
   "cell_type": "code",
   "execution_count": 25,
   "id": "french-geometry",
   "metadata": {},
   "outputs": [
    {
     "data": {
      "text/plain": [
       "customer_id       0\n",
       "age_range         0\n",
       "marital_status    0\n",
       "rented            0\n",
       "family_size       0\n",
       "no_of_children    0\n",
       "income_bracket    0\n",
       "dtype: int64"
      ]
     },
     "execution_count": 25,
     "metadata": {},
     "output_type": "execute_result"
    }
   ],
   "source": [
    "cust_demo['family_size'] = cust_demo.family_size.apply(lambda x: int(x.replace('+', '')))\n",
    "cust_demo['no_of_children'] = cust_demo.no_of_children.apply(lambda x: int(x.replace('+', '')) if pd.notna(x) else x)\n",
    "\n",
    "cust_demo.loc[pd.isnull(cust_demo.marital_status) & (cust_demo.family_size == 1),\n",
    "              'marital_status'] = 'Single'\n",
    "cust_demo.loc[pd.isnull(cust_demo.marital_status) & ((cust_demo.family_size - cust_demo.no_of_children) == 1),\n",
    "              'marital_status'] = 'Single'\n",
    "cust_demo.loc[pd.isnull(cust_demo.marital_status) & ((cust_demo.family_size - cust_demo.no_of_children) == 2),\n",
    "              'marital_status'] = 'Married'\n",
    "cust_demo.loc[pd.isnull(cust_demo.marital_status) & pd.isnull(cust_demo.no_of_children) & (cust_demo.family_size == 2),\n",
    "              'marital_status'] = 'Married'\n",
    "\n",
    "cust_demo.loc[pd.isnull(cust_demo.no_of_children) & (cust_demo.marital_status == 'Married') & (cust_demo.family_size == 2),\n",
    "              'no_of_children'] = 0\n",
    "cust_demo.loc[pd.isnull(cust_demo.no_of_children) & (cust_demo.family_size == 1), 'no_of_children'] = 0\n",
    "cust_demo.loc[pd.isnull(cust_demo.no_of_children) & (cust_demo.family_size == 2),'no_of_children'] = 1\n",
    "cust_demo['no_of_children'] = cust_demo['no_of_children'].astype(np.int64)"
   ]
  },
  {
   "cell_type": "code",
   "execution_count": 31,
   "id": "color-oasis",
   "metadata": {},
   "outputs": [],
   "source": [
    "cust_tran['date'] = pd.to_datetime(cust_tran['date'])\n",
    "cust_tran = cust_tran.sort_values('date').reset_index(drop=True)\n",
    "\n",
    "cust_tran['day'] = cust_tran['date'].apply(lambda x: x.day)\n",
    "cust_tran['dow'] = cust_tran['date'].apply(lambda x: x.weekday())\n",
    "cust_tran['month'] = cust_tran['date'].apply(lambda x: x.month)\n",
    "\n",
    "cust_tran['selling_price'] = cust_tran['selling_price'] / cust_tran['quantity']\n",
    "cust_tran['other_discount'] = cust_tran['other_discount'] / cust_tran['quantity']\n",
    "cust_tran['selling_price'] = cust_tran['selling_price'] + cust_tran['other_discount']\n",
    "cust_tran.drop(['other_discount'], axis=1, inplace=True)\n",
    "\n",
    "cust_tran['coupon_used'] = cust_tran.coupon_discount.apply(lambda x: 1 if x != 0 else 0)"
   ]
  },
  {
   "cell_type": "code",
   "execution_count": 33,
   "id": "single-demonstration",
   "metadata": {},
   "outputs": [],
   "source": [
    "items.drop(['brand_type'], axis=1, inplace=True)"
   ]
  },
  {
   "cell_type": "markdown",
   "id": "blocked-motor",
   "metadata": {},
   "source": [
    "## Merging"
   ]
  },
  {
   "cell_type": "code",
   "execution_count": 48,
   "id": "manufactured-conflict",
   "metadata": {},
   "outputs": [],
   "source": [
    "coupons_items = pd.merge(coupons, items, on='item_id', how='left')"
   ]
  },
  {
   "cell_type": "code",
   "execution_count": 49,
   "id": "certified-reynolds",
   "metadata": {},
   "outputs": [],
   "source": [
    "transactions1 = pd.pivot_table(cust_tran, index='item_id',\n",
    "                               values=['customer_id', 'quantity', 'selling_price', 'coupon_discount', 'coupon_used'],\n",
    "                               aggfunc={\n",
    "                                   'customer_id': lambda x: len(set(x)),\n",
    "                                   'quantity': np.mean,\n",
    "                                   'selling_price': np.mean,\n",
    "                                   'coupon_discount': np.mean,\n",
    "                                   'coupon_used': np.sum\n",
    "                               })\n",
    "transactions1.reset_index(inplace=True)\n",
    "transactions1.rename(columns={'customer_id': 'no_of_customers', 'selling_price': 'price_mean',\n",
    "                              'coupon_discount': 'discount_mean', 'quantity': 'quantity_mean'}, inplace=True)\n",
    "\n",
    "transactions2 = pd.pivot_table(cust_tran, index='item_id',\n",
    "                               values=['customer_id', 'quantity', 'selling_price', 'coupon_discount'],\n",
    "                               aggfunc={\n",
    "                                   'customer_id': len,\n",
    "                                   'quantity': np.sum,\n",
    "                                   'selling_price': np.sum,\n",
    "                                   'coupon_discount': np.sum\n",
    "                               })\n",
    "transactions2.reset_index(inplace=True)\n",
    "transactions2.rename(columns={'customer_id': 'tran_counts', 'quantity': 'quantity_sum', 'selling_price': 'price_sum',\n",
    "                              'coupon_discount': 'discount_sum'}, inplace=True)\n",
    "\n",
    "transactions1 = pd.merge(transactions1, transactions2, on='item_id', how='left')"
   ]
  },
  {
   "cell_type": "code",
   "execution_count": 50,
   "id": "south-evidence",
   "metadata": {},
   "outputs": [],
   "source": [
    "item_coupon_trans = pd.merge(coupons_items, transactions1, on='item_id', how='left')"
   ]
  },
  {
   "cell_type": "code",
   "execution_count": 53,
   "id": "polyphonic-faith",
   "metadata": {},
   "outputs": [],
   "source": [
    "coupon = pd.pivot_table(item_coupon_trans, index ='coupon_id',\n",
    "                        values=['item_id', 'brand', 'category', 'discount_mean', 'coupon_used', 'no_of_customers',\n",
    "                                'quantity_mean', 'price_mean', 'discount_sum', 'tran_counts', 'quantity_sum',\n",
    "                                'price_sum'],\n",
    "                        aggfunc={\n",
    "                            'item_id': lambda x: len(set(x)),\n",
    "                            'brand': lambda x: mode(x)[0][0],\n",
    "                            'category': lambda x: mode(x)[0][0],\n",
    "                            'discount_mean': np.mean,\n",
    "                            'no_of_customers': np.mean,\n",
    "                            'quantity_mean': np.mean,\n",
    "                            'price_mean': np.mean,\n",
    "                            'coupon_used': np.sum,\n",
    "                            'discount_sum': np.sum,\n",
    "                            'tran_counts': np.sum,\n",
    "                            'quantity_sum': np.sum,\n",
    "                            'price_sum': np.sum\n",
    "                        })\n",
    "coupon.reset_index(inplace=True)\n",
    "coupon.rename(columns={'item_id': 'item_counts'}, inplace=True)"
   ]
  },
  {
   "cell_type": "code",
   "execution_count": 54,
   "id": "comparable-chosen",
   "metadata": {},
   "outputs": [],
   "source": [
    "transactions3 = pd.pivot_table(cust_tran, index='customer_id',\n",
    "                               values=['item_id', 'quantity','selling_price', 'coupon_discount',\n",
    "                                       'coupon_used', 'day', 'dow', 'month'],\n",
    "                               aggfunc={\n",
    "                                   'item_id': lambda x: len(set(x)),\n",
    "                                   'quantity': np.mean,\n",
    "                                   'selling_price': np.mean,\n",
    "                                   'coupon_discount': np.mean,\n",
    "                                   'coupon_used': np.sum,\n",
    "                                   'day': lambda x: mode(x)[0][0],\n",
    "                                   'dow': lambda x: mode(x)[0][0],\n",
    "                                   'month': lambda x: mode(x)[0][0]\n",
    "                               })\n",
    "transactions3.reset_index(inplace=True)\n",
    "transactions3.rename(columns={'item_id': 'no_of_items', 'quantity': 'mean_quantity', 'selling_price': 'mean_price',\n",
    "                              'coupon_discount': 'mean_discount'}, inplace=True)\n",
    "\n",
    "transactions4 = pd.pivot_table(cust_tran, index='customer_id',\n",
    "                               values=['item_id', 'quantity', 'selling_price', 'coupon_discount'],\n",
    "                               aggfunc={\n",
    "                                   'item_id': len,\n",
    "                                   'quantity': np.sum,\n",
    "                                   'selling_price': np.sum,\n",
    "                                   'coupon_discount': np.sum\n",
    "                               })\n",
    "transactions4.reset_index(inplace=True)\n",
    "transactions4.rename(columns={'item_id': 'customer_id_count','quantity': 'quantity_sum', 'selling_price':'pprice_sum',\n",
    "                              'coupon_discount': 'ddiscount_sum'}, inplace=True)\n",
    "\n",
    "transactions = pd.merge(transactions3, transactions4, on='customer_id', how='left')"
   ]
  },
  {
   "cell_type": "code",
   "execution_count": 55,
   "id": "occupied-radius",
   "metadata": {},
   "outputs": [],
   "source": [
    "def merge_all(df):\n",
    "    df = pd.merge(df, coupon, on='coupon_id', how='left')\n",
    "    df = pd.merge(df, campaign, on='campaign_id', how='left')\n",
    "    df = pd.merge(df, cust_demo, on='customer_id', how='left')\n",
    "    df = pd.merge(df, transactions, on='customer_id', how='left')\n",
    "    return df\n",
    "\n",
    "train = merge_all(train)\n",
    "test = merge_all(test)"
   ]
  },
  {
   "cell_type": "code",
   "execution_count": 57,
   "id": "cooperative-extension",
   "metadata": {},
   "outputs": [],
   "source": [
    "def fill_nans(df):\n",
    "    for col in cust_demo.columns.tolist()[1:]:\n",
    "        df[col].fillna(mode(df[col]).mode[0], inplace=True)\n",
    "    return df\n",
    "\n",
    "train = fill_nans(train)\n",
    "test = fill_nans(test)"
   ]
  },
  {
   "cell_type": "code",
   "execution_count": 65,
   "id": "agricultural-campaign",
   "metadata": {},
   "outputs": [],
   "source": [
    "train.drop(['id','campaign_id','start_date','end_date', 'coupon_id', 'customer_id'], axis=1, inplace=True)\n",
    "test.drop(['id','campaign_id','start_date','end_date', 'coupon_id', 'customer_id'], axis=1, inplace=True)"
   ]
  },
  {
   "cell_type": "code",
   "execution_count": 66,
   "id": "rubber-marshall",
   "metadata": {},
   "outputs": [
    {
     "name": "stdout",
     "output_type": "stream",
     "text": [
      "<class 'pandas.core.frame.DataFrame'>\n",
      "Int64Index: 78369 entries, 0 to 78368\n",
      "Data columns (total 32 columns):\n",
      " #   Column             Non-Null Count  Dtype  \n",
      "---  ------             --------------  -----  \n",
      " 0   redemption_status  78369 non-null  int64  \n",
      " 1   brand              78369 non-null  int64  \n",
      " 2   category           78369 non-null  object \n",
      " 3   coupon_used_x      78369 non-null  float64\n",
      " 4   discount_mean      78369 non-null  float64\n",
      " 5   discount_sum       78369 non-null  float64\n",
      " 6   item_counts        78369 non-null  int64  \n",
      " 7   no_of_customers    78369 non-null  float64\n",
      " 8   price_mean         78369 non-null  float64\n",
      " 9   price_sum          78369 non-null  float64\n",
      " 10  quantity_mean      78369 non-null  float64\n",
      " 11  quantity_sum_x     78369 non-null  float64\n",
      " 12  tran_counts        78369 non-null  float64\n",
      " 13  campaign_type      78369 non-null  object \n",
      " 14  age_range          78369 non-null  int64  \n",
      " 15  marital_status     78369 non-null  object \n",
      " 16  rented             78369 non-null  float64\n",
      " 17  family_size        78369 non-null  float64\n",
      " 18  no_of_children     78369 non-null  float64\n",
      " 19  income_bracket     78369 non-null  float64\n",
      " 20  mean_discount      78369 non-null  float64\n",
      " 21  coupon_used_y      78369 non-null  int64  \n",
      " 22  day                78369 non-null  int64  \n",
      " 23  dow                78369 non-null  int64  \n",
      " 24  no_of_items        78369 non-null  int64  \n",
      " 25  month              78369 non-null  int64  \n",
      " 26  mean_quantity      78369 non-null  float64\n",
      " 27  mean_price         78369 non-null  float64\n",
      " 28  ddiscount_sum      78369 non-null  float64\n",
      " 29  customer_id_count  78369 non-null  int64  \n",
      " 30  quantity_sum_y     78369 non-null  int64  \n",
      " 31  pprice_sum         78369 non-null  float64\n",
      "dtypes: float64(18), int64(11), object(3)\n",
      "memory usage: 19.7+ MB\n"
     ]
    }
   ],
   "source": [
    "train.info()"
   ]
  },
  {
   "cell_type": "markdown",
   "id": "eleven-meditation",
   "metadata": {},
   "source": [
    "## Encoding"
   ]
  },
  {
   "cell_type": "code",
   "execution_count": 62,
   "id": "musical-force",
   "metadata": {},
   "outputs": [],
   "source": [
    "le = LabelEncoder()\n",
    "train['age_range'] = le.fit_transform(train['age_range'])\n",
    "test['age_range'] = le.fit_transform(test['age_range'])"
   ]
  },
  {
   "cell_type": "code",
   "execution_count": 63,
   "id": "adjustable-maple",
   "metadata": {},
   "outputs": [
    {
     "data": {
      "text/html": [
       "<div>\n",
       "<style scoped>\n",
       "    .dataframe tbody tr th:only-of-type {\n",
       "        vertical-align: middle;\n",
       "    }\n",
       "\n",
       "    .dataframe tbody tr th {\n",
       "        vertical-align: top;\n",
       "    }\n",
       "\n",
       "    .dataframe thead th {\n",
       "        text-align: right;\n",
       "    }\n",
       "</style>\n",
       "<table border=\"1\" class=\"dataframe\">\n",
       "  <thead>\n",
       "    <tr style=\"text-align: right;\">\n",
       "      <th></th>\n",
       "      <th>coupon_id</th>\n",
       "      <th>customer_id</th>\n",
       "      <th>redemption_status</th>\n",
       "      <th>brand</th>\n",
       "      <th>category</th>\n",
       "      <th>coupon_used_x</th>\n",
       "      <th>discount_mean</th>\n",
       "      <th>discount_sum</th>\n",
       "      <th>item_counts</th>\n",
       "      <th>no_of_customers</th>\n",
       "      <th>...</th>\n",
       "      <th>day</th>\n",
       "      <th>dow</th>\n",
       "      <th>no_of_items</th>\n",
       "      <th>month</th>\n",
       "      <th>mean_quantity</th>\n",
       "      <th>mean_price</th>\n",
       "      <th>ddiscount_sum</th>\n",
       "      <th>customer_id_count</th>\n",
       "      <th>quantity_sum_y</th>\n",
       "      <th>pprice_sum</th>\n",
       "    </tr>\n",
       "  </thead>\n",
       "  <tbody>\n",
       "    <tr>\n",
       "      <th>0</th>\n",
       "      <td>27</td>\n",
       "      <td>1053</td>\n",
       "      <td>0</td>\n",
       "      <td>1105</td>\n",
       "      <td>Grocery</td>\n",
       "      <td>191.0</td>\n",
       "      <td>-1.241694</td>\n",
       "      <td>-5349.93</td>\n",
       "      <td>125</td>\n",
       "      <td>19.224000</td>\n",
       "      <td>...</td>\n",
       "      <td>11</td>\n",
       "      <td>2</td>\n",
       "      <td>208</td>\n",
       "      <td>5</td>\n",
       "      <td>340.487097</td>\n",
       "      <td>112.800627</td>\n",
       "      <td>-89.05</td>\n",
       "      <td>310</td>\n",
       "      <td>105551</td>\n",
       "      <td>34968.194289</td>\n",
       "    </tr>\n",
       "    <tr>\n",
       "      <th>1</th>\n",
       "      <td>116</td>\n",
       "      <td>48</td>\n",
       "      <td>0</td>\n",
       "      <td>56</td>\n",
       "      <td>Grocery</td>\n",
       "      <td>0.0</td>\n",
       "      <td>0.000000</td>\n",
       "      <td>0.00</td>\n",
       "      <td>3</td>\n",
       "      <td>20.333333</td>\n",
       "      <td>...</td>\n",
       "      <td>4</td>\n",
       "      <td>5</td>\n",
       "      <td>244</td>\n",
       "      <td>6</td>\n",
       "      <td>31.540260</td>\n",
       "      <td>148.611104</td>\n",
       "      <td>-1237.79</td>\n",
       "      <td>385</td>\n",
       "      <td>12143</td>\n",
       "      <td>57215.275030</td>\n",
       "    </tr>\n",
       "    <tr>\n",
       "      <th>2</th>\n",
       "      <td>635</td>\n",
       "      <td>205</td>\n",
       "      <td>0</td>\n",
       "      <td>560</td>\n",
       "      <td>Pharmaceutical</td>\n",
       "      <td>15.0</td>\n",
       "      <td>-2.987321</td>\n",
       "      <td>-605.54</td>\n",
       "      <td>67</td>\n",
       "      <td>1.761194</td>\n",
       "      <td>...</td>\n",
       "      <td>27</td>\n",
       "      <td>2</td>\n",
       "      <td>533</td>\n",
       "      <td>3</td>\n",
       "      <td>1.392784</td>\n",
       "      <td>86.320926</td>\n",
       "      <td>-2145.72</td>\n",
       "      <td>970</td>\n",
       "      <td>1351</td>\n",
       "      <td>83731.298063</td>\n",
       "    </tr>\n",
       "    <tr>\n",
       "      <th>3</th>\n",
       "      <td>644</td>\n",
       "      <td>1050</td>\n",
       "      <td>0</td>\n",
       "      <td>611</td>\n",
       "      <td>Grocery</td>\n",
       "      <td>1.0</td>\n",
       "      <td>-4.452500</td>\n",
       "      <td>-17.81</td>\n",
       "      <td>4</td>\n",
       "      <td>3.500000</td>\n",
       "      <td>...</td>\n",
       "      <td>9</td>\n",
       "      <td>4</td>\n",
       "      <td>216</td>\n",
       "      <td>8</td>\n",
       "      <td>1.291139</td>\n",
       "      <td>75.135260</td>\n",
       "      <td>-178.10</td>\n",
       "      <td>237</td>\n",
       "      <td>306</td>\n",
       "      <td>17807.056667</td>\n",
       "    </tr>\n",
       "    <tr>\n",
       "      <th>4</th>\n",
       "      <td>1017</td>\n",
       "      <td>1489</td>\n",
       "      <td>0</td>\n",
       "      <td>1558</td>\n",
       "      <td>Grocery</td>\n",
       "      <td>23.0</td>\n",
       "      <td>-0.198055</td>\n",
       "      <td>-569.92</td>\n",
       "      <td>32</td>\n",
       "      <td>27.312500</td>\n",
       "      <td>...</td>\n",
       "      <td>2</td>\n",
       "      <td>4</td>\n",
       "      <td>327</td>\n",
       "      <td>5</td>\n",
       "      <td>247.443060</td>\n",
       "      <td>60.488003</td>\n",
       "      <td>-265.01</td>\n",
       "      <td>562</td>\n",
       "      <td>139063</td>\n",
       "      <td>33994.257567</td>\n",
       "    </tr>\n",
       "  </tbody>\n",
       "</table>\n",
       "<p>5 rows × 34 columns</p>\n",
       "</div>"
      ],
      "text/plain": [
       "   coupon_id  customer_id  redemption_status  brand        category  \\\n",
       "0         27         1053                  0   1105         Grocery   \n",
       "1        116           48                  0     56         Grocery   \n",
       "2        635          205                  0    560  Pharmaceutical   \n",
       "3        644         1050                  0    611         Grocery   \n",
       "4       1017         1489                  0   1558         Grocery   \n",
       "\n",
       "   coupon_used_x  discount_mean  discount_sum  item_counts  no_of_customers  \\\n",
       "0          191.0      -1.241694      -5349.93          125        19.224000   \n",
       "1            0.0       0.000000          0.00            3        20.333333   \n",
       "2           15.0      -2.987321       -605.54           67         1.761194   \n",
       "3            1.0      -4.452500        -17.81            4         3.500000   \n",
       "4           23.0      -0.198055       -569.92           32        27.312500   \n",
       "\n",
       "   ...  day  dow  no_of_items  month  mean_quantity  mean_price  \\\n",
       "0  ...   11    2          208      5     340.487097  112.800627   \n",
       "1  ...    4    5          244      6      31.540260  148.611104   \n",
       "2  ...   27    2          533      3       1.392784   86.320926   \n",
       "3  ...    9    4          216      8       1.291139   75.135260   \n",
       "4  ...    2    4          327      5     247.443060   60.488003   \n",
       "\n",
       "   ddiscount_sum customer_id_count  quantity_sum_y    pprice_sum  \n",
       "0         -89.05               310          105551  34968.194289  \n",
       "1       -1237.79               385           12143  57215.275030  \n",
       "2       -2145.72               970            1351  83731.298063  \n",
       "3        -178.10               237             306  17807.056667  \n",
       "4        -265.01               562          139063  33994.257567  \n",
       "\n",
       "[5 rows x 34 columns]"
      ]
     },
     "execution_count": 63,
     "metadata": {},
     "output_type": "execute_result"
    }
   ],
   "source": [
    "train.head()"
   ]
  },
  {
   "cell_type": "code",
   "execution_count": 71,
   "id": "equipped-concert",
   "metadata": {},
   "outputs": [],
   "source": [
    "train = pd.get_dummies(train)\n",
    "test = pd.get_dummies(test)"
   ]
  },
  {
   "cell_type": "markdown",
   "id": "statutory-anthropology",
   "metadata": {},
   "source": [
    "## Scaling"
   ]
  },
  {
   "cell_type": "code",
   "execution_count": 77,
   "id": "consistent-cambodia",
   "metadata": {},
   "outputs": [],
   "source": [
    "rc = RobustScaler()\n",
    "scaled_data = pd.DataFrame(rc.fit_transform(train), columns=train.columns)"
   ]
  },
  {
   "cell_type": "markdown",
   "id": "favorite-vaccine",
   "metadata": {},
   "source": [
    "## Model Building"
   ]
  },
  {
   "cell_type": "code",
   "execution_count": 80,
   "id": "identical-yugoslavia",
   "metadata": {},
   "outputs": [],
   "source": [
    "y = scaled_data['redemption_status']\n",
    "x = scaled_data.drop('redemption_status', axis=1)"
   ]
  },
  {
   "cell_type": "code",
   "execution_count": 81,
   "id": "contrary-travel",
   "metadata": {},
   "outputs": [],
   "source": [
    "xtrain, xtest, ytrain, ytest = train_test_split(x, y, random_state=0)"
   ]
  },
  {
   "cell_type": "code",
   "execution_count": null,
   "id": "southern-skirt",
   "metadata": {},
   "outputs": [],
   "source": []
  },
  {
   "cell_type": "code",
   "execution_count": 82,
   "id": "modular-overall",
   "metadata": {},
   "outputs": [],
   "source": [
    "from sklearn.ensemble import AdaBoostClassifier"
   ]
  },
  {
   "cell_type": "code",
   "execution_count": 86,
   "id": "facial-prize",
   "metadata": {},
   "outputs": [
    {
     "data": {
      "text/plain": [
       "AdaBoostClassifier()"
      ]
     },
     "execution_count": 86,
     "metadata": {},
     "output_type": "execute_result"
    }
   ],
   "source": [
    "ada = AdaBoostClassifier()\n",
    "ada.fit(xtrain, ytrain)"
   ]
  },
  {
   "cell_type": "code",
   "execution_count": 87,
   "id": "normal-amber",
   "metadata": {},
   "outputs": [],
   "source": [
    "pred_y = ada.predict(xtest)"
   ]
  },
  {
   "cell_type": "code",
   "execution_count": 88,
   "id": "fabulous-blues",
   "metadata": {},
   "outputs": [
    {
     "data": {
      "text/html": [
       "<div>\n",
       "<style scoped>\n",
       "    .dataframe tbody tr th:only-of-type {\n",
       "        vertical-align: middle;\n",
       "    }\n",
       "\n",
       "    .dataframe tbody tr th {\n",
       "        vertical-align: top;\n",
       "    }\n",
       "\n",
       "    .dataframe thead th {\n",
       "        text-align: right;\n",
       "    }\n",
       "</style>\n",
       "<table border=\"1\" class=\"dataframe\">\n",
       "  <thead>\n",
       "    <tr style=\"text-align: right;\">\n",
       "      <th>Predicted</th>\n",
       "      <th>0.0</th>\n",
       "      <th>1.0</th>\n",
       "      <th>All</th>\n",
       "    </tr>\n",
       "    <tr>\n",
       "      <th>Actual</th>\n",
       "      <th></th>\n",
       "      <th></th>\n",
       "      <th></th>\n",
       "    </tr>\n",
       "  </thead>\n",
       "  <tbody>\n",
       "    <tr>\n",
       "      <th>0.0</th>\n",
       "      <td>19418</td>\n",
       "      <td>4</td>\n",
       "      <td>19422</td>\n",
       "    </tr>\n",
       "    <tr>\n",
       "      <th>1.0</th>\n",
       "      <td>166</td>\n",
       "      <td>5</td>\n",
       "      <td>171</td>\n",
       "    </tr>\n",
       "    <tr>\n",
       "      <th>All</th>\n",
       "      <td>19584</td>\n",
       "      <td>9</td>\n",
       "      <td>19593</td>\n",
       "    </tr>\n",
       "  </tbody>\n",
       "</table>\n",
       "</div>"
      ],
      "text/plain": [
       "Predicted    0.0  1.0    All\n",
       "Actual                      \n",
       "0.0        19418    4  19422\n",
       "1.0          166    5    171\n",
       "All        19584    9  19593"
      ]
     },
     "execution_count": 88,
     "metadata": {},
     "output_type": "execute_result"
    }
   ],
   "source": [
    "pd.crosstab(ytest, pred_y, rownames=['Actual'], colnames=['Predicted'], margins=True)"
   ]
  },
  {
   "cell_type": "code",
   "execution_count": 89,
   "id": "concrete-calculator",
   "metadata": {},
   "outputs": [
    {
     "name": "stdout",
     "output_type": "stream",
     "text": [
      "              precision    recall  f1-score   support\n",
      "\n",
      "         0.0       0.99      1.00      1.00     19422\n",
      "         1.0       0.56      0.03      0.06       171\n",
      "\n",
      "    accuracy                           0.99     19593\n",
      "   macro avg       0.77      0.51      0.53     19593\n",
      "weighted avg       0.99      0.99      0.99     19593\n",
      "\n"
     ]
    }
   ],
   "source": [
    "print(classification_report(ytest, pred_y))"
   ]
  },
  {
   "cell_type": "code",
   "execution_count": 90,
   "id": "governing-kennedy",
   "metadata": {},
   "outputs": [],
   "source": [
    "train_y = train['redemption_status']\n",
    "train_x = train.drop('redemption_status', axis=1)\n",
    "pred_train = ada.predict(train_x)"
   ]
  },
  {
   "cell_type": "code",
   "execution_count": null,
   "id": "abandoned-dodge",
   "metadata": {},
   "outputs": [],
   "source": [
    "train_y.value_counts()"
   ]
  },
  {
   "cell_type": "code",
   "execution_count": 91,
   "id": "important-development",
   "metadata": {},
   "outputs": [
    {
     "data": {
      "text/html": [
       "<div>\n",
       "<style scoped>\n",
       "    .dataframe tbody tr th:only-of-type {\n",
       "        vertical-align: middle;\n",
       "    }\n",
       "\n",
       "    .dataframe tbody tr th {\n",
       "        vertical-align: top;\n",
       "    }\n",
       "\n",
       "    .dataframe thead th {\n",
       "        text-align: right;\n",
       "    }\n",
       "</style>\n",
       "<table border=\"1\" class=\"dataframe\">\n",
       "  <thead>\n",
       "    <tr style=\"text-align: right;\">\n",
       "      <th>Predicted</th>\n",
       "      <th>0</th>\n",
       "      <th>1</th>\n",
       "      <th>All</th>\n",
       "    </tr>\n",
       "    <tr>\n",
       "      <th>Actual</th>\n",
       "      <th></th>\n",
       "      <th></th>\n",
       "      <th></th>\n",
       "    </tr>\n",
       "  </thead>\n",
       "  <tbody>\n",
       "    <tr>\n",
       "      <th>0.0</th>\n",
       "      <td>77640</td>\n",
       "      <td>729</td>\n",
       "      <td>78369</td>\n",
       "    </tr>\n",
       "    <tr>\n",
       "      <th>All</th>\n",
       "      <td>77640</td>\n",
       "      <td>729</td>\n",
       "      <td>78369</td>\n",
       "    </tr>\n",
       "  </tbody>\n",
       "</table>\n",
       "</div>"
      ],
      "text/plain": [
       "Predicted      0    1    All\n",
       "Actual                      \n",
       "0.0        77640  729  78369\n",
       "All        77640  729  78369"
      ]
     },
     "execution_count": 91,
     "metadata": {},
     "output_type": "execute_result"
    }
   ],
   "source": [
    "pd.crosstab(pred_train, train_y, rownames=['Actual'], colnames=['Predicted'], margins=True)"
   ]
  },
  {
   "cell_type": "code",
   "execution_count": 92,
   "id": "complimentary-amazon",
   "metadata": {},
   "outputs": [
    {
     "name": "stdout",
     "output_type": "stream",
     "text": [
      "              precision    recall  f1-score   support\n",
      "\n",
      "           0       0.99      1.00      1.00     77640\n",
      "           1       0.00      0.00      0.00       729\n",
      "\n",
      "    accuracy                           0.99     78369\n",
      "   macro avg       0.50      0.50      0.50     78369\n",
      "weighted avg       0.98      0.99      0.99     78369\n",
      "\n"
     ]
    },
    {
     "name": "stderr",
     "output_type": "stream",
     "text": [
      "/home/ugolowic/workspace/.venv-ml/lib/python3.6/site-packages/sklearn/metrics/_classification.py:1245: UndefinedMetricWarning: Precision and F-score are ill-defined and being set to 0.0 in labels with no predicted samples. Use `zero_division` parameter to control this behavior.\n",
      "  _warn_prf(average, modifier, msg_start, len(result))\n",
      "/home/ugolowic/workspace/.venv-ml/lib/python3.6/site-packages/sklearn/metrics/_classification.py:1245: UndefinedMetricWarning: Precision and F-score are ill-defined and being set to 0.0 in labels with no predicted samples. Use `zero_division` parameter to control this behavior.\n",
      "  _warn_prf(average, modifier, msg_start, len(result))\n",
      "/home/ugolowic/workspace/.venv-ml/lib/python3.6/site-packages/sklearn/metrics/_classification.py:1245: UndefinedMetricWarning: Precision and F-score are ill-defined and being set to 0.0 in labels with no predicted samples. Use `zero_division` parameter to control this behavior.\n",
      "  _warn_prf(average, modifier, msg_start, len(result))\n"
     ]
    }
   ],
   "source": [
    "print(classification_report(train_y, pred_train))"
   ]
  },
  {
   "cell_type": "code",
   "execution_count": null,
   "id": "filled-polymer",
   "metadata": {},
   "outputs": [],
   "source": []
  }
 ],
 "metadata": {
  "kernelspec": {
   "display_name": "Python 3",
   "language": "python",
   "name": "python3"
  },
  "language_info": {
   "codemirror_mode": {
    "name": "ipython",
    "version": 3
   },
   "file_extension": ".py",
   "mimetype": "text/x-python",
   "name": "python",
   "nbconvert_exporter": "python",
   "pygments_lexer": "ipython3",
   "version": "3.6.9"
  }
 },
 "nbformat": 4,
 "nbformat_minor": 5
}
