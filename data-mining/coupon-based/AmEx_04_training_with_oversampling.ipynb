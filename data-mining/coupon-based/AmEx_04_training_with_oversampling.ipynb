{
 "cells": [
  {
   "cell_type": "markdown",
   "id": "direct-singer",
   "metadata": {},
   "source": [
    "# AmEx Training using AutoML and Oversampling\n",
    "\n",
    "Oversampling inspiration from https://www.analyticsvidhya.com/blog/2020/10/overcoming-class-imbalance-using-smote-techniques/"
   ]
  },
  {
   "cell_type": "code",
   "execution_count": 103,
   "id": "dated-marine",
   "metadata": {},
   "outputs": [],
   "source": [
    "import pandas as pd\n",
    "import h2o\n",
    "from h2o.automl import H2OAutoML\n",
    "from imblearn.over_sampling import ADASYN, SMOTE\n",
    "from imblearn.combine import SMOTETomek, SMOTEENN"
   ]
  },
  {
   "cell_type": "code",
   "execution_count": 52,
   "id": "devoted-enzyme",
   "metadata": {},
   "outputs": [
    {
     "name": "stderr",
     "output_type": "stream",
     "text": [
      "/home/ugolowic/workspace/.ml-venv/lib/python3.6/site-packages/h2o/backend/connection.py:369: UserWarning: Proxy is defined in the environment: HTTP_PROXY. This may interfere with your H2O Connection.\n",
      "  \"This may interfere with your H2O Connection.\" % name)\n",
      "/home/ugolowic/workspace/.ml-venv/lib/python3.6/site-packages/h2o/backend/connection.py:369: UserWarning: Proxy is defined in the environment: http_proxy. This may interfere with your H2O Connection.\n",
      "  \"This may interfere with your H2O Connection.\" % name)\n"
     ]
    },
    {
     "name": "stdout",
     "output_type": "stream",
     "text": [
      "Checking whether there is an H2O instance running at http://localhost:54321 . connected.\n"
     ]
    },
    {
     "data": {
      "text/html": [
       "<div style=\"overflow:auto\"><table style=\"width:50%\"><tr><td>H2O_cluster_uptime:</td>\n",
       "<td>1 hour 54 mins</td></tr>\n",
       "<tr><td>H2O_cluster_timezone:</td>\n",
       "<td>Europe/Warsaw</td></tr>\n",
       "<tr><td>H2O_data_parsing_timezone:</td>\n",
       "<td>UTC</td></tr>\n",
       "<tr><td>H2O_cluster_version:</td>\n",
       "<td>3.32.0.4</td></tr>\n",
       "<tr><td>H2O_cluster_version_age:</td>\n",
       "<td>24 days </td></tr>\n",
       "<tr><td>H2O_cluster_name:</td>\n",
       "<td>H2O_from_python_ugolowic_jpz9si</td></tr>\n",
       "<tr><td>H2O_cluster_total_nodes:</td>\n",
       "<td>1</td></tr>\n",
       "<tr><td>H2O_cluster_free_memory:</td>\n",
       "<td>1.662 Gb</td></tr>\n",
       "<tr><td>H2O_cluster_total_cores:</td>\n",
       "<td>4</td></tr>\n",
       "<tr><td>H2O_cluster_allowed_cores:</td>\n",
       "<td>4</td></tr>\n",
       "<tr><td>H2O_cluster_status:</td>\n",
       "<td>locked, healthy</td></tr>\n",
       "<tr><td>H2O_connection_url:</td>\n",
       "<td>http://localhost:54321</td></tr>\n",
       "<tr><td>H2O_connection_proxy:</td>\n",
       "<td>{\"http\": null, \"https\": null}</td></tr>\n",
       "<tr><td>H2O_internal_security:</td>\n",
       "<td>False</td></tr>\n",
       "<tr><td>H2O_API_Extensions:</td>\n",
       "<td>Amazon S3, XGBoost, Algos, AutoML, Core V3, TargetEncoder, Core V4</td></tr>\n",
       "<tr><td>Python_version:</td>\n",
       "<td>3.6.9 final</td></tr></table></div>"
      ],
      "text/plain": [
       "--------------------------  ------------------------------------------------------------------\n",
       "H2O_cluster_uptime:         1 hour 54 mins\n",
       "H2O_cluster_timezone:       Europe/Warsaw\n",
       "H2O_data_parsing_timezone:  UTC\n",
       "H2O_cluster_version:        3.32.0.4\n",
       "H2O_cluster_version_age:    24 days\n",
       "H2O_cluster_name:           H2O_from_python_ugolowic_jpz9si\n",
       "H2O_cluster_total_nodes:    1\n",
       "H2O_cluster_free_memory:    1.662 Gb\n",
       "H2O_cluster_total_cores:    4\n",
       "H2O_cluster_allowed_cores:  4\n",
       "H2O_cluster_status:         locked, healthy\n",
       "H2O_connection_url:         http://localhost:54321\n",
       "H2O_connection_proxy:       {\"http\": null, \"https\": null}\n",
       "H2O_internal_security:      False\n",
       "H2O_API_Extensions:         Amazon S3, XGBoost, Algos, AutoML, Core V3, TargetEncoder, Core V4\n",
       "Python_version:             3.6.9 final\n",
       "--------------------------  ------------------------------------------------------------------"
      ]
     },
     "metadata": {},
     "output_type": "display_data"
    }
   ],
   "source": [
    "h2o.init()"
   ]
  },
  {
   "cell_type": "code",
   "execution_count": 53,
   "id": "heavy-powell",
   "metadata": {},
   "outputs": [],
   "source": [
    "data = pd.read_csv('final_data/final_training_data.csv')"
   ]
  },
  {
   "cell_type": "code",
   "execution_count": 54,
   "id": "unlikely-sculpture",
   "metadata": {},
   "outputs": [
    {
     "data": {
      "text/plain": [
       "0    77640\n",
       "1      729\n",
       "Name: redemption_status, dtype: int64"
      ]
     },
     "execution_count": 54,
     "metadata": {},
     "output_type": "execute_result"
    }
   ],
   "source": [
    "data.redemption_status.value_counts()"
   ]
  },
  {
   "cell_type": "code",
   "execution_count": 55,
   "id": "foster-infection",
   "metadata": {},
   "outputs": [
    {
     "data": {
      "text/plain": [
       "0    0.990698\n",
       "1    0.009302\n",
       "Name: redemption_status, dtype: float64"
      ]
     },
     "execution_count": 55,
     "metadata": {},
     "output_type": "execute_result"
    }
   ],
   "source": [
    "data.redemption_status.value_counts(normalize=True)"
   ]
  },
  {
   "cell_type": "code",
   "execution_count": 56,
   "id": "specific-chorus",
   "metadata": {},
   "outputs": [],
   "source": [
    "# Split input and ouput\n",
    "data_y = data['redemption_status']\n",
    "data_x = data.drop(['redemption_status'], axis=1)"
   ]
  },
  {
   "cell_type": "code",
   "execution_count": 98,
   "id": "intended-prospect",
   "metadata": {},
   "outputs": [
    {
     "name": "stdout",
     "output_type": "stream",
     "text": [
      "Parse progress: |█████████████████████████████████████████████████████████| 100%\n"
     ]
    }
   ],
   "source": [
    "test = h2o.import_file('final_data/final_test_data.csv')"
   ]
  },
  {
   "cell_type": "markdown",
   "id": "dietary-rwanda",
   "metadata": {},
   "source": [
    "## Preparing data using various oversampling algorithms"
   ]
  },
  {
   "cell_type": "markdown",
   "id": "dangerous-tunisia",
   "metadata": {},
   "source": [
    "### SMOTE"
   ]
  },
  {
   "cell_type": "code",
   "execution_count": 57,
   "id": "eight-equality",
   "metadata": {},
   "outputs": [],
   "source": [
    "smt = SMOTE()\n",
    "data_x_sm, data_y_sm = smt.fit_resample(data_x, data_y)"
   ]
  },
  {
   "cell_type": "code",
   "execution_count": 58,
   "id": "thousand-kelly",
   "metadata": {},
   "outputs": [
    {
     "data": {
      "text/plain": [
       "1    0.5\n",
       "0    0.5\n",
       "Name: redemption_status, dtype: float64"
      ]
     },
     "execution_count": 58,
     "metadata": {},
     "output_type": "execute_result"
    }
   ],
   "source": [
    "data_y_sm.value_counts(normalize=True)  # This does not seem OK :D"
   ]
  },
  {
   "cell_type": "code",
   "execution_count": 59,
   "id": "everyday-thread",
   "metadata": {},
   "outputs": [
    {
     "data": {
      "text/plain": [
       "0    0.833333\n",
       "1    0.166667\n",
       "Name: redemption_status, dtype: float64"
      ]
     },
     "execution_count": 59,
     "metadata": {},
     "output_type": "execute_result"
    }
   ],
   "source": [
    "smt = SMOTE(sampling_strategy=0.2)\n",
    "data_x_sm_02, data_y_sm_02 = smt.fit_resample(data_x, data_y)\n",
    "data_y_sm_02.value_counts(normalize=True)"
   ]
  },
  {
   "cell_type": "markdown",
   "id": "departmental-pacific",
   "metadata": {},
   "source": [
    "### ADASYN"
   ]
  },
  {
   "cell_type": "code",
   "execution_count": 60,
   "id": "further-singapore",
   "metadata": {},
   "outputs": [
    {
     "data": {
      "text/plain": [
       "0    0.832842\n",
       "1    0.167158\n",
       "Name: redemption_status, dtype: float64"
      ]
     },
     "execution_count": 60,
     "metadata": {},
     "output_type": "execute_result"
    }
   ],
   "source": [
    "ada = ADASYN(sampling_strategy=0.2, random_state=130)\n",
    "data_x_ada_02, data_y_ada_02 = ada.fit_resample(data_x, data_y)\n",
    "data_y_ada_02.value_counts(normalize=True)"
   ]
  },
  {
   "cell_type": "markdown",
   "id": "furnished-aircraft",
   "metadata": {},
   "source": [
    "### SMOTE + Tomek"
   ]
  },
  {
   "cell_type": "code",
   "execution_count": 61,
   "id": "smoking-theory",
   "metadata": {},
   "outputs": [
    {
     "data": {
      "text/plain": [
       "0    0.836972\n",
       "1    0.163028\n",
       "Name: redemption_status, dtype: float64"
      ]
     },
     "execution_count": 61,
     "metadata": {},
     "output_type": "execute_result"
    }
   ],
   "source": [
    "smtom = SMOTETomek(sampling_strategy=0.2, random_state=139)\n",
    "data_x_tomek_02, data_y_tomek_02 = smtom.fit_resample(data_x, data_y)\n",
    "data_y_tomek_02.value_counts(normalize=True)"
   ]
  },
  {
   "cell_type": "markdown",
   "id": "systematic-ordinary",
   "metadata": {},
   "source": [
    "### SMOTE+ENN"
   ]
  },
  {
   "cell_type": "code",
   "execution_count": 62,
   "id": "protecting-jaguar",
   "metadata": {},
   "outputs": [
    {
     "data": {
      "text/plain": [
       "0    0.861739\n",
       "1    0.138261\n",
       "Name: redemption_status, dtype: float64"
      ]
     },
     "execution_count": 62,
     "metadata": {},
     "output_type": "execute_result"
    }
   ],
   "source": [
    "smenn = SMOTEENN(sampling_strategy=0.2)\n",
    "data_x_enn_02, data_y_enn_02 = smenn.fit_resample(data_x, data_y)\n",
    "data_y_enn_02.value_counts(normalize=True)"
   ]
  },
  {
   "cell_type": "markdown",
   "id": "organized-checkout",
   "metadata": {},
   "source": [
    "## Performance comparison using AutoML"
   ]
  },
  {
   "cell_type": "markdown",
   "id": "hourly-halloween",
   "metadata": {},
   "source": [
    "### SMOTE"
   ]
  },
  {
   "cell_type": "code",
   "execution_count": 63,
   "id": "junior-contractor",
   "metadata": {},
   "outputs": [
    {
     "name": "stdout",
     "output_type": "stream",
     "text": [
      "Parse progress: |█████████████████████████████████████████████████████████| 100%\n"
     ]
    }
   ],
   "source": [
    "data_x_sm_02['redemption_status'] = data_y_sm_02\n",
    "h2o_data_sm_02 = h2o.H2OFrame(data_x_sm_02)"
   ]
  },
  {
   "cell_type": "code",
   "execution_count": 64,
   "id": "boxed-mercury",
   "metadata": {},
   "outputs": [],
   "source": [
    "# Factorize the target column\n",
    "h2o_data_sm_02['redemption_status'] = h2o_data_sm_02['redemption_status'].asfactor()\n",
    "y = 'redemption_status'\n",
    "x = h2o_data_sm_02.columns\n",
    "x.remove(y)"
   ]
  },
  {
   "cell_type": "code",
   "execution_count": 65,
   "id": "confused-university",
   "metadata": {},
   "outputs": [
    {
     "name": "stdout",
     "output_type": "stream",
     "text": [
      "AutoML progress: |████████████████████████████████████████████████████████| 100%\n"
     ]
    }
   ],
   "source": [
    "aml = H2OAutoML(max_models=10, seed=1)\n",
    "aml.train(x=x, y=y, training_frame=h2o_data_sm_02)"
   ]
  },
  {
   "cell_type": "code",
   "execution_count": 66,
   "id": "sensitive-working",
   "metadata": {},
   "outputs": [
    {
     "data": {
      "text/html": [
       "<table>\n",
       "<thead>\n",
       "<tr><th>model_id                                           </th><th style=\"text-align: right;\">     auc</th><th style=\"text-align: right;\">  logloss</th><th style=\"text-align: right;\">   aucpr</th><th style=\"text-align: right;\">  mean_per_class_error</th><th style=\"text-align: right;\">     rmse</th><th style=\"text-align: right;\">       mse</th></tr>\n",
       "</thead>\n",
       "<tbody>\n",
       "<tr><td>GBM_5_AutoML_20210225_165106                       </td><td style=\"text-align: right;\">0.999502</td><td style=\"text-align: right;\">0.0186934</td><td style=\"text-align: right;\">0.997909</td><td style=\"text-align: right;\">             0.0141937</td><td style=\"text-align: right;\">0.0703995</td><td style=\"text-align: right;\">0.00495609</td></tr>\n",
       "<tr><td>GBM_4_AutoML_20210225_165106                       </td><td style=\"text-align: right;\">0.999457</td><td style=\"text-align: right;\">0.0189456</td><td style=\"text-align: right;\">0.997776</td><td style=\"text-align: right;\">             0.0134274</td><td style=\"text-align: right;\">0.0697612</td><td style=\"text-align: right;\">0.00486662</td></tr>\n",
       "<tr><td>StackedEnsemble_AllModels_AutoML_20210225_165106   </td><td style=\"text-align: right;\">0.999434</td><td style=\"text-align: right;\">0.0226206</td><td style=\"text-align: right;\">0.997658</td><td style=\"text-align: right;\">             0.0137622</td><td style=\"text-align: right;\">0.0717617</td><td style=\"text-align: right;\">0.00514974</td></tr>\n",
       "<tr><td>StackedEnsemble_BestOfFamily_AutoML_20210225_165106</td><td style=\"text-align: right;\">0.999419</td><td style=\"text-align: right;\">0.0224902</td><td style=\"text-align: right;\">0.997472</td><td style=\"text-align: right;\">             0.0135433</td><td style=\"text-align: right;\">0.0716506</td><td style=\"text-align: right;\">0.00513381</td></tr>\n",
       "<tr><td>GBM_3_AutoML_20210225_165106                       </td><td style=\"text-align: right;\">0.999268</td><td style=\"text-align: right;\">0.0209003</td><td style=\"text-align: right;\">0.997155</td><td style=\"text-align: right;\">             0.0147347</td><td style=\"text-align: right;\">0.0727992</td><td style=\"text-align: right;\">0.00529972</td></tr>\n",
       "<tr><td>DRF_1_AutoML_20210225_165106                       </td><td style=\"text-align: right;\">0.999187</td><td style=\"text-align: right;\">0.0563899</td><td style=\"text-align: right;\">0.996245</td><td style=\"text-align: right;\">             0.0151404</td><td style=\"text-align: right;\">0.101024 </td><td style=\"text-align: right;\">0.0102058 </td></tr>\n",
       "<tr><td>GBM_2_AutoML_20210225_165106                       </td><td style=\"text-align: right;\">0.999135</td><td style=\"text-align: right;\">0.022326 </td><td style=\"text-align: right;\">0.996716</td><td style=\"text-align: right;\">             0.0157586</td><td style=\"text-align: right;\">0.0750374</td><td style=\"text-align: right;\">0.00563061</td></tr>\n",
       "<tr><td>XGBoost_1_AutoML_20210225_165106                   </td><td style=\"text-align: right;\">0.998988</td><td style=\"text-align: right;\">0.0247944</td><td style=\"text-align: right;\">0.996164</td><td style=\"text-align: right;\">             0.0191847</td><td style=\"text-align: right;\">0.0798934</td><td style=\"text-align: right;\">0.00638296</td></tr>\n",
       "<tr><td>XGBoost_2_AutoML_20210225_165106                   </td><td style=\"text-align: right;\">0.998962</td><td style=\"text-align: right;\">0.0253108</td><td style=\"text-align: right;\">0.995965</td><td style=\"text-align: right;\">             0.0182445</td><td style=\"text-align: right;\">0.0805656</td><td style=\"text-align: right;\">0.00649082</td></tr>\n",
       "<tr><td>GBM_1_AutoML_20210225_165106                       </td><td style=\"text-align: right;\">0.9988  </td><td style=\"text-align: right;\">0.0261319</td><td style=\"text-align: right;\">0.995385</td><td style=\"text-align: right;\">             0.0171561</td><td style=\"text-align: right;\">0.0796025</td><td style=\"text-align: right;\">0.00633656</td></tr>\n",
       "</tbody>\n",
       "</table>"
      ]
     },
     "metadata": {},
     "output_type": "display_data"
    },
    {
     "data": {
      "text/plain": []
     },
     "execution_count": 66,
     "metadata": {},
     "output_type": "execute_result"
    }
   ],
   "source": [
    "lb_sm = aml.leaderboard\n",
    "lb_sm.head()"
   ]
  },
  {
   "cell_type": "code",
   "execution_count": 67,
   "id": "turned-princess",
   "metadata": {},
   "outputs": [],
   "source": [
    "leader_sm = aml.leader"
   ]
  },
  {
   "cell_type": "code",
   "execution_count": 99,
   "id": "rotary-hygiene",
   "metadata": {},
   "outputs": [
    {
     "name": "stdout",
     "output_type": "stream",
     "text": [
      "gbm prediction progress: |████████████████████████████████████████████████| 100%\n"
     ]
    },
    {
     "data": {
      "text/plain": [
       "0    0.992255\n",
       "1    0.007745\n",
       "Name: predict, dtype: float64"
      ]
     },
     "execution_count": 99,
     "metadata": {},
     "output_type": "execute_result"
    }
   ],
   "source": [
    "pred_sm = leader_sm.predict(test)\n",
    "pred_sm.as_data_frame().predict.value_counts(normalize=True)"
   ]
  },
  {
   "cell_type": "markdown",
   "id": "objective-portsmouth",
   "metadata": {},
   "source": [
    "### ADASYN"
   ]
  },
  {
   "cell_type": "code",
   "execution_count": 68,
   "id": "tough-theorem",
   "metadata": {},
   "outputs": [
    {
     "name": "stdout",
     "output_type": "stream",
     "text": [
      "Parse progress: |█████████████████████████████████████████████████████████| 100%\n",
      "AutoML progress: |████████████████████████████████████████████████████████| 100%\n"
     ]
    }
   ],
   "source": [
    "data_x_ada_02['redemption_status'] = data_y_ada_02\n",
    "h2o_data_ada_02 = h2o.H2OFrame(data_x_ada_02) \n",
    "h2o_data_ada_02['redemption_status'] = h2o_data_ada_02['redemption_status'].asfactor()\n",
    "x = h2o_data_ada_02.columns\n",
    "x.remove(y)\n",
    "aml = H2OAutoML(max_models=10, seed=1)\n",
    "aml.train(x=x, y=y, training_frame=h2o_data_ada_02)"
   ]
  },
  {
   "cell_type": "code",
   "execution_count": 69,
   "id": "remarkable-kuwait",
   "metadata": {},
   "outputs": [
    {
     "data": {
      "text/html": [
       "<table>\n",
       "<thead>\n",
       "<tr><th>model_id                                           </th><th style=\"text-align: right;\">     auc</th><th style=\"text-align: right;\">  logloss</th><th style=\"text-align: right;\">   aucpr</th><th style=\"text-align: right;\">  mean_per_class_error</th><th style=\"text-align: right;\">     rmse</th><th style=\"text-align: right;\">       mse</th></tr>\n",
       "</thead>\n",
       "<tbody>\n",
       "<tr><td>GBM_5_AutoML_20210225_172027                       </td><td style=\"text-align: right;\">0.999432</td><td style=\"text-align: right;\">0.0193585</td><td style=\"text-align: right;\">0.997727</td><td style=\"text-align: right;\">             0.0134042</td><td style=\"text-align: right;\">0.0713448</td><td style=\"text-align: right;\">0.00509008</td></tr>\n",
       "<tr><td>StackedEnsemble_AllModels_AutoML_20210225_172027   </td><td style=\"text-align: right;\">0.999428</td><td style=\"text-align: right;\">0.0233448</td><td style=\"text-align: right;\">0.997541</td><td style=\"text-align: right;\">             0.0143598</td><td style=\"text-align: right;\">0.073241 </td><td style=\"text-align: right;\">0.00536424</td></tr>\n",
       "<tr><td>StackedEnsemble_BestOfFamily_AutoML_20210225_172027</td><td style=\"text-align: right;\">0.99942 </td><td style=\"text-align: right;\">0.0230424</td><td style=\"text-align: right;\">0.997393</td><td style=\"text-align: right;\">             0.013488 </td><td style=\"text-align: right;\">0.0726295</td><td style=\"text-align: right;\">0.00527504</td></tr>\n",
       "<tr><td>GBM_4_AutoML_20210225_172027                       </td><td style=\"text-align: right;\">0.999418</td><td style=\"text-align: right;\">0.0197991</td><td style=\"text-align: right;\">0.997629</td><td style=\"text-align: right;\">             0.0150459</td><td style=\"text-align: right;\">0.0716215</td><td style=\"text-align: right;\">0.00512964</td></tr>\n",
       "<tr><td>GBM_3_AutoML_20210225_172027                       </td><td style=\"text-align: right;\">0.999259</td><td style=\"text-align: right;\">0.0211704</td><td style=\"text-align: right;\">0.997146</td><td style=\"text-align: right;\">             0.0154954</td><td style=\"text-align: right;\">0.0735977</td><td style=\"text-align: right;\">0.00541662</td></tr>\n",
       "<tr><td>DRF_1_AutoML_20210225_172027                       </td><td style=\"text-align: right;\">0.999146</td><td style=\"text-align: right;\">0.0532698</td><td style=\"text-align: right;\">0.995976</td><td style=\"text-align: right;\">             0.0141788</td><td style=\"text-align: right;\">0.10104  </td><td style=\"text-align: right;\">0.010209  </td></tr>\n",
       "<tr><td>GBM_2_AutoML_20210225_172027                       </td><td style=\"text-align: right;\">0.99912 </td><td style=\"text-align: right;\">0.0223341</td><td style=\"text-align: right;\">0.996711</td><td style=\"text-align: right;\">             0.0151368</td><td style=\"text-align: right;\">0.0750379</td><td style=\"text-align: right;\">0.00563069</td></tr>\n",
       "<tr><td>XGBoost_2_AutoML_20210225_172027                   </td><td style=\"text-align: right;\">0.998921</td><td style=\"text-align: right;\">0.0256518</td><td style=\"text-align: right;\">0.995949</td><td style=\"text-align: right;\">             0.0179606</td><td style=\"text-align: right;\">0.0814322</td><td style=\"text-align: right;\">0.0066312 </td></tr>\n",
       "<tr><td>XGBoost_1_AutoML_20210225_172027                   </td><td style=\"text-align: right;\">0.998904</td><td style=\"text-align: right;\">0.0252466</td><td style=\"text-align: right;\">0.995933</td><td style=\"text-align: right;\">             0.0178063</td><td style=\"text-align: right;\">0.0799535</td><td style=\"text-align: right;\">0.00639256</td></tr>\n",
       "<tr><td>GBM_1_AutoML_20210225_172027                       </td><td style=\"text-align: right;\">0.998754</td><td style=\"text-align: right;\">0.0259034</td><td style=\"text-align: right;\">0.995596</td><td style=\"text-align: right;\">             0.0189606</td><td style=\"text-align: right;\">0.0802157</td><td style=\"text-align: right;\">0.00643456</td></tr>\n",
       "</tbody>\n",
       "</table>"
      ]
     },
     "metadata": {},
     "output_type": "display_data"
    },
    {
     "data": {
      "text/plain": []
     },
     "execution_count": 69,
     "metadata": {},
     "output_type": "execute_result"
    }
   ],
   "source": [
    "lb_ada = aml.leaderboard\n",
    "lb_ada.head()"
   ]
  },
  {
   "cell_type": "code",
   "execution_count": 70,
   "id": "assigned-adobe",
   "metadata": {},
   "outputs": [],
   "source": [
    "leader_ada = aml.leader"
   ]
  },
  {
   "cell_type": "code",
   "execution_count": 100,
   "id": "bacterial-commons",
   "metadata": {},
   "outputs": [
    {
     "name": "stdout",
     "output_type": "stream",
     "text": [
      "gbm prediction progress: |████████████████████████████████████████████████| 100%\n"
     ]
    },
    {
     "data": {
      "text/plain": [
       "0    0.989587\n",
       "1    0.010413\n",
       "Name: predict, dtype: float64"
      ]
     },
     "execution_count": 100,
     "metadata": {},
     "output_type": "execute_result"
    }
   ],
   "source": [
    "pred_ada = leader_ada.predict(test)\n",
    "pred_ada.as_data_frame().predict.value_counts(normalize=True)"
   ]
  },
  {
   "cell_type": "markdown",
   "id": "meaning-retrieval",
   "metadata": {},
   "source": [
    "### SMOTE + Tomek"
   ]
  },
  {
   "cell_type": "code",
   "execution_count": 71,
   "id": "plastic-funeral",
   "metadata": {},
   "outputs": [
    {
     "name": "stdout",
     "output_type": "stream",
     "text": [
      "Parse progress: |█████████████████████████████████████████████████████████| 100%\n",
      "AutoML progress: |████████████████████████████████████████████████████████| 100%\n"
     ]
    }
   ],
   "source": [
    "data_x_tomek_02['redemption_status'] = data_y_tomek_02\n",
    "h2o_data_tomek_02 = h2o.H2OFrame(data_x_tomek_02)\n",
    "h2o_data_tomek_02['redemption_status'] = h2o_data_tomek_02['redemption_status'].asfactor()\n",
    "x = h2o_data_tomek_02.columns\n",
    "x.remove(y)\n",
    "aml = H2OAutoML(max_models=10, seed=1)\n",
    "aml.train(x=x, y=y, training_frame=h2o_data_tomek_02)"
   ]
  },
  {
   "cell_type": "code",
   "execution_count": 72,
   "id": "everyday-margin",
   "metadata": {},
   "outputs": [
    {
     "data": {
      "text/html": [
       "<table>\n",
       "<thead>\n",
       "<tr><th>model_id                                           </th><th style=\"text-align: right;\">     auc</th><th style=\"text-align: right;\">  logloss</th><th style=\"text-align: right;\">   aucpr</th><th style=\"text-align: right;\">  mean_per_class_error</th><th style=\"text-align: right;\">     rmse</th><th style=\"text-align: right;\">       mse</th></tr>\n",
       "</thead>\n",
       "<tbody>\n",
       "<tr><td>GBM_4_AutoML_20210225_174742                       </td><td style=\"text-align: right;\">0.999535</td><td style=\"text-align: right;\">0.0176272</td><td style=\"text-align: right;\">0.998045</td><td style=\"text-align: right;\">             0.0131909</td><td style=\"text-align: right;\">0.067369 </td><td style=\"text-align: right;\">0.00453858</td></tr>\n",
       "<tr><td>GBM_5_AutoML_20210225_174742                       </td><td style=\"text-align: right;\">0.999505</td><td style=\"text-align: right;\">0.0177264</td><td style=\"text-align: right;\">0.997981</td><td style=\"text-align: right;\">             0.0125581</td><td style=\"text-align: right;\">0.0681404</td><td style=\"text-align: right;\">0.00464312</td></tr>\n",
       "<tr><td>StackedEnsemble_BestOfFamily_AutoML_20210225_174742</td><td style=\"text-align: right;\">0.999483</td><td style=\"text-align: right;\">0.0213904</td><td style=\"text-align: right;\">0.997847</td><td style=\"text-align: right;\">             0.0125461</td><td style=\"text-align: right;\">0.0694555</td><td style=\"text-align: right;\">0.00482407</td></tr>\n",
       "<tr><td>StackedEnsemble_AllModels_AutoML_20210225_174742   </td><td style=\"text-align: right;\">0.999469</td><td style=\"text-align: right;\">0.0215139</td><td style=\"text-align: right;\">0.997906</td><td style=\"text-align: right;\">             0.0129138</td><td style=\"text-align: right;\">0.0697782</td><td style=\"text-align: right;\">0.00486899</td></tr>\n",
       "<tr><td>GBM_3_AutoML_20210225_174742                       </td><td style=\"text-align: right;\">0.999319</td><td style=\"text-align: right;\">0.0193487</td><td style=\"text-align: right;\">0.997396</td><td style=\"text-align: right;\">             0.0145358</td><td style=\"text-align: right;\">0.0700341</td><td style=\"text-align: right;\">0.00490478</td></tr>\n",
       "<tr><td>DRF_1_AutoML_20210225_174742                       </td><td style=\"text-align: right;\">0.999209</td><td style=\"text-align: right;\">0.04983  </td><td style=\"text-align: right;\">0.996108</td><td style=\"text-align: right;\">             0.0139146</td><td style=\"text-align: right;\">0.0983134</td><td style=\"text-align: right;\">0.00966552</td></tr>\n",
       "<tr><td>GBM_2_AutoML_20210225_174742                       </td><td style=\"text-align: right;\">0.999167</td><td style=\"text-align: right;\">0.0209618</td><td style=\"text-align: right;\">0.996933</td><td style=\"text-align: right;\">             0.0158281</td><td style=\"text-align: right;\">0.0724659</td><td style=\"text-align: right;\">0.0052513 </td></tr>\n",
       "<tr><td>XGBoost_1_AutoML_20210225_174742                   </td><td style=\"text-align: right;\">0.999095</td><td style=\"text-align: right;\">0.0227212</td><td style=\"text-align: right;\">0.996572</td><td style=\"text-align: right;\">             0.0177141</td><td style=\"text-align: right;\">0.0766384</td><td style=\"text-align: right;\">0.00587344</td></tr>\n",
       "<tr><td>XGBoost_2_AutoML_20210225_174742                   </td><td style=\"text-align: right;\">0.999042</td><td style=\"text-align: right;\">0.0239419</td><td style=\"text-align: right;\">0.996219</td><td style=\"text-align: right;\">             0.0187734</td><td style=\"text-align: right;\">0.0785926</td><td style=\"text-align: right;\">0.0061768 </td></tr>\n",
       "<tr><td>XGBoost_3_AutoML_20210225_174742                   </td><td style=\"text-align: right;\">0.998858</td><td style=\"text-align: right;\">0.0243212</td><td style=\"text-align: right;\">0.995957</td><td style=\"text-align: right;\">             0.0180819</td><td style=\"text-align: right;\">0.0783373</td><td style=\"text-align: right;\">0.00613673</td></tr>\n",
       "</tbody>\n",
       "</table>"
      ]
     },
     "metadata": {},
     "output_type": "display_data"
    },
    {
     "data": {
      "text/plain": []
     },
     "execution_count": 72,
     "metadata": {},
     "output_type": "execute_result"
    }
   ],
   "source": [
    "lb_tomek = aml.leaderboard\n",
    "lb_tomek.head()"
   ]
  },
  {
   "cell_type": "code",
   "execution_count": 73,
   "id": "czech-gabriel",
   "metadata": {},
   "outputs": [],
   "source": [
    "leader_tomek = aml.leader"
   ]
  },
  {
   "cell_type": "code",
   "execution_count": 101,
   "id": "powered-charlotte",
   "metadata": {},
   "outputs": [
    {
     "name": "stdout",
     "output_type": "stream",
     "text": [
      "gbm prediction progress: |████████████████████████████████████████████████| 100%\n"
     ]
    },
    {
     "data": {
      "text/plain": [
       "0    0.987895\n",
       "1    0.012105\n",
       "Name: predict, dtype: float64"
      ]
     },
     "execution_count": 101,
     "metadata": {},
     "output_type": "execute_result"
    }
   ],
   "source": [
    "pred_tomek = leader_tomek.predict(test)\n",
    "pred_tomek.as_data_frame().predict.value_counts(normalize=True)"
   ]
  },
  {
   "cell_type": "markdown",
   "id": "micro-nirvana",
   "metadata": {},
   "source": [
    "### SMOTE + ENN"
   ]
  },
  {
   "cell_type": "code",
   "execution_count": 74,
   "id": "valid-healthcare",
   "metadata": {},
   "outputs": [
    {
     "name": "stdout",
     "output_type": "stream",
     "text": [
      "Parse progress: |█████████████████████████████████████████████████████████| 100%\n",
      "AutoML progress: |████████████████████████████████████████████████████████| 100%\n"
     ]
    }
   ],
   "source": [
    "data_x_enn_02['redemption_status'] = data_y_enn_02\n",
    "h2o_data_enn_02 = h2o.H2OFrame(data_x_enn_02)\n",
    "h2o_data_enn_02['redemption_status'] = h2o_data_enn_02['redemption_status'].asfactor()\n",
    "x = h2o_data_enn_02.columns\n",
    "x.remove(y)\n",
    "aml = H2OAutoML(max_models=10, seed=1)\n",
    "aml.train(x=x, y=y, training_frame=h2o_data_enn_02)"
   ]
  },
  {
   "cell_type": "code",
   "execution_count": 75,
   "id": "hollywood-admission",
   "metadata": {},
   "outputs": [
    {
     "data": {
      "text/html": [
       "<table>\n",
       "<thead>\n",
       "<tr><th>model_id                                           </th><th style=\"text-align: right;\">     auc</th><th style=\"text-align: right;\">  logloss</th><th style=\"text-align: right;\">   aucpr</th><th style=\"text-align: right;\">  mean_per_class_error</th><th style=\"text-align: right;\">     rmse</th><th style=\"text-align: right;\">       mse</th></tr>\n",
       "</thead>\n",
       "<tbody>\n",
       "<tr><td>GBM_5_AutoML_20210225_181503                       </td><td style=\"text-align: right;\">0.999766</td><td style=\"text-align: right;\">0.0112397</td><td style=\"text-align: right;\">0.998782</td><td style=\"text-align: right;\">            0.00952398</td><td style=\"text-align: right;\">0.0536275</td><td style=\"text-align: right;\">0.00287591</td></tr>\n",
       "<tr><td>GBM_4_AutoML_20210225_181503                       </td><td style=\"text-align: right;\">0.999743</td><td style=\"text-align: right;\">0.011255 </td><td style=\"text-align: right;\">0.998834</td><td style=\"text-align: right;\">            0.00832442</td><td style=\"text-align: right;\">0.0532021</td><td style=\"text-align: right;\">0.00283046</td></tr>\n",
       "<tr><td>StackedEnsemble_AllModels_AutoML_20210225_181503   </td><td style=\"text-align: right;\">0.999719</td><td style=\"text-align: right;\">0.0142188</td><td style=\"text-align: right;\">0.998579</td><td style=\"text-align: right;\">            0.00950856</td><td style=\"text-align: right;\">0.0553215</td><td style=\"text-align: right;\">0.00306047</td></tr>\n",
       "<tr><td>StackedEnsemble_BestOfFamily_AutoML_20210225_181503</td><td style=\"text-align: right;\">0.999704</td><td style=\"text-align: right;\">0.0140184</td><td style=\"text-align: right;\">0.998475</td><td style=\"text-align: right;\">            0.00978918</td><td style=\"text-align: right;\">0.0549231</td><td style=\"text-align: right;\">0.00301655</td></tr>\n",
       "<tr><td>GBM_3_AutoML_20210225_181503                       </td><td style=\"text-align: right;\">0.999675</td><td style=\"text-align: right;\">0.0122479</td><td style=\"text-align: right;\">0.998461</td><td style=\"text-align: right;\">            0.00972541</td><td style=\"text-align: right;\">0.0550445</td><td style=\"text-align: right;\">0.00302989</td></tr>\n",
       "<tr><td>GBM_2_AutoML_20210225_181503                       </td><td style=\"text-align: right;\">0.999625</td><td style=\"text-align: right;\">0.0132983</td><td style=\"text-align: right;\">0.998186</td><td style=\"text-align: right;\">            0.0107208 </td><td style=\"text-align: right;\">0.0574437</td><td style=\"text-align: right;\">0.00329978</td></tr>\n",
       "<tr><td>DRF_1_AutoML_20210225_181503                       </td><td style=\"text-align: right;\">0.999538</td><td style=\"text-align: right;\">0.0396007</td><td style=\"text-align: right;\">0.997298</td><td style=\"text-align: right;\">            0.010839  </td><td style=\"text-align: right;\">0.0845004</td><td style=\"text-align: right;\">0.00714032</td></tr>\n",
       "<tr><td>XGBoost_1_AutoML_20210225_181503                   </td><td style=\"text-align: right;\">0.999461</td><td style=\"text-align: right;\">0.0162006</td><td style=\"text-align: right;\">0.997439</td><td style=\"text-align: right;\">            0.0134833 </td><td style=\"text-align: right;\">0.0642422</td><td style=\"text-align: right;\">0.00412706</td></tr>\n",
       "<tr><td>GBM_1_AutoML_20210225_181503                       </td><td style=\"text-align: right;\">0.99945 </td><td style=\"text-align: right;\">0.0155388</td><td style=\"text-align: right;\">0.997479</td><td style=\"text-align: right;\">            0.0115811 </td><td style=\"text-align: right;\">0.0617412</td><td style=\"text-align: right;\">0.00381198</td></tr>\n",
       "<tr><td>XGBoost_2_AutoML_20210225_181503                   </td><td style=\"text-align: right;\">0.999394</td><td style=\"text-align: right;\">0.0177069</td><td style=\"text-align: right;\">0.997069</td><td style=\"text-align: right;\">            0.0132413 </td><td style=\"text-align: right;\">0.0668524</td><td style=\"text-align: right;\">0.00446925</td></tr>\n",
       "</tbody>\n",
       "</table>"
      ]
     },
     "metadata": {},
     "output_type": "display_data"
    },
    {
     "data": {
      "text/plain": []
     },
     "execution_count": 75,
     "metadata": {},
     "output_type": "execute_result"
    }
   ],
   "source": [
    "lb_enn = aml.leaderboard\n",
    "lb_enn.head()"
   ]
  },
  {
   "cell_type": "code",
   "execution_count": 77,
   "id": "genetic-cycling",
   "metadata": {},
   "outputs": [],
   "source": [
    "leader_enn = aml.leader"
   ]
  },
  {
   "cell_type": "code",
   "execution_count": 102,
   "id": "standing-charity",
   "metadata": {},
   "outputs": [
    {
     "name": "stdout",
     "output_type": "stream",
     "text": [
      "gbm prediction progress: |████████████████████████████████████████████████| 100%\n"
     ]
    },
    {
     "data": {
      "text/plain": [
       "0    0.996356\n",
       "1    0.003644\n",
       "Name: predict, dtype: float64"
      ]
     },
     "execution_count": 102,
     "metadata": {},
     "output_type": "execute_result"
    }
   ],
   "source": [
    "pred_enn = leader_enn.predict(test)\n",
    "pred_enn.as_data_frame().predict.value_counts(normalize=True)"
   ]
  },
  {
   "cell_type": "markdown",
   "id": "inclusive-crystal",
   "metadata": {},
   "source": [
    "## Generate predictions on the test set"
   ]
  },
  {
   "cell_type": "code",
   "execution_count": 88,
   "id": "contemporary-mozambique",
   "metadata": {},
   "outputs": [
    {
     "name": "stdout",
     "output_type": "stream",
     "text": [
      "Parse progress: |█████████████████████████████████████████████████████████| 100%\n"
     ]
    }
   ],
   "source": [
    "test = h2o.import_file('final_data/final_test_data.csv')"
   ]
  },
  {
   "cell_type": "code",
   "execution_count": 89,
   "id": "thermal-vampire",
   "metadata": {},
   "outputs": [
    {
     "data": {
      "text/html": [
       "<table>\n",
       "<thead>\n",
       "<tr><th style=\"text-align: right;\">  coupon_id</th><th style=\"text-align: right;\">  customer_id</th><th style=\"text-align: right;\">  brand</th><th style=\"text-align: right;\">  category</th><th style=\"text-align: right;\">  coupon_used_x</th><th style=\"text-align: right;\">  discount_mean</th><th style=\"text-align: right;\">  discount_sum</th><th style=\"text-align: right;\">  item_counts</th><th style=\"text-align: right;\">  no_of_customers</th><th style=\"text-align: right;\">  price_mean</th><th style=\"text-align: right;\">  price_sum</th><th style=\"text-align: right;\">  quantity_mean</th><th style=\"text-align: right;\">  quantity_sum_x</th><th style=\"text-align: right;\">  tran_counts</th><th style=\"text-align: right;\">  campaign_type</th><th style=\"text-align: right;\">  campaign_duration</th><th style=\"text-align: right;\">  age_range</th><th style=\"text-align: right;\">  marital_status</th><th style=\"text-align: right;\">  rented</th><th style=\"text-align: right;\">  family_size</th><th style=\"text-align: right;\">  no_of_children</th><th style=\"text-align: right;\">  income_bracket</th><th style=\"text-align: right;\">  mean_discount</th><th style=\"text-align: right;\">  coupon_used_y</th><th style=\"text-align: right;\">  day</th><th style=\"text-align: right;\">  dow</th><th style=\"text-align: right;\">  no_of_items</th><th style=\"text-align: right;\">  month</th><th style=\"text-align: right;\">  mean_quantity</th><th style=\"text-align: right;\">  mean_price</th><th style=\"text-align: right;\">  ddiscount_sum</th><th style=\"text-align: right;\">  customer_id_count</th><th style=\"text-align: right;\">  quantity_sum_y</th><th style=\"text-align: right;\">  pprice_sum</th></tr>\n",
       "</thead>\n",
       "<tbody>\n",
       "<tr><td style=\"text-align: right;\">        869</td><td style=\"text-align: right;\">          967</td><td style=\"text-align: right;\">   1075</td><td style=\"text-align: right;\">         6</td><td style=\"text-align: right;\">             59</td><td style=\"text-align: right;\">      -0.738141</td><td style=\"text-align: right;\">      -2288.55</td><td style=\"text-align: right;\">           72</td><td style=\"text-align: right;\">         20.4028 </td><td style=\"text-align: right;\">    138.225 </td><td style=\"text-align: right;\">   553742  </td><td style=\"text-align: right;\">        1.13038</td><td style=\"text-align: right;\">            4162</td><td style=\"text-align: right;\">         3655</td><td style=\"text-align: right;\">              0</td><td style=\"text-align: right;\">                 32</td><td style=\"text-align: right;\">          2</td><td style=\"text-align: right;\">               1</td><td style=\"text-align: right;\">       0</td><td style=\"text-align: right;\">            1</td><td style=\"text-align: right;\">               0</td><td style=\"text-align: right;\">               5</td><td style=\"text-align: right;\">     -1.55056  </td><td style=\"text-align: right;\">             81</td><td style=\"text-align: right;\">   14</td><td style=\"text-align: right;\">    4</td><td style=\"text-align: right;\">          658</td><td style=\"text-align: right;\">      5</td><td style=\"text-align: right;\">       12.2203 </td><td style=\"text-align: right;\">    116.037 </td><td style=\"text-align: right;\">       -2111.86</td><td style=\"text-align: right;\">               1362</td><td style=\"text-align: right;\">           16644</td><td style=\"text-align: right;\">    158043  </td></tr>\n",
       "<tr><td style=\"text-align: right;\">        389</td><td style=\"text-align: right;\">         1566</td><td style=\"text-align: right;\">     57</td><td style=\"text-align: right;\">        11</td><td style=\"text-align: right;\">             36</td><td style=\"text-align: right;\">      -1.99762 </td><td style=\"text-align: right;\">      -1243.08</td><td style=\"text-align: right;\">           33</td><td style=\"text-align: right;\">         13.1818 </td><td style=\"text-align: right;\">    165.314 </td><td style=\"text-align: right;\">   104871  </td><td style=\"text-align: right;\">        1.03848</td><td style=\"text-align: right;\">             731</td><td style=\"text-align: right;\">          676</td><td style=\"text-align: right;\">              1</td><td style=\"text-align: right;\">                 70</td><td style=\"text-align: right;\">          1</td><td style=\"text-align: right;\">               0</td><td style=\"text-align: right;\">       0</td><td style=\"text-align: right;\">            2</td><td style=\"text-align: right;\">               0</td><td style=\"text-align: right;\">               9</td><td style=\"text-align: right;\">     -0.559929 </td><td style=\"text-align: right;\">             31</td><td style=\"text-align: right;\">    1</td><td style=\"text-align: right;\">    5</td><td style=\"text-align: right;\">         1214</td><td style=\"text-align: right;\">      6</td><td style=\"text-align: right;\">      106.124  </td><td style=\"text-align: right;\">     95.9067</td><td style=\"text-align: right;\">       -1489.97</td><td style=\"text-align: right;\">               2661</td><td style=\"text-align: right;\">          282396</td><td style=\"text-align: right;\">    255208  </td></tr>\n",
       "<tr><td style=\"text-align: right;\">        981</td><td style=\"text-align: right;\">          510</td><td style=\"text-align: right;\">   1335</td><td style=\"text-align: right;\">         6</td><td style=\"text-align: right;\">            107</td><td style=\"text-align: right;\">      -0.703917</td><td style=\"text-align: right;\">      -2518.38</td><td style=\"text-align: right;\">           19</td><td style=\"text-align: right;\">         38.3684 </td><td style=\"text-align: right;\">    100.892 </td><td style=\"text-align: right;\">   119132  </td><td style=\"text-align: right;\">        1.20549</td><td style=\"text-align: right;\">            1495</td><td style=\"text-align: right;\">         1307</td><td style=\"text-align: right;\">              0</td><td style=\"text-align: right;\">                 32</td><td style=\"text-align: right;\">          1</td><td style=\"text-align: right;\">               1</td><td style=\"text-align: right;\">       0</td><td style=\"text-align: right;\">            2</td><td style=\"text-align: right;\">               1</td><td style=\"text-align: right;\">               1</td><td style=\"text-align: right;\">     -1.45234  </td><td style=\"text-align: right;\">             56</td><td style=\"text-align: right;\">   13</td><td style=\"text-align: right;\">    4</td><td style=\"text-align: right;\">         1019</td><td style=\"text-align: right;\">      5</td><td style=\"text-align: right;\">      110.536  </td><td style=\"text-align: right;\">     85.0182</td><td style=\"text-align: right;\">       -2384.75</td><td style=\"text-align: right;\">               1642</td><td style=\"text-align: right;\">          181500</td><td style=\"text-align: right;\">    139600  </td></tr>\n",
       "<tr><td style=\"text-align: right;\">       1069</td><td style=\"text-align: right;\">          361</td><td style=\"text-align: right;\">   1996</td><td style=\"text-align: right;\">         6</td><td style=\"text-align: right;\">             47</td><td style=\"text-align: right;\">      -0.928593</td><td style=\"text-align: right;\">      -1351.66</td><td style=\"text-align: right;\">           74</td><td style=\"text-align: right;\">         18.7432 </td><td style=\"text-align: right;\">    181.726 </td><td style=\"text-align: right;\">   383205  </td><td style=\"text-align: right;\">        1.02916</td><td style=\"text-align: right;\">            2138</td><td style=\"text-align: right;\">         2042</td><td style=\"text-align: right;\">              1</td><td style=\"text-align: right;\">                 32</td><td style=\"text-align: right;\">          0</td><td style=\"text-align: right;\">               1</td><td style=\"text-align: right;\">       0</td><td style=\"text-align: right;\">            1</td><td style=\"text-align: right;\">               0</td><td style=\"text-align: right;\">               3</td><td style=\"text-align: right;\">      0        </td><td style=\"text-align: right;\">              0</td><td style=\"text-align: right;\">    6</td><td style=\"text-align: right;\">    4</td><td style=\"text-align: right;\">          323</td><td style=\"text-align: right;\">      6</td><td style=\"text-align: right;\">       38.7365 </td><td style=\"text-align: right;\">     88.204 </td><td style=\"text-align: right;\">           0   </td><td style=\"text-align: right;\">                573</td><td style=\"text-align: right;\">           22196</td><td style=\"text-align: right;\">     50540.9</td></tr>\n",
       "<tr><td style=\"text-align: right;\">        498</td><td style=\"text-align: right;\">          811</td><td style=\"text-align: right;\">    209</td><td style=\"text-align: right;\">         6</td><td style=\"text-align: right;\">             84</td><td style=\"text-align: right;\">      -4.86612 </td><td style=\"text-align: right;\">      -1729.35</td><td style=\"text-align: right;\">           18</td><td style=\"text-align: right;\">         19.4444 </td><td style=\"text-align: right;\">    113.856 </td><td style=\"text-align: right;\">    64051.1</td><td style=\"text-align: right;\">        1.11   </td><td style=\"text-align: right;\">             619</td><td style=\"text-align: right;\">          567</td><td style=\"text-align: right;\">              1</td><td style=\"text-align: right;\">                 32</td><td style=\"text-align: right;\">          3</td><td style=\"text-align: right;\">               0</td><td style=\"text-align: right;\">       0</td><td style=\"text-align: right;\">            2</td><td style=\"text-align: right;\">               0</td><td style=\"text-align: right;\">               5</td><td style=\"text-align: right;\">     -0.0675057</td><td style=\"text-align: right;\">              3</td><td style=\"text-align: right;\">   15</td><td style=\"text-align: right;\">    5</td><td style=\"text-align: right;\">          720</td><td style=\"text-align: right;\">      6</td><td style=\"text-align: right;\">        1.31084</td><td style=\"text-align: right;\">     85.6419</td><td style=\"text-align: right;\">         -89.04</td><td style=\"text-align: right;\">               1319</td><td style=\"text-align: right;\">            1729</td><td style=\"text-align: right;\">    112962  </td></tr>\n",
       "<tr><td style=\"text-align: right;\">         44</td><td style=\"text-align: right;\">         1498</td><td style=\"text-align: right;\">   1124</td><td style=\"text-align: right;\">         6</td><td style=\"text-align: right;\">             96</td><td style=\"text-align: right;\">      -0.453697</td><td style=\"text-align: right;\">      -2178.17</td><td style=\"text-align: right;\">           95</td><td style=\"text-align: right;\">         23.5053 </td><td style=\"text-align: right;\">     73.5302</td><td style=\"text-align: right;\">   261342  </td><td style=\"text-align: right;\">        1.35929</td><td style=\"text-align: right;\">            5077</td><td style=\"text-align: right;\">         3712</td><td style=\"text-align: right;\">              1</td><td style=\"text-align: right;\">                 32</td><td style=\"text-align: right;\">          3</td><td style=\"text-align: right;\">               0</td><td style=\"text-align: right;\">       0</td><td style=\"text-align: right;\">            2</td><td style=\"text-align: right;\">               0</td><td style=\"text-align: right;\">               5</td><td style=\"text-align: right;\">     -0.248955 </td><td style=\"text-align: right;\">              4</td><td style=\"text-align: right;\">    7</td><td style=\"text-align: right;\">    1</td><td style=\"text-align: right;\">          509</td><td style=\"text-align: right;\">      5</td><td style=\"text-align: right;\">       35.4685 </td><td style=\"text-align: right;\">     98.4193</td><td style=\"text-align: right;\">        -162.07</td><td style=\"text-align: right;\">                651</td><td style=\"text-align: right;\">           23090</td><td style=\"text-align: right;\">     64071  </td></tr>\n",
       "<tr><td style=\"text-align: right;\">        713</td><td style=\"text-align: right;\">          682</td><td style=\"text-align: right;\">    765</td><td style=\"text-align: right;\">        11</td><td style=\"text-align: right;\">              6</td><td style=\"text-align: right;\">      -5.66682 </td><td style=\"text-align: right;\">       -391.82</td><td style=\"text-align: right;\">           13</td><td style=\"text-align: right;\">          6.53846</td><td style=\"text-align: right;\">    288.826 </td><td style=\"text-align: right;\">    18709.4</td><td style=\"text-align: right;\">        1.02298</td><td style=\"text-align: right;\">              96</td><td style=\"text-align: right;\">           90</td><td style=\"text-align: right;\">              0</td><td style=\"text-align: right;\">                 55</td><td style=\"text-align: right;\">          3</td><td style=\"text-align: right;\">               0</td><td style=\"text-align: right;\">       0</td><td style=\"text-align: right;\">            2</td><td style=\"text-align: right;\">               0</td><td style=\"text-align: right;\">               5</td><td style=\"text-align: right;\">     -1.25585  </td><td style=\"text-align: right;\">             30</td><td style=\"text-align: right;\">    1</td><td style=\"text-align: right;\">    2</td><td style=\"text-align: right;\">          529</td><td style=\"text-align: right;\">      5</td><td style=\"text-align: right;\">        1.08784</td><td style=\"text-align: right;\">    101.456 </td><td style=\"text-align: right;\">        -929.33</td><td style=\"text-align: right;\">                740</td><td style=\"text-align: right;\">             805</td><td style=\"text-align: right;\">     75077.8</td></tr>\n",
       "<tr><td style=\"text-align: right;\">       1079</td><td style=\"text-align: right;\">         1186</td><td style=\"text-align: right;\">   2024</td><td style=\"text-align: right;\">         6</td><td style=\"text-align: right;\">             27</td><td style=\"text-align: right;\">      -0.26243 </td><td style=\"text-align: right;\">       -717.67</td><td style=\"text-align: right;\">           62</td><td style=\"text-align: right;\">         11.5161 </td><td style=\"text-align: right;\">     98.6714</td><td style=\"text-align: right;\">   102104  </td><td style=\"text-align: right;\">        1.08138</td><td style=\"text-align: right;\">            1205</td><td style=\"text-align: right;\">         1086</td><td style=\"text-align: right;\">              0</td><td style=\"text-align: right;\">                 32</td><td style=\"text-align: right;\">          3</td><td style=\"text-align: right;\">               0</td><td style=\"text-align: right;\">       0</td><td style=\"text-align: right;\">            2</td><td style=\"text-align: right;\">               0</td><td style=\"text-align: right;\">               5</td><td style=\"text-align: right;\">     -0.022038 </td><td style=\"text-align: right;\">              1</td><td style=\"text-align: right;\">   14</td><td style=\"text-align: right;\">    3</td><td style=\"text-align: right;\">          721</td><td style=\"text-align: right;\">      4</td><td style=\"text-align: right;\">      167.245  </td><td style=\"text-align: right;\">    119.514 </td><td style=\"text-align: right;\">         -26.71</td><td style=\"text-align: right;\">               1212</td><td style=\"text-align: right;\">          202701</td><td style=\"text-align: right;\">    144851  </td></tr>\n",
       "<tr><td style=\"text-align: right;\">        199</td><td style=\"text-align: right;\">         1023</td><td style=\"text-align: right;\">     56</td><td style=\"text-align: right;\">         6</td><td style=\"text-align: right;\">              1</td><td style=\"text-align: right;\">      -0.296833</td><td style=\"text-align: right;\">        -17.81</td><td style=\"text-align: right;\">           20</td><td style=\"text-align: right;\">         30.65   </td><td style=\"text-align: right;\">     49.246 </td><td style=\"text-align: right;\">    48436.3</td><td style=\"text-align: right;\">        1.25077</td><td style=\"text-align: right;\">            1239</td><td style=\"text-align: right;\">          949</td><td style=\"text-align: right;\">              0</td><td style=\"text-align: right;\">                 55</td><td style=\"text-align: right;\">          0</td><td style=\"text-align: right;\">               1</td><td style=\"text-align: right;\">       1</td><td style=\"text-align: right;\">            4</td><td style=\"text-align: right;\">               3</td><td style=\"text-align: right;\">               1</td><td style=\"text-align: right;\">     -0.182917 </td><td style=\"text-align: right;\">             11</td><td style=\"text-align: right;\">   16</td><td style=\"text-align: right;\">    4</td><td style=\"text-align: right;\">         1230</td><td style=\"text-align: right;\">      6</td><td style=\"text-align: right;\">        4.48099</td><td style=\"text-align: right;\">     75.0086</td><td style=\"text-align: right;\">        -500.46</td><td style=\"text-align: right;\">               2736</td><td style=\"text-align: right;\">           12260</td><td style=\"text-align: right;\">    205224  </td></tr>\n",
       "<tr><td style=\"text-align: right;\">        583</td><td style=\"text-align: right;\">          315</td><td style=\"text-align: right;\">    458</td><td style=\"text-align: right;\">         6</td><td style=\"text-align: right;\">             43</td><td style=\"text-align: right;\">      -2.22524 </td><td style=\"text-align: right;\">       -890.5 </td><td style=\"text-align: right;\">            5</td><td style=\"text-align: right;\">         29.4    </td><td style=\"text-align: right;\">    101.713 </td><td style=\"text-align: right;\">    21409.4</td><td style=\"text-align: right;\">        1.1288 </td><td style=\"text-align: right;\">             289</td><td style=\"text-align: right;\">          240</td><td style=\"text-align: right;\">              0</td><td style=\"text-align: right;\">                 32</td><td style=\"text-align: right;\">          2</td><td style=\"text-align: right;\">               1</td><td style=\"text-align: right;\">       0</td><td style=\"text-align: right;\">            1</td><td style=\"text-align: right;\">               0</td><td style=\"text-align: right;\">               3</td><td style=\"text-align: right;\">     -1.16578  </td><td style=\"text-align: right;\">             19</td><td style=\"text-align: right;\">   18</td><td style=\"text-align: right;\">    3</td><td style=\"text-align: right;\">          448</td><td style=\"text-align: right;\">      5</td><td style=\"text-align: right;\">      654.847  </td><td style=\"text-align: right;\">     84.1069</td><td style=\"text-align: right;\">        -905.81</td><td style=\"text-align: right;\">                777</td><td style=\"text-align: right;\">          508816</td><td style=\"text-align: right;\">     65351  </td></tr>\n",
       "</tbody>\n",
       "</table>"
      ]
     },
     "metadata": {},
     "output_type": "display_data"
    },
    {
     "data": {
      "text/plain": []
     },
     "execution_count": 89,
     "metadata": {},
     "output_type": "execute_result"
    }
   ],
   "source": [
    "test.head()"
   ]
  },
  {
   "cell_type": "code",
   "execution_count": 90,
   "id": "sustainable-detection",
   "metadata": {},
   "outputs": [
    {
     "name": "stdout",
     "output_type": "stream",
     "text": [
      "gbm prediction progress: |████████████████████████████████████████████████| 100%\n"
     ]
    }
   ],
   "source": [
    "preds = aml.leader.predict(test)"
   ]
  },
  {
   "cell_type": "code",
   "execution_count": 95,
   "id": "passing-fraction",
   "metadata": {},
   "outputs": [
    {
     "data": {
      "text/html": [
       "<table>\n",
       "<thead>\n",
       "<tr><th style=\"text-align: right;\">  predict</th><th style=\"text-align: right;\">      p0</th><th style=\"text-align: right;\">         p1</th></tr>\n",
       "</thead>\n",
       "<tbody>\n",
       "<tr><td style=\"text-align: right;\">        0</td><td style=\"text-align: right;\">0.106508</td><td style=\"text-align: right;\">0.893492   </td></tr>\n",
       "<tr><td style=\"text-align: right;\">        0</td><td style=\"text-align: right;\">0.999988</td><td style=\"text-align: right;\">1.15025e-05</td></tr>\n",
       "<tr><td style=\"text-align: right;\">        0</td><td style=\"text-align: right;\">0.589452</td><td style=\"text-align: right;\">0.410548   </td></tr>\n",
       "<tr><td style=\"text-align: right;\">        0</td><td style=\"text-align: right;\">0.999993</td><td style=\"text-align: right;\">7.43459e-06</td></tr>\n",
       "<tr><td style=\"text-align: right;\">        0</td><td style=\"text-align: right;\">0.999999</td><td style=\"text-align: right;\">1.11999e-06</td></tr>\n",
       "<tr><td style=\"text-align: right;\">        0</td><td style=\"text-align: right;\">0.999991</td><td style=\"text-align: right;\">9.117e-06  </td></tr>\n",
       "<tr><td style=\"text-align: right;\">        0</td><td style=\"text-align: right;\">0.999275</td><td style=\"text-align: right;\">0.00072518 </td></tr>\n",
       "<tr><td style=\"text-align: right;\">        0</td><td style=\"text-align: right;\">0.999965</td><td style=\"text-align: right;\">3.47853e-05</td></tr>\n",
       "<tr><td style=\"text-align: right;\">        0</td><td style=\"text-align: right;\">0.999999</td><td style=\"text-align: right;\">1.0308e-06 </td></tr>\n",
       "<tr><td style=\"text-align: right;\">        0</td><td style=\"text-align: right;\">0.974443</td><td style=\"text-align: right;\">0.0255567  </td></tr>\n",
       "</tbody>\n",
       "</table>"
      ]
     },
     "metadata": {},
     "output_type": "display_data"
    },
    {
     "data": {
      "text/plain": []
     },
     "execution_count": 95,
     "metadata": {},
     "output_type": "execute_result"
    }
   ],
   "source": [
    "preds.head()"
   ]
  },
  {
   "cell_type": "code",
   "execution_count": 97,
   "id": "compatible-twins",
   "metadata": {},
   "outputs": [
    {
     "data": {
      "text/plain": [
       "0    0.996356\n",
       "1    0.003644\n",
       "Name: predict, dtype: float64"
      ]
     },
     "execution_count": 97,
     "metadata": {},
     "output_type": "execute_result"
    }
   ],
   "source": [
    "preds.as_data_frame().predict.value_counts(normalize=True)"
   ]
  },
  {
   "cell_type": "code",
   "execution_count": null,
   "id": "attractive-fruit",
   "metadata": {},
   "outputs": [],
   "source": []
  }
 ],
 "metadata": {
  "kernelspec": {
   "display_name": "Python 3",
   "language": "python",
   "name": "python3"
  },
  "language_info": {
   "codemirror_mode": {
    "name": "ipython",
    "version": 3
   },
   "file_extension": ".py",
   "mimetype": "text/x-python",
   "name": "python",
   "nbconvert_exporter": "python",
   "pygments_lexer": "ipython3",
   "version": "3.6.9"
  }
 },
 "nbformat": 4,
 "nbformat_minor": 5
}
