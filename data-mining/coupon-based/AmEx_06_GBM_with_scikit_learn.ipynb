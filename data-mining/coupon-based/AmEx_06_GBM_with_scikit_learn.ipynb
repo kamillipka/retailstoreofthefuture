{
 "cells": [
  {
   "cell_type": "markdown",
   "id": "demanding-uganda",
   "metadata": {},
   "source": [
    "# Training a model using GBM from scikit-learn"
   ]
  },
  {
   "cell_type": "code",
   "execution_count": 22,
   "id": "unlike-carnival",
   "metadata": {},
   "outputs": [],
   "source": [
    "from imblearn.over_sampling import SMOTE\n",
    "import pandas as pd\n",
    "from sklearn import ensemble\n",
    "from sklearn.metrics import confusion_matrix, classification_report\n",
    "from sklearn.model_selection import train_test_split"
   ]
  },
  {
   "cell_type": "code",
   "execution_count": 13,
   "id": "tight-stockholm",
   "metadata": {},
   "outputs": [],
   "source": [
    "df = pd.read_csv('final_data/final_training_data.csv')"
   ]
  },
  {
   "cell_type": "code",
   "execution_count": 14,
   "id": "renewable-binary",
   "metadata": {},
   "outputs": [],
   "source": [
    "train, test = train_test_split(train_df, test_size=0.3)"
   ]
  },
  {
   "cell_type": "markdown",
   "id": "framed-franchise",
   "metadata": {},
   "source": [
    "## SMOTE oversampling"
   ]
  },
  {
   "cell_type": "code",
   "execution_count": 16,
   "id": "military-passport",
   "metadata": {},
   "outputs": [
    {
     "data": {
      "text/plain": [
       "0    54371\n",
       "1      487\n",
       "Name: redemption_status, dtype: int64"
      ]
     },
     "execution_count": 16,
     "metadata": {},
     "output_type": "execute_result"
    }
   ],
   "source": [
    "train.redemption_status.value_counts()"
   ]
  },
  {
   "cell_type": "code",
   "execution_count": 15,
   "id": "white-mother",
   "metadata": {},
   "outputs": [],
   "source": [
    "sm = SMOTE(sampling_strategy=0.2)\n",
    "train_y = train['redemption_status']\n",
    "train_x = train.drop(['redemption_status'], axis=1)\n",
    "train_x, train_y = sm.fit_resample(train_x, train_y)"
   ]
  },
  {
   "cell_type": "code",
   "execution_count": 18,
   "id": "registered-birth",
   "metadata": {},
   "outputs": [
    {
     "data": {
      "text/plain": [
       "0    54371\n",
       "1    10874\n",
       "Name: redemption_status, dtype: int64"
      ]
     },
     "execution_count": 18,
     "metadata": {},
     "output_type": "execute_result"
    }
   ],
   "source": [
    "train_y.value_counts()"
   ]
  },
  {
   "cell_type": "markdown",
   "id": "thermal-disposition",
   "metadata": {},
   "source": [
    "## Training with GBM\n",
    "Using parameters from AutoML-trained model"
   ]
  },
  {
   "cell_type": "code",
   "execution_count": 38,
   "id": "impaired-tractor",
   "metadata": {},
   "outputs": [],
   "source": [
    "params = {\n",
    "    'n_estimators': 191,\n",
    "    'max_depth': 15,\n",
    "    'min_samples_split': 5,\n",
    "    'learning_rate': 0.01,\n",
    "    'loss': 'ls',\n",
    "    'max_leaf_nodes': 627\n",
    "}"
   ]
  },
  {
   "cell_type": "code",
   "execution_count": 39,
   "id": "adjustable-meeting",
   "metadata": {},
   "outputs": [
    {
     "data": {
      "text/plain": [
       "GradientBoostingRegressor(learning_rate=0.01, max_depth=15, max_leaf_nodes=627,\n",
       "                          min_samples_split=5, n_estimators=191)"
      ]
     },
     "execution_count": 39,
     "metadata": {},
     "output_type": "execute_result"
    }
   ],
   "source": [
    "reg = ensemble.GradientBoostingRegressor(**params)\n",
    "reg.fit(train_x, train_y)"
   ]
  },
  {
   "cell_type": "markdown",
   "id": "given-riding",
   "metadata": {},
   "source": [
    "## Testing and evaluating"
   ]
  },
  {
   "cell_type": "code",
   "execution_count": 40,
   "id": "inclusive-wagner",
   "metadata": {},
   "outputs": [],
   "source": [
    "test_y = test['redemption_status']\n",
    "test_x = test.drop(['redemption_status'], axis=1)"
   ]
  },
  {
   "cell_type": "code",
   "execution_count": 41,
   "id": "comic-symposium",
   "metadata": {},
   "outputs": [],
   "source": [
    "pred_y = pd.Series(reg.predict(test_x))"
   ]
  },
  {
   "cell_type": "code",
   "execution_count": 42,
   "id": "fewer-rocket",
   "metadata": {},
   "outputs": [
    {
     "data": {
      "text/plain": [
       "0    0.024848\n",
       "1    0.024848\n",
       "2    0.026183\n",
       "3    0.025061\n",
       "4    0.025588\n",
       "dtype: float64"
      ]
     },
     "execution_count": 42,
     "metadata": {},
     "output_type": "execute_result"
    }
   ],
   "source": [
    "pred_y.head()"
   ]
  },
  {
   "cell_type": "code",
   "execution_count": 43,
   "id": "perfect-escape",
   "metadata": {},
   "outputs": [],
   "source": [
    "pred_y = pred_y.apply(lambda x: 1 if x > 0.66 else 0)"
   ]
  },
  {
   "cell_type": "code",
   "execution_count": 44,
   "id": "taken-recording",
   "metadata": {},
   "outputs": [
    {
     "data": {
      "text/html": [
       "<div>\n",
       "<style scoped>\n",
       "    .dataframe tbody tr th:only-of-type {\n",
       "        vertical-align: middle;\n",
       "    }\n",
       "\n",
       "    .dataframe tbody tr th {\n",
       "        vertical-align: top;\n",
       "    }\n",
       "\n",
       "    .dataframe thead th {\n",
       "        text-align: right;\n",
       "    }\n",
       "</style>\n",
       "<table border=\"1\" class=\"dataframe\">\n",
       "  <thead>\n",
       "    <tr style=\"text-align: right;\">\n",
       "      <th>Predicted</th>\n",
       "      <th>0</th>\n",
       "      <th>1</th>\n",
       "      <th>All</th>\n",
       "    </tr>\n",
       "    <tr>\n",
       "      <th>Actual</th>\n",
       "      <th></th>\n",
       "      <th></th>\n",
       "      <th></th>\n",
       "    </tr>\n",
       "  </thead>\n",
       "  <tbody>\n",
       "    <tr>\n",
       "      <th>0</th>\n",
       "      <td>6939</td>\n",
       "      <td>28</td>\n",
       "      <td>6967</td>\n",
       "    </tr>\n",
       "    <tr>\n",
       "      <th>1</th>\n",
       "      <td>78</td>\n",
       "      <td>1</td>\n",
       "      <td>79</td>\n",
       "    </tr>\n",
       "    <tr>\n",
       "      <th>All</th>\n",
       "      <td>7017</td>\n",
       "      <td>29</td>\n",
       "      <td>7046</td>\n",
       "    </tr>\n",
       "  </tbody>\n",
       "</table>\n",
       "</div>"
      ],
      "text/plain": [
       "Predicted     0   1   All\n",
       "Actual                   \n",
       "0          6939  28  6967\n",
       "1            78   1    79\n",
       "All        7017  29  7046"
      ]
     },
     "execution_count": 44,
     "metadata": {},
     "output_type": "execute_result"
    }
   ],
   "source": [
    "# confusion_matrix(test_y, pred_y)\n",
    "pd.crosstab(test_y, pred_y, rownames=['Actual'], colnames=['Predicted'], margins=True)"
   ]
  },
  {
   "cell_type": "code",
   "execution_count": 45,
   "id": "twenty-aquatic",
   "metadata": {},
   "outputs": [
    {
     "name": "stdout",
     "output_type": "stream",
     "text": [
      "              precision    recall  f1-score   support\n",
      "\n",
      "           0       0.99      1.00      0.99     23269\n",
      "           1       0.36      0.16      0.22       242\n",
      "\n",
      "    accuracy                           0.99     23511\n",
      "   macro avg       0.67      0.58      0.61     23511\n",
      "weighted avg       0.98      0.99      0.99     23511\n",
      "\n"
     ]
    }
   ],
   "source": [
    "print(classification_report(test_y, pred_y))"
   ]
  },
  {
   "cell_type": "code",
   "execution_count": null,
   "id": "polished-nightmare",
   "metadata": {},
   "outputs": [],
   "source": []
  }
 ],
 "metadata": {
  "kernelspec": {
   "display_name": "Python 3",
   "language": "python",
   "name": "python3"
  },
  "language_info": {
   "codemirror_mode": {
    "name": "ipython",
    "version": 3
   },
   "file_extension": ".py",
   "mimetype": "text/x-python",
   "name": "python",
   "nbconvert_exporter": "python",
   "pygments_lexer": "ipython3",
   "version": "3.6.9"
  }
 },
 "nbformat": 4,
 "nbformat_minor": 5
}
