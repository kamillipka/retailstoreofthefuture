{
 "cells": [
  {
   "cell_type": "code",
   "execution_count": 1,
   "id": "substantial-tanzania",
   "metadata": {},
   "outputs": [],
   "source": [
    "import pandas as pd"
   ]
  },
  {
   "cell_type": "code",
   "execution_count": 4,
   "id": "broad-quest",
   "metadata": {},
   "outputs": [],
   "source": [
    "items = pd.read_csv('original_data/item_data.csv')"
   ]
  },
  {
   "cell_type": "code",
   "execution_count": 5,
   "id": "requested-biography",
   "metadata": {},
   "outputs": [
    {
     "name": "stdout",
     "output_type": "stream",
     "text": [
      "<class 'pandas.core.frame.DataFrame'>\n",
      "RangeIndex: 74066 entries, 0 to 74065\n",
      "Data columns (total 4 columns):\n",
      " #   Column      Non-Null Count  Dtype \n",
      "---  ------      --------------  ----- \n",
      " 0   item_id     74066 non-null  int64 \n",
      " 1   brand       74066 non-null  int64 \n",
      " 2   brand_type  74066 non-null  object\n",
      " 3   category    74066 non-null  object\n",
      "dtypes: int64(2), object(2)\n",
      "memory usage: 2.3+ MB\n"
     ]
    }
   ],
   "source": [
    "items.info()"
   ]
  },
  {
   "cell_type": "code",
   "execution_count": 11,
   "id": "abroad-journal",
   "metadata": {},
   "outputs": [
    {
     "name": "stdout",
     "output_type": "stream",
     "text": [
      "0) ('Grocery', 32448)\n",
      "1) ('Pharmaceutical', 24471)\n",
      "2) ('Natural Products', 2533)\n",
      "3) ('Dairy, Juices & Snacks', 2425)\n",
      "4) ('Skin & Hair Care', 2244)\n",
      "5) ('Meat', 2080)\n",
      "6) ('Packaged Meat', 1966)\n",
      "7) ('Prepared Food', 1880)\n",
      "8) ('Bakery', 1679)\n",
      "9) ('Seafood', 728)\n",
      "10) ('Flowers & Plants', 664)\n",
      "11) ('Miscellaneous', 385)\n",
      "12) ('Alcohol', 303)\n",
      "13) ('Garden', 102)\n",
      "14) ('Restauarant', 78)\n",
      "15) ('Salads', 40)\n",
      "16) ('Travel', 19)\n",
      "17) ('Fuel', 14)\n",
      "18) ('Vegetables (cut)', 7)\n"
     ]
    }
   ],
   "source": [
    "for i, row in enumerate(items.category.value_counts().items()):\n",
    "    print(f'{i}) {row}')"
   ]
  },
  {
   "cell_type": "code",
   "execution_count": null,
   "id": "secure-status",
   "metadata": {},
   "outputs": [],
   "source": []
  }
 ],
 "metadata": {
  "kernelspec": {
   "display_name": "Python 3",
   "language": "python",
   "name": "python3"
  },
  "language_info": {
   "codemirror_mode": {
    "name": "ipython",
    "version": 3
   },
   "file_extension": ".py",
   "mimetype": "text/x-python",
   "name": "python",
   "nbconvert_exporter": "python",
   "pygments_lexer": "ipython3",
   "version": "3.6.9"
  }
 },
 "nbformat": 4,
 "nbformat_minor": 5
}
