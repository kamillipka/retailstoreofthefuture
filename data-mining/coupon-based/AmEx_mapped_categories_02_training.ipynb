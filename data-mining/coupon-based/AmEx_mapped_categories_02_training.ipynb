{
 "cells": [
  {
   "cell_type": "code",
   "execution_count": 1,
   "id": "median-astrology",
   "metadata": {},
   "outputs": [
    {
     "name": "stderr",
     "output_type": "stream",
     "text": [
      "/home/ugolowic/workspace/.venv-ml/lib/python3.6/site-packages/h2o/backend/connection.py:369: UserWarning: Proxy is defined in the environment: HTTP_PROXY. This may interfere with your H2O Connection.\n",
      "  \"This may interfere with your H2O Connection.\" % name)\n",
      "/home/ugolowic/workspace/.venv-ml/lib/python3.6/site-packages/h2o/backend/connection.py:369: UserWarning: Proxy is defined in the environment: http_proxy. This may interfere with your H2O Connection.\n",
      "  \"This may interfere with your H2O Connection.\" % name)\n"
     ]
    },
    {
     "name": "stdout",
     "output_type": "stream",
     "text": [
      "Checking whether there is an H2O instance running at http://localhost:54321 . connected.\n"
     ]
    },
    {
     "data": {
      "text/html": [
       "<div style=\"overflow:auto\"><table style=\"width:50%\"><tr><td>H2O_cluster_uptime:</td>\n",
       "<td>1 hour 52 mins</td></tr>\n",
       "<tr><td>H2O_cluster_timezone:</td>\n",
       "<td>Europe/Warsaw</td></tr>\n",
       "<tr><td>H2O_data_parsing_timezone:</td>\n",
       "<td>UTC</td></tr>\n",
       "<tr><td>H2O_cluster_version:</td>\n",
       "<td>3.32.0.4</td></tr>\n",
       "<tr><td>H2O_cluster_version_age:</td>\n",
       "<td>1 month and 16 days </td></tr>\n",
       "<tr><td>H2O_cluster_name:</td>\n",
       "<td>H2O_from_python_ugolowic_hbhkkf</td></tr>\n",
       "<tr><td>H2O_cluster_total_nodes:</td>\n",
       "<td>1</td></tr>\n",
       "<tr><td>H2O_cluster_free_memory:</td>\n",
       "<td>1.685 Gb</td></tr>\n",
       "<tr><td>H2O_cluster_total_cores:</td>\n",
       "<td>4</td></tr>\n",
       "<tr><td>H2O_cluster_allowed_cores:</td>\n",
       "<td>4</td></tr>\n",
       "<tr><td>H2O_cluster_status:</td>\n",
       "<td>locked, healthy</td></tr>\n",
       "<tr><td>H2O_connection_url:</td>\n",
       "<td>http://localhost:54321</td></tr>\n",
       "<tr><td>H2O_connection_proxy:</td>\n",
       "<td>{\"http\": null, \"https\": null}</td></tr>\n",
       "<tr><td>H2O_internal_security:</td>\n",
       "<td>False</td></tr>\n",
       "<tr><td>H2O_API_Extensions:</td>\n",
       "<td>Amazon S3, XGBoost, Algos, AutoML, Core V3, TargetEncoder, Core V4</td></tr>\n",
       "<tr><td>Python_version:</td>\n",
       "<td>3.6.9 final</td></tr></table></div>"
      ],
      "text/plain": [
       "--------------------------  ------------------------------------------------------------------\n",
       "H2O_cluster_uptime:         1 hour 52 mins\n",
       "H2O_cluster_timezone:       Europe/Warsaw\n",
       "H2O_data_parsing_timezone:  UTC\n",
       "H2O_cluster_version:        3.32.0.4\n",
       "H2O_cluster_version_age:    1 month and 16 days\n",
       "H2O_cluster_name:           H2O_from_python_ugolowic_hbhkkf\n",
       "H2O_cluster_total_nodes:    1\n",
       "H2O_cluster_free_memory:    1.685 Gb\n",
       "H2O_cluster_total_cores:    4\n",
       "H2O_cluster_allowed_cores:  4\n",
       "H2O_cluster_status:         locked, healthy\n",
       "H2O_connection_url:         http://localhost:54321\n",
       "H2O_connection_proxy:       {\"http\": null, \"https\": null}\n",
       "H2O_internal_security:      False\n",
       "H2O_API_Extensions:         Amazon S3, XGBoost, Algos, AutoML, Core V3, TargetEncoder, Core V4\n",
       "Python_version:             3.6.9 final\n",
       "--------------------------  ------------------------------------------------------------------"
      ]
     },
     "metadata": {},
     "output_type": "display_data"
    }
   ],
   "source": [
    "import h2o\n",
    "from h2o.automl import H2OAutoML\n",
    "h2o.init()"
   ]
  },
  {
   "cell_type": "code",
   "execution_count": 2,
   "id": "classical-disco",
   "metadata": {},
   "outputs": [
    {
     "name": "stdout",
     "output_type": "stream",
     "text": [
      "Parse progress: |█████████████████████████████████████████████████████████| 100%\n"
     ]
    }
   ],
   "source": [
    "data_b = h2o.import_file('data_for_training/train_B.csv')"
   ]
  },
  {
   "cell_type": "code",
   "execution_count": 3,
   "id": "empirical-theory",
   "metadata": {},
   "outputs": [
    {
     "name": "stdout",
     "output_type": "stream",
     "text": [
      "Rows:289655\n",
      "Cols:22\n",
      "\n",
      "\n"
     ]
    },
    {
     "data": {
      "text/html": [
       "<table>\n",
       "<thead>\n",
       "<tr><th>       </th><th>redemption_status   </th><th>age_range         </th><th>marital_status    </th><th>family_size       </th><th>no_of_children    </th><th>income_bracket    </th><th>gender            </th><th>mean_discount_used_by_cust  </th><th>unique_items_bought_by_cust  </th><th>mean_selling_price_paid_by_cust  </th><th>mean_quantity_bought_by_cust  </th><th>total_discount_used_by_cust  </th><th>total_coupons_used_by_cust  </th><th>total_price_paid_by_cust  </th><th>total_quantity_bought_by_cust  </th><th>mean_coupon_discount  </th><th>mean_item_price   </th><th>category_Boys      </th><th>category_Girls     </th><th>category_Men       </th><th>category_Sport     </th><th>category_Women     </th></tr>\n",
       "</thead>\n",
       "<tbody>\n",
       "<tr><td>type   </td><td>int                 </td><td>int               </td><td>int               </td><td>int               </td><td>int               </td><td>int               </td><td>int               </td><td>real                        </td><td>int                          </td><td>real                             </td><td>real                          </td><td>real                         </td><td>int                         </td><td>real                      </td><td>int                            </td><td>real                  </td><td>real              </td><td>int                </td><td>int                </td><td>int                </td><td>int                </td><td>int                </td></tr>\n",
       "<tr><td>mins   </td><td>0.0                 </td><td>0.0               </td><td>0.0               </td><td>1.0               </td><td>0.0               </td><td>1.0               </td><td>0.0               </td><td>-11.4                       </td><td>47.0                         </td><td>44.91                            </td><td>1.0                           </td><td>-10415.74                    </td><td>0.0                         </td><td>9721.61                   </td><td>83.0                           </td><td>-71.24                </td><td>13.42             </td><td>0.0                </td><td>0.0                </td><td>0.0                </td><td>0.0                </td><td>0.0                </td></tr>\n",
       "<tr><td>mean   </td><td>0.010964768431409781</td><td>2.4757280212666823</td><td>0.3994614282508501</td><td>2.2144896514819377</td><td>0.6010702387322852</td><td>4.716807926671389 </td><td>0.5003987502373514</td><td>-0.49425885967789285        </td><td>591.4163919145185            </td><td>102.82341758298658               </td><td>1.0311208506671727            </td><td>-538.4302090763151           </td><td>18.324247812052263          </td><td>105051.68566988329        </td><td>1063.2801505238988             </td><td>-2.173283065646817    </td><td>153.09955236401908</td><td>0.16401926429718114</td><td>0.17684141478655643</td><td>0.21820441559786644</td><td>0.20940429131207816</td><td>0.23153061400631786</td></tr>\n",
       "<tr><td>maxs   </td><td>1.0                 </td><td>5.0               </td><td>1.0               </td><td>5.0               </td><td>3.0               </td><td>12.0              </td><td>1.0               </td><td>0.0                         </td><td>2432.0                       </td><td>204.43                           </td><td>1.85                          </td><td>0.0                          </td><td>430.0                       </td><td>449140.38                 </td><td>4628.0                         </td><td>-0.01                 </td><td>1235.86           </td><td>1.0                </td><td>1.0                </td><td>1.0                </td><td>1.0                </td><td>1.0                </td></tr>\n",
       "<tr><td>sigma  </td><td>0.10413731187378568 </td><td>1.2589644251309406</td><td>0.4897885500831451</td><td>1.2074576297152064</td><td>0.9708172320194202</td><td>2.2712408683112746</td><td>0.5000007040959351</td><td>0.8716888724974267          </td><td>322.1265373885319            </td><td>17.86005914996856                </td><td>0.05360752095211455           </td><td>1048.4263737532497           </td><td>38.31801710981227           </td><td>68409.69987198517         </td><td>680.0502158539473              </td><td>3.8352285975429163    </td><td>127.98863610964528</td><td>0.37029369238273374</td><td>0.3815350984678812 </td><td>0.4130276474521061 </td><td>0.4068841427856547 </td><td>0.4218113358466578 </td></tr>\n",
       "<tr><td>zeros  </td><td>286479              </td><td>15106             </td><td>173949            </td><td>0                 </td><td>191380            </td><td>0                 </td><td>144712            </td><td>45797                       </td><td>0                            </td><td>0                                </td><td>0                             </td><td>45797                        </td><td>45797                       </td><td>0                         </td><td>0                              </td><td>0                     </td><td>0                 </td><td>242146             </td><td>238432             </td><td>226451             </td><td>229000             </td><td>222591             </td></tr>\n",
       "<tr><td>missing</td><td>0                   </td><td>0                 </td><td>0                 </td><td>0                 </td><td>0                 </td><td>0                 </td><td>0                 </td><td>0                           </td><td>0                            </td><td>0                                </td><td>0                             </td><td>0                            </td><td>0                           </td><td>0                         </td><td>0                              </td><td>0                     </td><td>0                 </td><td>0                  </td><td>0                  </td><td>0                  </td><td>0                  </td><td>0                  </td></tr>\n",
       "<tr><td>0      </td><td>0.0                 </td><td>3.0               </td><td>1.0               </td><td>1.0               </td><td>0.0               </td><td>5.0               </td><td>1.0               </td><td>-0.29                       </td><td>208.0                        </td><td>164.25                           </td><td>1.08                          </td><td>-89.05                       </td><td>1.0                         </td><td>50918.77                  </td><td>335.0                          </td><td>-1.13                 </td><td>118.41            </td><td>0.0                </td><td>0.0                </td><td>1.0                </td><td>0.0                </td><td>0.0                </td></tr>\n",
       "<tr><td>1      </td><td>0.0                 </td><td>3.0               </td><td>1.0               </td><td>1.0               </td><td>0.0               </td><td>5.0               </td><td>1.0               </td><td>-0.29                       </td><td>208.0                        </td><td>164.25                           </td><td>1.08                          </td><td>-89.05                       </td><td>1.0                         </td><td>50918.77                  </td><td>335.0                          </td><td>-1.13                 </td><td>118.41            </td><td>0.0                </td><td>0.0                </td><td>0.0                </td><td>0.0                </td><td>1.0                </td></tr>\n",
       "<tr><td>2      </td><td>0.0                 </td><td>3.0               </td><td>1.0               </td><td>1.0               </td><td>0.0               </td><td>5.0               </td><td>1.0               </td><td>-0.29                       </td><td>208.0                        </td><td>164.25                           </td><td>1.08                          </td><td>-89.05                       </td><td>1.0                         </td><td>50918.77                  </td><td>335.0                          </td><td>-1.13                 </td><td>118.41            </td><td>0.0                </td><td>0.0                </td><td>0.0                </td><td>1.0                </td><td>0.0                </td></tr>\n",
       "<tr><td>3      </td><td>0.0                 </td><td>3.0               </td><td>1.0               </td><td>1.0               </td><td>0.0               </td><td>5.0               </td><td>1.0               </td><td>-0.29                       </td><td>208.0                        </td><td>164.25                           </td><td>1.08                          </td><td>-89.05                       </td><td>1.0                         </td><td>50918.77                  </td><td>335.0                          </td><td>-1.13                 </td><td>118.41            </td><td>1.0                </td><td>0.0                </td><td>0.0                </td><td>0.0                </td><td>0.0                </td></tr>\n",
       "<tr><td>4      </td><td>0.0                 </td><td>3.0               </td><td>1.0               </td><td>1.0               </td><td>0.0               </td><td>5.0               </td><td>1.0               </td><td>-0.29                       </td><td>208.0                        </td><td>164.25                           </td><td>1.08                          </td><td>-89.05                       </td><td>1.0                         </td><td>50918.77                  </td><td>335.0                          </td><td>-1.13                 </td><td>118.41            </td><td>0.0                </td><td>1.0                </td><td>0.0                </td><td>0.0                </td><td>0.0                </td></tr>\n",
       "<tr><td>5      </td><td>0.0                 </td><td>2.0               </td><td>0.0               </td><td>2.0               </td><td>0.0               </td><td>3.0               </td><td>0.0               </td><td>-2.1                        </td><td>244.0                        </td><td>190.74                           </td><td>1.01                          </td><td>-810.35                      </td><td>12.0                        </td><td>73436.16                  </td><td>388.0                          </td><td>-1.6539336917562724   </td><td>70.89             </td><td>0.0                </td><td>0.0                </td><td>0.0                </td><td>1.0                </td><td>0.0                </td></tr>\n",
       "<tr><td>6      </td><td>0.0                 </td><td>2.0               </td><td>0.0               </td><td>2.0               </td><td>0.0               </td><td>3.0               </td><td>0.0               </td><td>-2.1                        </td><td>244.0                        </td><td>190.74                           </td><td>1.01                          </td><td>-810.35                      </td><td>12.0                        </td><td>73436.16                  </td><td>388.0                          </td><td>-1.6539336917562724   </td><td>70.89             </td><td>1.0                </td><td>0.0                </td><td>0.0                </td><td>0.0                </td><td>0.0                </td></tr>\n",
       "<tr><td>7      </td><td>0.0                 </td><td>2.0               </td><td>0.0               </td><td>2.0               </td><td>0.0               </td><td>3.0               </td><td>0.0               </td><td>-2.1                        </td><td>244.0                        </td><td>190.74                           </td><td>1.01                          </td><td>-810.35                      </td><td>12.0                        </td><td>73436.16                  </td><td>388.0                          </td><td>-1.6539336917562724   </td><td>70.89             </td><td>0.0                </td><td>0.0                </td><td>0.0                </td><td>0.0                </td><td>1.0                </td></tr>\n",
       "<tr><td>8      </td><td>0.0                 </td><td>3.0               </td><td>0.0               </td><td>2.0               </td><td>0.0               </td><td>7.0               </td><td>0.0               </td><td>-1.72                       </td><td>533.0                        </td><td>113.79                           </td><td>1.0                           </td><td>-1667.11                     </td><td>85.0                        </td><td>110372.74                 </td><td>970.0                          </td><td>-2.28                 </td><td>345.1             </td><td>0.0                </td><td>0.0                </td><td>0.0                </td><td>0.0                </td><td>1.0                </td></tr>\n",
       "<tr><td>9      </td><td>0.0                 </td><td>3.0               </td><td>0.0               </td><td>2.0               </td><td>0.0               </td><td>7.0               </td><td>0.0               </td><td>-1.72                       </td><td>533.0                        </td><td>113.79                           </td><td>1.0                           </td><td>-1667.11                     </td><td>85.0                        </td><td>110372.74                 </td><td>970.0                          </td><td>-2.28                 </td><td>345.1             </td><td>0.0                </td><td>0.0                </td><td>1.0                </td><td>0.0                </td><td>0.0                </td></tr>\n",
       "</tbody>\n",
       "</table>"
      ]
     },
     "metadata": {},
     "output_type": "display_data"
    }
   ],
   "source": [
    "data_b.describe()"
   ]
  },
  {
   "cell_type": "code",
   "execution_count": 4,
   "id": "established-source",
   "metadata": {},
   "outputs": [],
   "source": [
    "data_b['redemption_status'] = data_b['redemption_status'].asfactor()"
   ]
  },
  {
   "cell_type": "code",
   "execution_count": 5,
   "id": "corrected-while",
   "metadata": {},
   "outputs": [],
   "source": [
    "y = 'redemption_status'\n",
    "x = data_b.columns\n",
    "x.remove(y)"
   ]
  },
  {
   "cell_type": "code",
   "execution_count": 6,
   "id": "floppy-stadium",
   "metadata": {},
   "outputs": [
    {
     "name": "stdout",
     "output_type": "stream",
     "text": [
      "AutoML progress: |██ (cancelled)\n"
     ]
    },
    {
     "ename": "H2OJobCancelled",
     "evalue": "Job<$03017f00000132d4ffffffff$_83bb34206d62c37bb280db4376524f44> was cancelled by the user.",
     "output_type": "error",
     "traceback": [
      "\u001b[0;31m---------------------------------------------------------------------------\u001b[0m",
      "\u001b[0;31mH2OJobCancelled\u001b[0m                           Traceback (most recent call last)",
      "\u001b[0;32m<ipython-input-6-7fb5e0d5c578>\u001b[0m in \u001b[0;36m<module>\u001b[0;34m\u001b[0m\n\u001b[1;32m      1\u001b[0m \u001b[0maml\u001b[0m \u001b[0;34m=\u001b[0m \u001b[0mH2OAutoML\u001b[0m\u001b[0;34m(\u001b[0m\u001b[0mmax_models\u001b[0m\u001b[0;34m=\u001b[0m\u001b[0;36m10\u001b[0m\u001b[0;34m,\u001b[0m \u001b[0mseed\u001b[0m\u001b[0;34m=\u001b[0m\u001b[0;36m1\u001b[0m\u001b[0;34m,\u001b[0m \u001b[0mbalance_classes\u001b[0m\u001b[0;34m=\u001b[0m\u001b[0;32mTrue\u001b[0m\u001b[0;34m)\u001b[0m\u001b[0;34m\u001b[0m\u001b[0;34m\u001b[0m\u001b[0m\n\u001b[0;32m----> 2\u001b[0;31m \u001b[0maml\u001b[0m\u001b[0;34m.\u001b[0m\u001b[0mtrain\u001b[0m\u001b[0;34m(\u001b[0m\u001b[0mx\u001b[0m\u001b[0;34m=\u001b[0m\u001b[0mx\u001b[0m\u001b[0;34m,\u001b[0m \u001b[0my\u001b[0m\u001b[0;34m=\u001b[0m\u001b[0my\u001b[0m\u001b[0;34m,\u001b[0m \u001b[0mtraining_frame\u001b[0m\u001b[0;34m=\u001b[0m\u001b[0mdata_b\u001b[0m\u001b[0;34m)\u001b[0m\u001b[0;34m\u001b[0m\u001b[0;34m\u001b[0m\u001b[0m\n\u001b[0m",
      "\u001b[0;32m~/workspace/.venv-ml/lib/python3.6/site-packages/h2o/automl/autoh2o.py\u001b[0m in \u001b[0;36mtrain\u001b[0;34m(self, x, y, training_frame, fold_column, weights_column, validation_frame, leaderboard_frame, blending_frame)\u001b[0m\n\u001b[1;32m    479\u001b[0m         \u001b[0mpoll_updates\u001b[0m \u001b[0;34m=\u001b[0m \u001b[0mft\u001b[0m\u001b[0;34m.\u001b[0m\u001b[0mpartial\u001b[0m\u001b[0;34m(\u001b[0m\u001b[0mself\u001b[0m\u001b[0;34m.\u001b[0m\u001b[0m_poll_training_updates\u001b[0m\u001b[0;34m,\u001b[0m \u001b[0mverbosity\u001b[0m\u001b[0;34m=\u001b[0m\u001b[0mself\u001b[0m\u001b[0;34m.\u001b[0m\u001b[0m_verbosity\u001b[0m\u001b[0;34m,\u001b[0m \u001b[0mstate\u001b[0m\u001b[0;34m=\u001b[0m\u001b[0;34m{\u001b[0m\u001b[0;34m}\u001b[0m\u001b[0;34m)\u001b[0m\u001b[0;34m\u001b[0m\u001b[0;34m\u001b[0m\u001b[0m\n\u001b[1;32m    480\u001b[0m         \u001b[0;32mtry\u001b[0m\u001b[0;34m:\u001b[0m\u001b[0;34m\u001b[0m\u001b[0;34m\u001b[0m\u001b[0m\n\u001b[0;32m--> 481\u001b[0;31m             \u001b[0mself\u001b[0m\u001b[0;34m.\u001b[0m\u001b[0m_job\u001b[0m\u001b[0;34m.\u001b[0m\u001b[0mpoll\u001b[0m\u001b[0;34m(\u001b[0m\u001b[0mpoll_updates\u001b[0m\u001b[0;34m=\u001b[0m\u001b[0mpoll_updates\u001b[0m\u001b[0;34m)\u001b[0m\u001b[0;34m\u001b[0m\u001b[0;34m\u001b[0m\u001b[0m\n\u001b[0m\u001b[1;32m    482\u001b[0m         \u001b[0;32mfinally\u001b[0m\u001b[0;34m:\u001b[0m\u001b[0;34m\u001b[0m\u001b[0;34m\u001b[0m\u001b[0m\n\u001b[1;32m    483\u001b[0m             \u001b[0mpoll_updates\u001b[0m\u001b[0;34m(\u001b[0m\u001b[0mself\u001b[0m\u001b[0;34m.\u001b[0m\u001b[0m_job\u001b[0m\u001b[0;34m,\u001b[0m \u001b[0;36m1\u001b[0m\u001b[0;34m)\u001b[0m\u001b[0;34m\u001b[0m\u001b[0;34m\u001b[0m\u001b[0m\n",
      "\u001b[0;32m~/workspace/.venv-ml/lib/python3.6/site-packages/h2o/job.py\u001b[0m in \u001b[0;36mpoll\u001b[0;34m(self, poll_updates)\u001b[0m\n\u001b[1;32m     72\u001b[0m         \u001b[0;31m# check if failed... and politely print relevant message\u001b[0m\u001b[0;34m\u001b[0m\u001b[0;34m\u001b[0m\u001b[0;34m\u001b[0m\u001b[0m\n\u001b[1;32m     73\u001b[0m         \u001b[0;32mif\u001b[0m \u001b[0mself\u001b[0m\u001b[0;34m.\u001b[0m\u001b[0mstatus\u001b[0m \u001b[0;34m==\u001b[0m \u001b[0;34m\"CANCELLED\"\u001b[0m\u001b[0;34m:\u001b[0m\u001b[0;34m\u001b[0m\u001b[0;34m\u001b[0m\u001b[0m\n\u001b[0;32m---> 74\u001b[0;31m             \u001b[0;32mraise\u001b[0m \u001b[0mH2OJobCancelled\u001b[0m\u001b[0;34m(\u001b[0m\u001b[0;34m\"Job<%s> was cancelled by the user.\"\u001b[0m \u001b[0;34m%\u001b[0m \u001b[0mself\u001b[0m\u001b[0;34m.\u001b[0m\u001b[0mjob_key\u001b[0m\u001b[0;34m)\u001b[0m\u001b[0;34m\u001b[0m\u001b[0;34m\u001b[0m\u001b[0m\n\u001b[0m\u001b[1;32m     75\u001b[0m         \u001b[0;32mif\u001b[0m \u001b[0mself\u001b[0m\u001b[0;34m.\u001b[0m\u001b[0mstatus\u001b[0m \u001b[0;34m==\u001b[0m \u001b[0;34m\"FAILED\"\u001b[0m\u001b[0;34m:\u001b[0m\u001b[0;34m\u001b[0m\u001b[0;34m\u001b[0m\u001b[0m\n\u001b[1;32m     76\u001b[0m             \u001b[0;32mif\u001b[0m \u001b[0;34m(\u001b[0m\u001b[0misinstance\u001b[0m\u001b[0;34m(\u001b[0m\u001b[0mself\u001b[0m\u001b[0;34m.\u001b[0m\u001b[0mjob\u001b[0m\u001b[0;34m,\u001b[0m \u001b[0mdict\u001b[0m\u001b[0;34m)\u001b[0m\u001b[0;34m)\u001b[0m \u001b[0;32mand\u001b[0m \u001b[0;34m(\u001b[0m\u001b[0;34m\"stacktrace\"\u001b[0m \u001b[0;32min\u001b[0m \u001b[0mlist\u001b[0m\u001b[0;34m(\u001b[0m\u001b[0mself\u001b[0m\u001b[0;34m.\u001b[0m\u001b[0mjob\u001b[0m\u001b[0;34m)\u001b[0m\u001b[0;34m)\u001b[0m\u001b[0;34m:\u001b[0m\u001b[0;34m\u001b[0m\u001b[0;34m\u001b[0m\u001b[0m\n",
      "\u001b[0;31mH2OJobCancelled\u001b[0m: Job<$03017f00000132d4ffffffff$_83bb34206d62c37bb280db4376524f44> was cancelled by the user."
     ]
    }
   ],
   "source": [
    "aml = H2OAutoML(max_models=10, seed=1, balance_classes=True)\n",
    "aml.train(x=x, y=y, training_frame=data_b)"
   ]
  },
  {
   "cell_type": "code",
   "execution_count": null,
   "id": "thermal-ownership",
   "metadata": {},
   "outputs": [],
   "source": []
  }
 ],
 "metadata": {
  "kernelspec": {
   "display_name": "Python 3",
   "language": "python",
   "name": "python3"
  },
  "language_info": {
   "codemirror_mode": {
    "name": "ipython",
    "version": 3
   },
   "file_extension": ".py",
   "mimetype": "text/x-python",
   "name": "python",
   "nbconvert_exporter": "python",
   "pygments_lexer": "ipython3",
   "version": "3.6.9"
  }
 },
 "nbformat": 4,
 "nbformat_minor": 5
}
