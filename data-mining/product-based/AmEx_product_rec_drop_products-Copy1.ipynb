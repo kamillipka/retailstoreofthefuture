{
 "cells": [
  {
   "cell_type": "markdown",
   "id": "happy-trance",
   "metadata": {},
   "source": [
    "# Training AmEx dataset for product recommendations\n",
    "Try reducing number of products"
   ]
  },
  {
   "cell_type": "code",
   "execution_count": 5,
   "id": "sweet-vertical",
   "metadata": {},
   "outputs": [],
   "source": [
    "import numpy as np\n",
    "import pandas as pd\n",
    "from scipy.stats import mode\n",
    "from sklearn.preprocessing import LabelEncoder"
   ]
  },
  {
   "cell_type": "code",
   "execution_count": null,
   "id": "stainless-deviation",
   "metadata": {},
   "outputs": [],
   "source": [
    "transactions = pd.read_csv('original_data/customer_transaction_data.csv')"
   ]
  },
  {
   "cell_type": "code",
   "execution_count": null,
   "id": "distinguished-hunter",
   "metadata": {},
   "outputs": [],
   "source": [
    "transactions.head()"
   ]
  },
  {
   "cell_type": "code",
   "execution_count": null,
   "id": "precise-essex",
   "metadata": {},
   "outputs": [],
   "source": [
    "transactions.info()"
   ]
  },
  {
   "cell_type": "code",
   "execution_count": null,
   "id": "returning-liabilities",
   "metadata": {},
   "outputs": [],
   "source": [
    "counts = transactions.item_id.value_counts().to_frame(name='tran_count').reset_index().rename(columns={'index': 'item_id'})\n",
    "counts"
   ]
  },
  {
   "cell_type": "code",
   "execution_count": null,
   "id": "opposed-original",
   "metadata": {},
   "outputs": [],
   "source": [
    "print(f'Median number of transactions is {counts.tran_count.median()}')\n",
    "print(f'There are {len(transactions.item_id.unique())} unique products')\n",
    "print(f'There are {len(counts.loc[counts.tran_count > 100])} products with more than 100 transactions')\n",
    "print(f'There are {len(counts.loc[counts.tran_count > 200])} products with more than 200 transactions')\n",
    "print(f'There are {len(counts.loc[counts.tran_count > 500])} products with more than 500 transactions')"
   ]
  },
  {
   "cell_type": "markdown",
   "id": "rough-advocacy",
   "metadata": {},
   "source": [
    "### Reduce original dataset by items with fewer than 100, 200, 500 transactions"
   ]
  },
  {
   "cell_type": "code",
   "execution_count": null,
   "id": "fundamental-poultry",
   "metadata": {},
   "outputs": [],
   "source": [
    "items_100 = counts[counts.tran_count > 100].item_id\n",
    "items_200 = counts[counts.tran_count > 200].item_id\n",
    "items_500 = counts[counts.tran_count > 500].item_id"
   ]
  },
  {
   "cell_type": "code",
   "execution_count": null,
   "id": "fourth-return",
   "metadata": {},
   "outputs": [],
   "source": [
    "tran_100 = transactions.merge(items_100, on='item_id', how='right').reindex()\n",
    "tran_200 = transactions.merge(items_200, on='item_id', how='right').reindex()\n",
    "tran_500 = transactions.merge(items_500, on='item_id', how='right').reindex()"
   ]
  },
  {
   "cell_type": "code",
   "execution_count": null,
   "id": "appointed-focus",
   "metadata": {},
   "outputs": [],
   "source": [
    "print(f'There are {len(tran_100)} transactions for items with more than 100 transactions')\n",
    "print(f'There are {len(tran_200)} transactions for items with more than 200 transactions')\n",
    "print(f'There are {len(tran_500)} transactions for items with more than 500 transactions')"
   ]
  },
  {
   "cell_type": "markdown",
   "id": "dramatic-edinburgh",
   "metadata": {},
   "source": [
    "### Group by customer_id and item_id"
   ]
  },
  {
   "cell_type": "code",
   "execution_count": null,
   "id": "conditional-reservation",
   "metadata": {},
   "outputs": [],
   "source": [
    "def feature_engineer_transactions(df):\n",
    "    df['coupon_used'] = df.coupon_discount.apply(lambda x: 1 if x != 0 else 0)\n",
    "    df['discount'] = df['other_discount'] + df['coupon_discount']\n",
    "    df['selling_price'] = df['selling_price'] + df['discount']\n",
    "    df['selling_price'] = df['selling_price'] / df['quantity']\n",
    "    df.drop(['date', 'other_discount', 'coupon_discount'], axis=1, inplace=True)\n",
    "    \n",
    "    p1 = pd.pivot_table(df, index=['customer_id', 'item_id'],\n",
    "                        values=['quantity', 'selling_price', 'discount'],\n",
    "                        aggfunc={\n",
    "                            'quantity': np.mean,\n",
    "                            'selling_price': np.mean,\n",
    "                            'discount': np.mean\n",
    "                        })\n",
    "    p1.reset_index(inplace=True)\n",
    "    p1.rename(columns={'quantity': 'mean_quantity', 'selling_price': 'mean_price', 'discount': 'mean_discount'},\n",
    "              inplace=True)\n",
    "    \n",
    "    p2 = pd.pivot_table(df, index=['customer_id', 'item_id'],\n",
    "                        values=['quantity', 'selling_price', 'discount', 'coupon_used'],\n",
    "                        aggfunc={\n",
    "                            'quantity': np.sum,\n",
    "                            'selling_price': np.sum,\n",
    "                            'discount': np.sum,\n",
    "                            'coupon_used': np.sum\n",
    "                        })\n",
    "    p2.reset_index(inplace=True)\n",
    "    p2.rename(columns={'quantity': 'total_quantity', 'selling_price': 'total_price', 'discount': 'total_discount',\n",
    "                       'coupon_used': 'no_coupons_used'}, inplace=True)\n",
    "    \n",
    "    return pd.merge(p1, p2, how='left', left_on=['customer_id', 'item_id'], right_on=['customer_id', 'item_id'])"
   ]
  },
  {
   "cell_type": "code",
   "execution_count": null,
   "id": "stock-insertion",
   "metadata": {},
   "outputs": [],
   "source": [
    "tran_500 = feature_engineer_transactions(tran_500)"
   ]
  },
  {
   "cell_type": "code",
   "execution_count": null,
   "id": "hourly-shooting",
   "metadata": {},
   "outputs": [],
   "source": [
    "tran_500"
   ]
  },
  {
   "cell_type": "markdown",
   "id": "ordinary-english",
   "metadata": {},
   "source": [
    "### Deal with customer demographics"
   ]
  },
  {
   "cell_type": "code",
   "execution_count": null,
   "id": "interracial-nancy",
   "metadata": {},
   "outputs": [],
   "source": [
    "cust_demo = pd.read_csv('original_data/customer_demographics.csv')"
   ]
  },
  {
   "cell_type": "code",
   "execution_count": null,
   "id": "accepted-distance",
   "metadata": {
    "scrolled": true
   },
   "outputs": [],
   "source": [
    "cust_demo.info()"
   ]
  },
  {
   "cell_type": "code",
   "execution_count": null,
   "id": "aggressive-fraction",
   "metadata": {},
   "outputs": [],
   "source": [
    "cust_demo['family_size'] = cust_demo.family_size.apply(lambda x: int(x.replace('+', '')))\n",
    "cust_demo['no_of_children'] = cust_demo.no_of_children.apply(lambda x: int(x.replace('+', '')) if pd.notna(x) else x)\n",
    "cust_demo.loc[pd.isnull(cust_demo.marital_status) & (cust_demo.family_size == 1),\n",
    "              'marital_status'] = 'Single'\n",
    "cust_demo.loc[pd.isnull(cust_demo.marital_status) & ((cust_demo.family_size - cust_demo.no_of_children) == 1),\n",
    "              'marital_status'] = 'Single'\n",
    "cust_demo.loc[pd.isnull(cust_demo.marital_status) & ((cust_demo.family_size - cust_demo.no_of_children) == 2),\n",
    "              'marital_status'] = 'Married'\n",
    "cust_demo.loc[pd.isnull(cust_demo.marital_status) & pd.isnull(cust_demo.no_of_children) & (cust_demo.family_size == 2),\n",
    "              'marital_status'] = 'Married'\n",
    "cust_demo.loc[pd.isnull(cust_demo.no_of_children) & (cust_demo.marital_status == 'Married') & (cust_demo.family_size == 2),\n",
    "              'no_of_children'] = 0\n",
    "cust_demo.loc[pd.isnull(cust_demo.no_of_children) & (cust_demo.family_size == 1), 'no_of_children'] = 0\n",
    "cust_demo.loc[pd.isnull(cust_demo.no_of_children) & (cust_demo.family_size == 2),'no_of_children'] = 1\n",
    "cust_demo['no_of_children'] = cust_demo['no_of_children'].astype(np.int64)"
   ]
  },
  {
   "cell_type": "markdown",
   "id": "controversial-savannah",
   "metadata": {},
   "source": [
    "### Items dataframe"
   ]
  },
  {
   "cell_type": "code",
   "execution_count": null,
   "id": "future-adult",
   "metadata": {},
   "outputs": [],
   "source": [
    "items = pd.read_csv('original_data/item_data.csv')\n",
    "items"
   ]
  },
  {
   "cell_type": "code",
   "execution_count": null,
   "id": "alpha-marble",
   "metadata": {},
   "outputs": [],
   "source": [
    "items.drop('brand_type', axis=1, inplace=True)"
   ]
  },
  {
   "cell_type": "markdown",
   "id": "alien-cloud",
   "metadata": {},
   "source": [
    "## Merging tables"
   ]
  },
  {
   "cell_type": "code",
   "execution_count": null,
   "id": "naughty-motor",
   "metadata": {},
   "outputs": [],
   "source": [
    "cust_tran_500 = tran_500.merge(cust_demo, on='customer_id', how='left')"
   ]
  },
  {
   "cell_type": "code",
   "execution_count": null,
   "id": "ahead-aircraft",
   "metadata": {},
   "outputs": [],
   "source": [
    "cust_tran_500"
   ]
  },
  {
   "cell_type": "code",
   "execution_count": null,
   "id": "exciting-perry",
   "metadata": {},
   "outputs": [],
   "source": [
    "cust_tran_500.isnull().sum()"
   ]
  },
  {
   "cell_type": "code",
   "execution_count": null,
   "id": "excessive-chain",
   "metadata": {},
   "outputs": [],
   "source": [
    "cust_tran_500['age_range'].fillna(cust_tran_500['age_range'].mode()[0], inplace=True)\n",
    "cust_tran_500['marital_status'].fillna(cust_tran_500['marital_status'].mode()[0], inplace=True)\n",
    "cust_tran_500['rented'].fillna(cust_tran_500['rented'].mode()[0], inplace=True)\n",
    "cust_tran_500['family_size'].fillna(cust_tran_500['family_size'].mode()[0], inplace=True)\n",
    "cust_tran_500['no_of_children'].fillna(cust_tran_500['no_of_children'].mode()[0], inplace=True)\n",
    "cust_tran_500['income_bracket'].fillna(cust_tran_500['income_bracket'].mode()[0], inplace=True)"
   ]
  },
  {
   "cell_type": "code",
   "execution_count": null,
   "id": "valuable-cambodia",
   "metadata": {},
   "outputs": [],
   "source": [
    "cust_tran_item_500 = cust_tran_500.merge(items, on='item_id', how='left')\n",
    "cust_tran_item_500"
   ]
  },
  {
   "cell_type": "code",
   "execution_count": null,
   "id": "systematic-controversy",
   "metadata": {},
   "outputs": [],
   "source": [
    "cust_tran_item_500.isnull().sum()"
   ]
  },
  {
   "cell_type": "code",
   "execution_count": null,
   "id": "forbidden-franklin",
   "metadata": {},
   "outputs": [],
   "source": [
    "cust_tran_item_500.drop('customer_id', axis=1, inplace=True)"
   ]
  },
  {
   "cell_type": "markdown",
   "id": "educational-congress",
   "metadata": {},
   "source": [
    "## Feature Encoding"
   ]
  },
  {
   "cell_type": "code",
   "execution_count": null,
   "id": "atmospheric-reminder",
   "metadata": {},
   "outputs": [],
   "source": [
    "cust_tran_item_500.info()"
   ]
  },
  {
   "cell_type": "code",
   "execution_count": null,
   "id": "improving-brass",
   "metadata": {},
   "outputs": [],
   "source": [
    "cust_tran_item_500.age_range.unique()"
   ]
  },
  {
   "cell_type": "code",
   "execution_count": null,
   "id": "greek-density",
   "metadata": {},
   "outputs": [],
   "source": [
    "le = LabelEncoder()\n",
    "cust_tran_item_500['age_range'] = le.fit_transform(cust_tran_item_500['age_range'])"
   ]
  },
  {
   "cell_type": "code",
   "execution_count": null,
   "id": "bigger-facing",
   "metadata": {},
   "outputs": [],
   "source": [
    "print('Age range labels:')\n",
    "for i, cls in enumerate(le.classes_):\n",
    "    print(f'{cls} - {i}')"
   ]
  },
  {
   "cell_type": "code",
   "execution_count": null,
   "id": "innocent-margin",
   "metadata": {},
   "outputs": [],
   "source": [
    "cust_tran_item_500.marital_status.unique()"
   ]
  },
  {
   "cell_type": "code",
   "execution_count": null,
   "id": "aquatic-south",
   "metadata": {},
   "outputs": [],
   "source": [
    "cust_tran_item_500['marital_status'] = le.fit_transform(cust_tran_item_500['marital_status'])"
   ]
  },
  {
   "cell_type": "code",
   "execution_count": null,
   "id": "interracial-newfoundland",
   "metadata": {},
   "outputs": [],
   "source": [
    "print('Marital Status labels:')\n",
    "for i, cls in enumerate(le.classes_):\n",
    "    print(f'{cls} - {i}')"
   ]
  },
  {
   "cell_type": "code",
   "execution_count": null,
   "id": "preceding-polls",
   "metadata": {},
   "outputs": [],
   "source": [
    "cust_tran_item_500 = pd.get_dummies(cust_tran_item_500, columns=['category'])\n",
    "cust_tran_item_500"
   ]
  },
  {
   "cell_type": "markdown",
   "id": "chronic-treaty",
   "metadata": {},
   "source": [
    "## Training"
   ]
  },
  {
   "cell_type": "code",
   "execution_count": null,
   "id": "satellite-orlando",
   "metadata": {},
   "outputs": [],
   "source": [
    "from sklearn.experimental import enable_hist_gradient_boosting\n",
    "from sklearn.ensemble import HistGradientBoostingClassifier\n",
    "from sklearn.model_selection import train_test_split"
   ]
  },
  {
   "cell_type": "code",
   "execution_count": null,
   "id": "declared-battlefield",
   "metadata": {},
   "outputs": [],
   "source": [
    "train, test = train_test_split(cust_tran_item_500, test_size=0.2, random_state=42)"
   ]
  },
  {
   "cell_type": "code",
   "execution_count": null,
   "id": "enormous-exhaust",
   "metadata": {},
   "outputs": [],
   "source": []
  },
  {
   "cell_type": "code",
   "execution_count": null,
   "id": "entertaining-hepatitis",
   "metadata": {},
   "outputs": [],
   "source": []
  },
  {
   "cell_type": "code",
   "execution_count": null,
   "id": "human-oxide",
   "metadata": {},
   "outputs": [],
   "source": []
  }
 ],
 "metadata": {
  "kernelspec": {
   "display_name": "Python 3",
   "language": "python",
   "name": "python3"
  },
  "language_info": {
   "codemirror_mode": {
    "name": "ipython",
    "version": 3
   },
   "file_extension": ".py",
   "mimetype": "text/x-python",
   "name": "python",
   "nbconvert_exporter": "python",
   "pygments_lexer": "ipython3",
   "version": "3.6.9"
  }
 },
 "nbformat": 4,
 "nbformat_minor": 5
}
