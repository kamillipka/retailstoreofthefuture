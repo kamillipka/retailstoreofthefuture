{
 "cells": [
  {
   "cell_type": "markdown",
   "id": "catholic-liquid",
   "metadata": {},
   "source": [
    "# Training on data with remapped categories"
   ]
  },
  {
   "cell_type": "code",
   "execution_count": 1,
   "id": "technological-accounting",
   "metadata": {},
   "outputs": [],
   "source": [
    "from imblearn.over_sampling import SMOTE\n",
    "import pandas as pd\n",
    "from sklearn import ensemble\n",
    "from sklearn.metrics import confusion_matrix, classification_report\n",
    "from sklearn.model_selection import train_test_split"
   ]
  },
  {
   "cell_type": "code",
   "execution_count": 2,
   "id": "instrumental-specialist",
   "metadata": {},
   "outputs": [
    {
     "name": "stdout",
     "output_type": "stream",
     "text": [
      "<class 'pandas.core.frame.DataFrame'>\n",
      "RangeIndex: 289552 entries, 0 to 289551\n",
      "Data columns (total 22 columns):\n",
      " #   Column                           Non-Null Count   Dtype  \n",
      "---  ------                           --------------   -----  \n",
      " 0   redemption_status                289552 non-null  int64  \n",
      " 1   age_range                        289552 non-null  int64  \n",
      " 2   marital_status                   289552 non-null  int64  \n",
      " 3   family_size                      289552 non-null  int64  \n",
      " 4   no_of_children                   289552 non-null  int64  \n",
      " 5   income_bracket                   289552 non-null  int64  \n",
      " 6   gender                           289552 non-null  int64  \n",
      " 7   mean_discount_used_by_cust       289552 non-null  float64\n",
      " 8   unique_items_bought_by_cust      289552 non-null  int64  \n",
      " 9   mean_selling_price_paid_by_cust  289552 non-null  float64\n",
      " 10  mean_quantity_bought_by_cust     289552 non-null  float64\n",
      " 11  total_discount_used_by_cust      289552 non-null  float64\n",
      " 12  total_coupons_used_by_cust       289552 non-null  int64  \n",
      " 13  total_price_paid_by_cust         289552 non-null  float64\n",
      " 14  total_quantity_bought_by_cust    289552 non-null  int64  \n",
      " 15  mean_coupon_discount             289552 non-null  float64\n",
      " 16  mean_item_price                  289552 non-null  float64\n",
      " 17  category_Boys                    289552 non-null  int64  \n",
      " 18  category_Girls                   289552 non-null  int64  \n",
      " 19  category_Men                     289552 non-null  int64  \n",
      " 20  category_Sport                   289552 non-null  int64  \n",
      " 21  category_Women                   289552 non-null  int64  \n",
      "dtypes: float64(7), int64(15)\n",
      "memory usage: 48.6 MB\n"
     ]
    }
   ],
   "source": [
    "data = pd.read_csv('prepped-data/train.csv')\n",
    "data.info()"
   ]
  },
  {
   "cell_type": "markdown",
   "id": "numeric-classic",
   "metadata": {},
   "source": [
    "### Oversampling"
   ]
  },
  {
   "cell_type": "code",
   "execution_count": 3,
   "id": "configured-recruitment",
   "metadata": {},
   "outputs": [
    {
     "data": {
      "text/plain": [
       "0    0.989007\n",
       "1    0.010993\n",
       "Name: redemption_status, dtype: float64"
      ]
     },
     "execution_count": 3,
     "metadata": {},
     "output_type": "execute_result"
    }
   ],
   "source": [
    "data.redemption_status.value_counts(normalize=True)"
   ]
  },
  {
   "cell_type": "code",
   "execution_count": 4,
   "id": "consolidated-avatar",
   "metadata": {},
   "outputs": [],
   "source": [
    "data_y = data['redemption_status']\n",
    "data_x = data.drop(['redemption_status'], axis=1)\n",
    "xtrain, xtest, ytrain, ytest = train_test_split(data_x, data_y)"
   ]
  },
  {
   "cell_type": "code",
   "execution_count": 5,
   "id": "stopped-device",
   "metadata": {},
   "outputs": [
    {
     "data": {
      "text/plain": [
       "0    0.769232\n",
       "1    0.230768\n",
       "Name: redemption_status, dtype: float64"
      ]
     },
     "execution_count": 5,
     "metadata": {},
     "output_type": "execute_result"
    }
   ],
   "source": [
    "smote = SMOTE(sampling_strategy=0.3)\n",
    "xtrain_resampled, ytrain_resampled = smote.fit_resample(xtrain, ytrain)\n",
    "ytrain_resampled.value_counts(normalize=True)"
   ]
  },
  {
   "cell_type": "markdown",
   "id": "prime-basketball",
   "metadata": {},
   "source": [
    "### Training"
   ]
  },
  {
   "cell_type": "code",
   "execution_count": 6,
   "id": "subjective-optimization",
   "metadata": {},
   "outputs": [
    {
     "data": {
      "text/plain": [
       "GradientBoostingClassifier(learning_rate=0.01, max_depth=15, max_leaf_nodes=627,\n",
       "                           min_samples_split=5, n_estimators=191)"
      ]
     },
     "execution_count": 6,
     "metadata": {},
     "output_type": "execute_result"
    }
   ],
   "source": [
    "params = {\n",
    "    'n_estimators': 191,\n",
    "    'max_depth': 15,\n",
    "    'min_samples_split': 5,\n",
    "    'learning_rate': 0.01,\n",
    "    'max_leaf_nodes': 627\n",
    "}\n",
    "gbm = ensemble.GradientBoostingClassifier(**params)\n",
    "gbm.fit(xtrain_resampled, ytrain_resampled)"
   ]
  },
  {
   "cell_type": "markdown",
   "id": "cathedral-partner",
   "metadata": {},
   "source": [
    "### Evaluating"
   ]
  },
  {
   "cell_type": "code",
   "execution_count": 7,
   "id": "alternate-request",
   "metadata": {},
   "outputs": [],
   "source": [
    "preds = pd.Series(gbm.predict(data_x))"
   ]
  },
  {
   "cell_type": "code",
   "execution_count": 8,
   "id": "accredited-projector",
   "metadata": {},
   "outputs": [
    {
     "data": {
      "text/plain": [
       "0    287892\n",
       "1      1660\n",
       "dtype: int64"
      ]
     },
     "execution_count": 8,
     "metadata": {},
     "output_type": "execute_result"
    }
   ],
   "source": [
    "preds.value_counts()"
   ]
  },
  {
   "cell_type": "code",
   "execution_count": 9,
   "id": "negative-cycle",
   "metadata": {},
   "outputs": [
    {
     "data": {
      "text/plain": [
       "0    286369\n",
       "1      3183\n",
       "Name: redemption_status, dtype: int64"
      ]
     },
     "execution_count": 9,
     "metadata": {},
     "output_type": "execute_result"
    }
   ],
   "source": [
    "data_y.value_counts()"
   ]
  },
  {
   "cell_type": "code",
   "execution_count": 10,
   "id": "robust-musician",
   "metadata": {},
   "outputs": [
    {
     "data": {
      "text/html": [
       "<div>\n",
       "<style scoped>\n",
       "    .dataframe tbody tr th:only-of-type {\n",
       "        vertical-align: middle;\n",
       "    }\n",
       "\n",
       "    .dataframe tbody tr th {\n",
       "        vertical-align: top;\n",
       "    }\n",
       "\n",
       "    .dataframe thead th {\n",
       "        text-align: right;\n",
       "    }\n",
       "</style>\n",
       "<table border=\"1\" class=\"dataframe\">\n",
       "  <thead>\n",
       "    <tr style=\"text-align: right;\">\n",
       "      <th>Predicted</th>\n",
       "      <th>0</th>\n",
       "      <th>1</th>\n",
       "      <th>All</th>\n",
       "    </tr>\n",
       "    <tr>\n",
       "      <th>Actual</th>\n",
       "      <th></th>\n",
       "      <th></th>\n",
       "      <th></th>\n",
       "    </tr>\n",
       "  </thead>\n",
       "  <tbody>\n",
       "    <tr>\n",
       "      <th>0</th>\n",
       "      <td>285596</td>\n",
       "      <td>773</td>\n",
       "      <td>286369</td>\n",
       "    </tr>\n",
       "    <tr>\n",
       "      <th>1</th>\n",
       "      <td>2296</td>\n",
       "      <td>887</td>\n",
       "      <td>3183</td>\n",
       "    </tr>\n",
       "    <tr>\n",
       "      <th>All</th>\n",
       "      <td>287892</td>\n",
       "      <td>1660</td>\n",
       "      <td>289552</td>\n",
       "    </tr>\n",
       "  </tbody>\n",
       "</table>\n",
       "</div>"
      ],
      "text/plain": [
       "Predicted       0     1     All\n",
       "Actual                         \n",
       "0          285596   773  286369\n",
       "1            2296   887    3183\n",
       "All        287892  1660  289552"
      ]
     },
     "execution_count": 10,
     "metadata": {},
     "output_type": "execute_result"
    }
   ],
   "source": [
    "pd.crosstab(data_y, preds, rownames=['Actual'], colnames=['Predicted'], margins=True)"
   ]
  },
  {
   "cell_type": "code",
   "execution_count": 11,
   "id": "recreational-charm",
   "metadata": {},
   "outputs": [
    {
     "name": "stdout",
     "output_type": "stream",
     "text": [
      "              precision    recall  f1-score   support\n",
      "\n",
      "           0       0.99      1.00      0.99    286369\n",
      "           1       0.53      0.28      0.37      3183\n",
      "\n",
      "    accuracy                           0.99    289552\n",
      "   macro avg       0.76      0.64      0.68    289552\n",
      "weighted avg       0.99      0.99      0.99    289552\n",
      "\n"
     ]
    }
   ],
   "source": [
    "print(classification_report(data_y, preds))"
   ]
  },
  {
   "cell_type": "code",
   "execution_count": 12,
   "id": "informal-sellers",
   "metadata": {},
   "outputs": [],
   "source": [
    "proba = pd.Series(gbm.predict_proba(data_x)[:,1])"
   ]
  },
  {
   "cell_type": "code",
   "execution_count": 13,
   "id": "destroyed-functionality",
   "metadata": {},
   "outputs": [],
   "source": [
    "preds_02 = proba.apply(lambda x: 1 if x > 0.2 else 0)"
   ]
  },
  {
   "cell_type": "code",
   "execution_count": 14,
   "id": "combined-participation",
   "metadata": {},
   "outputs": [
    {
     "data": {
      "text/html": [
       "<div>\n",
       "<style scoped>\n",
       "    .dataframe tbody tr th:only-of-type {\n",
       "        vertical-align: middle;\n",
       "    }\n",
       "\n",
       "    .dataframe tbody tr th {\n",
       "        vertical-align: top;\n",
       "    }\n",
       "\n",
       "    .dataframe thead th {\n",
       "        text-align: right;\n",
       "    }\n",
       "</style>\n",
       "<table border=\"1\" class=\"dataframe\">\n",
       "  <thead>\n",
       "    <tr style=\"text-align: right;\">\n",
       "      <th>Predicted</th>\n",
       "      <th>0</th>\n",
       "      <th>1</th>\n",
       "      <th>All</th>\n",
       "    </tr>\n",
       "    <tr>\n",
       "      <th>Actual</th>\n",
       "      <th></th>\n",
       "      <th></th>\n",
       "      <th></th>\n",
       "    </tr>\n",
       "  </thead>\n",
       "  <tbody>\n",
       "    <tr>\n",
       "      <th>0</th>\n",
       "      <td>280176</td>\n",
       "      <td>6193</td>\n",
       "      <td>286369</td>\n",
       "    </tr>\n",
       "    <tr>\n",
       "      <th>1</th>\n",
       "      <td>1281</td>\n",
       "      <td>1902</td>\n",
       "      <td>3183</td>\n",
       "    </tr>\n",
       "    <tr>\n",
       "      <th>All</th>\n",
       "      <td>281457</td>\n",
       "      <td>8095</td>\n",
       "      <td>289552</td>\n",
       "    </tr>\n",
       "  </tbody>\n",
       "</table>\n",
       "</div>"
      ],
      "text/plain": [
       "Predicted       0     1     All\n",
       "Actual                         \n",
       "0          280176  6193  286369\n",
       "1            1281  1902    3183\n",
       "All        281457  8095  289552"
      ]
     },
     "execution_count": 14,
     "metadata": {},
     "output_type": "execute_result"
    }
   ],
   "source": [
    "pd.crosstab(data_y, preds_02, rownames=['Actual'], colnames=['Predicted'], margins=True)"
   ]
  },
  {
   "cell_type": "code",
   "execution_count": 15,
   "id": "baking-telescope",
   "metadata": {},
   "outputs": [
    {
     "name": "stdout",
     "output_type": "stream",
     "text": [
      "              precision    recall  f1-score   support\n",
      "\n",
      "           0       1.00      0.98      0.99    286369\n",
      "           1       0.23      0.60      0.34      3183\n",
      "\n",
      "    accuracy                           0.97    289552\n",
      "   macro avg       0.62      0.79      0.66    289552\n",
      "weighted avg       0.99      0.97      0.98    289552\n",
      "\n"
     ]
    }
   ],
   "source": [
    "print(classification_report(data_y, preds_02))"
   ]
  },
  {
   "cell_type": "markdown",
   "id": "exterior-establishment",
   "metadata": {},
   "source": [
    "## Pickle model"
   ]
  },
  {
   "cell_type": "code",
   "execution_count": 16,
   "id": "tropical-mounting",
   "metadata": {},
   "outputs": [],
   "source": [
    "import os\n",
    "import pickle"
   ]
  },
  {
   "cell_type": "code",
   "execution_count": 17,
   "id": "photographic-watts",
   "metadata": {},
   "outputs": [],
   "source": [
    "if not os.path.exists('pickled_models'):\n",
    "    os.mkdir ('pickled_models')"
   ]
  },
  {
   "cell_type": "code",
   "execution_count": 18,
   "id": "complex-poker",
   "metadata": {},
   "outputs": [],
   "source": [
    "with open('pickled_models/scikit_classifier', 'wb') as f:\n",
    "    pickle.dump(gbm, f)"
   ]
  },
  {
   "cell_type": "code",
   "execution_count": null,
   "id": "executed-nigeria",
   "metadata": {},
   "outputs": [],
   "source": []
  }
 ],
 "metadata": {
  "kernelspec": {
   "display_name": "Python 3",
   "language": "python",
   "name": "python3"
  },
  "language_info": {
   "codemirror_mode": {
    "name": "ipython",
    "version": 3
   },
   "file_extension": ".py",
   "mimetype": "text/x-python",
   "name": "python",
   "nbconvert_exporter": "python",
   "pygments_lexer": "ipython3",
   "version": "3.7.7"
  }
 },
 "nbformat": 4,
 "nbformat_minor": 5
}
